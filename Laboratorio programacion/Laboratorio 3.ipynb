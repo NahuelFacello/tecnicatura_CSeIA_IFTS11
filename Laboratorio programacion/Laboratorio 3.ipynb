{
 "cells": [
  {
   "cell_type": "markdown",
   "metadata": {
    "id": "2NTpQa003S-B"
   },
   "source": [
    "# Laboratorio UNIDAD 3\n",
    "\n",
    "## Valores Booleanos, Ejecución Condicional, Bucles, Listas y su procesamiento, Operaciones Lógicas y de Bit a Bit\n",
    "\n",
    "\n",
    "\n"
   ]
  },
  {
   "cell_type": "markdown",
   "metadata": {
    "id": "OcsiHGI-5Rfy"
   },
   "source": [
    "### Ejercicio 1\n",
    "\n",
    "¿Cuál es el resultado de las siguientes comparaciones?"
   ]
  },
  {
   "cell_type": "code",
   "execution_count": null,
   "metadata": {
    "id": "jzD2pTiy454j"
   },
   "outputs": [],
   "source": [
    "2==2\n",
    "#Resultado: True\n",
    "2==2.\n",
    "#Resultado: True\n",
    "1==2\n",
    "#Resultado: False"
   ]
  },
  {
   "cell_type": "markdown",
   "metadata": {
    "id": "oOXt9cDe5cc4"
   },
   "source": [
    "### Ejercicio 2\n",
    "\n",
    "Usando uno de los operadores de comparación en Python, escribe un programa simple de dos líneas que tome el parámetro n como entrada, que es un entero, e imprime False si n es menor que 100, y True if n es mayor o igual que 100. No debes crear ningún bloque if."
   ]
  },
  {
   "cell_type": "code",
   "execution_count": 7,
   "metadata": {
    "colab": {
     "base_uri": "https://localhost:8080/",
     "height": 0
    },
    "id": "gfwJGR2T5brx",
    "outputId": "79e81c83-89b3-408d-8481-e16f064ef4cf"
   },
   "outputs": [
    {
     "name": "stdout",
     "output_type": "stream",
     "text": [
      "Ingrese un número entero: 150\n",
      "True\n"
     ]
    }
   ],
   "source": [
    "n = int(input(\"Ingrese un número entero: \"))\n",
    "print(n >= 100)"
   ]
  },
  {
   "cell_type": "markdown",
   "metadata": {
    "id": "XG2nrM7m6X5Z"
   },
   "source": [
    "### Ejercicio 3\n",
    "\n",
    "Se debe calcular el pago de un impuesto, denominado Impuesto Personal de Ingresos (IPI, para abreviar) utilizando la siguiente regla:\n",
    "\n",
    "• si el ingreso del ciudadano no era superior a (pesos) 85528 el impuesto era igual al 18% del ingreso menos $556,02 (esta fue la llamada exención fiscal).\n",
    "\n",
    "• si el ingreso era superior a esta cantidad, el impuesto era igual a $14839.02, más el 32% del excedente sobre 85528 pesos. (Formula = (valoringresado – 85528) x 0.32 + 14839.02)\n",
    "Si el impuesto calculado es menor que cero, solo significa que no hay impuesto (el impuesto es igual a cero).\n",
    "\n",
    "Tu tarea es escribir una calculadora de impuestos.\n",
    "\n",
    "Debe aceptar un valor de punto flotante: el ingreso.\n",
    "\n",
    "A continuación, debe imprimir el impuesto calculado, redondeado a pesos totales. Hay una función llamada round() que hará el redondeo."
   ]
  },
  {
   "cell_type": "code",
   "execution_count": 9,
   "metadata": {
    "colab": {
     "base_uri": "https://localhost:8080/",
     "height": 0
    },
    "id": "UMi1Iu1g9O4B",
    "outputId": "382b7c22-0e31-4221-d825-6c1e367bb38e"
   },
   "outputs": [
    {
     "name": "stdout",
     "output_type": "stream",
     "text": [
      "Ingrese los ingresos del ciudadano: 998000\n",
      "El IPI es igual a: 306830\n"
     ]
    }
   ],
   "source": [
    "IPI = 0\n",
    "ingreso = float(input(\"Ingrese los ingresos del ciudadano: \"))\n",
    "if ingreso <= 85528:\n",
    "    IPI = round(ingreso * 0.18-566.02)\n",
    "else:\n",
    "    IPI = round((ingreso - 85528) * 0.32 + 14839.02)\n",
    "if IPI < 0:\n",
    "    IPI = 0\n",
    "print(\"El IPI es igual a:\", round(IPI,0))\n"
   ]
  },
  {
   "cell_type": "markdown",
   "metadata": {
    "id": "WerZVaDuALgl"
   },
   "source": [
    "### Ejercicio 4\n",
    "\n",
    "Como seguramente sabrás, debido a algunas razones astronómicas, el año puede ser bisiesto o común. Los primeros tienen una duración de 366 días, mientras que los últimos tienen una duración de 365 días.\n",
    "\n",
    "Desde la introducción del calendario Gregoriano (en 1582), se utiliza la siguiente regla para determinar el tipo de año:\n",
    "\n",
    "• si el número del año no es divisible entre cuatro, es un año común.\n",
    "\n",
    "• de lo contrario, si el número del año no es divisible entre 100, es un año bisiesto.\n",
    "\n",
    "• de lo contrario, si el número del año no es divisible entre 400, es un año común.\n",
    "\n",
    "• de lo contrario, es un año bisiesto.\n",
    "\n",
    "\n",
    "Observa el código en el editor - solo lee un número de año y debe completarse con las instrucciones que implementan la prueba que acabamos de describir.\n",
    "\n",
    "El código debe mostrar uno de los dos mensajes posibles, que son Año Bisiesto o Año Común, según el valor ingresado.\n",
    "\n",
    "Sería bueno verificar si el año ingresado cae en la era Gregoriana y emitir una advertencia de lo contrario: No dentro del período del calendario Gregoriano.\n",
    "\n",
    "Consejo: utiliza los operadores != y %.\n",
    "\n",
    "\n",
    "\n",
    "```\n",
    "year = int(input(\"Introduce un año: \"))\n",
    "\n",
    "if year < 1582:\n",
    "    print(\"No esta dentro del período del calendario Gregoriano\")\n",
    "else:\n",
    "    # Escribe el bloque if-elif-elif-else aquí.\n",
    "```\n",
    "\n"
   ]
  },
  {
   "cell_type": "code",
   "execution_count": 10,
   "metadata": {
    "colab": {
     "base_uri": "https://localhost:8080/",
     "height": 0
    },
    "id": "KbvQzaMcAopO",
    "outputId": "2ee2389f-a03b-4c30-b715-4c5d901f9f0a"
   },
   "outputs": [
    {
     "name": "stdout",
     "output_type": "stream",
     "text": [
      "Introduzca un año:2022\n",
      "No es bisiesto\n"
     ]
    }
   ],
   "source": [
    "year = int(input(\"Introduzca un año:\"))\n",
    "\n",
    "if year <= 1583:\n",
    "    print(year, \"No es un año dentro del periodo del calendario gregoriano\")\n",
    "if year % 4 != 0: #no divisible entre 4\n",
    "\tprint(\"No es bisiesto\")\n",
    "elif year % 4 == 0 and year % 100 != 0: #divisible entre 4 y no entre 100 o 400\n",
    "\tprint(\"Es bisiesto\")\n",
    "elif year % 4 == 0 and year % 100 == 0 and year % 400 != 0: #divisible entre 4 y 10 y no entre 400\n",
    "\tprint(\"No es bisiesto\")\n",
    "elif year % 4 == 0 and year % 100 == 0 and year % 400 == 0: #divisible entre 4, 100 y 400\n",
    "\tprint(\"Es bisiesto\")"
   ]
  },
  {
   "cell_type": "markdown",
   "metadata": {
    "id": "U7SA8Ft0BIY-"
   },
   "source": [
    "### Ejercicio 5\n",
    "\n",
    "¿Cuál es el resultado del siguiente fragmento de código?"
   ]
  },
  {
   "cell_type": "code",
   "execution_count": null,
   "metadata": {
    "id": "kGlQXfQ-BKqF"
   },
   "outputs": [],
   "source": [
    "x = 5\n",
    "y = 10\n",
    "z = 8\n",
    "print(x > y)\n",
    "print(y > z)\n",
    "# resultado: False\n",
    "# resultado: True\n",
    "\n",
    "x,y,z, = 5,10,8\n",
    "print(x > z)\n",
    "print((y-5) == x)\n",
    "# resultado: False\n",
    "# resultado: True\n",
    "\n",
    "x,y,z = 5, 10, 8\n",
    "x,y,z = z, y, x\n",
    "print(x > z)\n",
    "print((y-5) == x)\n",
    "# resultado: True\n",
    "# resultado: False\n",
    "\n",
    "x = 10\n",
    "if x == 10:\n",
    "    print(x == 10)\n",
    "if x > 5:\n",
    "    print(x>5)\n",
    "if x < 10:\n",
    "    print(x<10)\n",
    "else:\n",
    "    print(\"else\")\n",
    "# resultado: True\n",
    "# resultado: True\n",
    "# resultado: else\n",
    "\n",
    "x = \"1\"\n",
    "if x == 1:\n",
    "    print(\"one\")\n",
    "elif x == \"1\":\n",
    "    if int(x)>1:\n",
    "        print(\"two\")\n",
    "    elif int(x)<1:\n",
    "        print(\"three\")\n",
    "    else:\n",
    "        print(\"four\")\n",
    "if int(x) == 1:\n",
    "    print(\"five\")\n",
    "else:\n",
    "    print(\"six\")\n",
    "# resultado: four\n",
    "# resultado: five\n",
    "\n",
    "\n",
    "x = 1\n",
    "y = 1.0\n",
    "z = \"1\"\n",
    "if x == y:\n",
    "    print(\"one\")\n",
    "if y == int(z):\n",
    "    print(\"two\")\n",
    "elif x == y:\n",
    "    print(\"three\")\n",
    "else:\n",
    "    print(\"four\")\n",
    "# resultado: one\n",
    "# resultado: two"
   ]
  },
  {
   "cell_type": "markdown",
   "metadata": {
    "id": "bn8MjTsZEIV2"
   },
   "source": [
    "### Ejercicio 6\n",
    "\n",
    "Un mago junior ha elegido un número secreto. Lo ha escondido en una variable llamada secret_number. Quiere que todos los que ejecutan su programa jueguen el juego Adivina el número secreto, y adivina qué número ha elegido para ellos. ¡Quiénes no adivinen el número quedarán atrapados en un bucle sin fin para siempre! Desafortunadamente, él no sabe cómo completar el código.\n",
    "\n",
    "Tu tarea es ayudar al mago a completar el código en el editor de tal manera que el código:\n",
    "\n",
    "• pedirá al usuario que ingrese un número entero;\n",
    "\n",
    "• utilizará un bucle while;\n",
    "\n",
    "• comprobará si el número ingresado por el usuario es el mismo que el número escogido por el mago. Si el número elegido por el usuario es diferente al número secreto del mago, el usuario debería ver el mensaje \"¡Ja, ja! ¡Estás atrapado en mi bucle!\" y se le solicitará que ingrese un número nuevamente. Si el número ingresado por el usuario coincide con el número escogido por el mago, el número debe imprimirse en la pantalla, y el mago debe decir las siguientes palabras: \"¡Bien hecho! Eres libre ahora.\"\n",
    "\n",
    "INFO EXTRA\n",
    "\n",
    "Por cierto, observa la función print(). La forma en que lo hemos utilizado aquí se llama impresión multilínea. Puedes utilizar comillas triples para imprimir cadenas en varias líneas para facilitar la lectura del texto o crear un diseño especial basado en texto. Experimenta con ello.\n",
    "\n",
    "secret_number = 777 print( \"\"\"\n",
    "\n",
    "+================================+\n",
    "\n",
    "| ¡Bienvenido a mi juego! |\n",
    "\n",
    "| Introduce un número entero |\n",
    "\n",
    "| y adivina qué número he |\n",
    "\n",
    "| elegido para ti. |\n",
    "\n",
    "|¿Cuál es el número secreto? |\n",
    "\n",
    "+================================+\n",
    "\n",
    "\"\"\")"
   ]
  },
  {
   "cell_type": "code",
   "execution_count": 11,
   "metadata": {
    "colab": {
     "base_uri": "https://localhost:8080/",
     "height": 0
    },
    "id": "TjNTGnpGEr1t",
    "outputId": "0856484e-c6e1-4609-9f64-cc2878e6804f"
   },
   "outputs": [
    {
     "name": "stdout",
     "output_type": "stream",
     "text": [
      "\n",
      "+================================+\n",
      "| ¡Bienvenido a mi juego!        |\n",
      "| Introduce un número entero     |\n",
      "| y adivina qué número he        |\n",
      "| elegido para ti.               |\n",
      "|¿Cuál es el número secreto?     |\n",
      "+================================+\n",
      "\n",
      "Escribe aqui: 546\n",
      "\n",
      "\"¡Ja, ja! ¡Estás atrapado en mi bucle!\"\n",
      "\n",
      "\n",
      "Sigue intentandolo :\n",
      "\n",
      "\n",
      "777\n",
      "\n",
      " 777 \n",
      " \n",
      "¡Bien hecho! Eres libre ahora!\n"
     ]
    }
   ],
   "source": [
    "secret_number = 777\n",
    "numIni = int(input('''\n",
    "+================================+\n",
    "| ¡Bienvenido a mi juego!        |\n",
    "| Introduce un número entero     |\n",
    "| y adivina qué número he        |\n",
    "| elegido para ti.               |\n",
    "|¿Cuál es el número secreto?     |\n",
    "+================================+\n",
    "\n",
    "Escribe aqui: '''))\n",
    "\n",
    "while numIni != secret_number:\n",
    "    numIni = int(input('''\n",
    "\"¡Ja, ja! ¡Estás atrapado en mi bucle!\"\n",
    "\n",
    "\n",
    "Sigue intentandolo :\n",
    "\n",
    "\n",
    "'''))\n",
    "print(\"\\n\", secret_number,\"\\n\", \"\\n¡Bien hecho! Eres libre ahora!\")\n"
   ]
  },
  {
   "cell_type": "markdown",
   "metadata": {
    "id": "w72H40rGE_Xs"
   },
   "source": [
    "### Ejercicio 7\n",
    "\n",
    "La instrucción break se implementa para salir/terminar un bucle.\n",
    "\n",
    "Diseña un programa que use un bucle while y le pida continuamente al usuario que ingrese una palabra a menos que ingrese \"chupacabra\" como la palabra de output secreta, en cuyo caso el mensaje \"Has dejado el bucle con éxito.\" debe imprimirse en la pantalla y el bucle debe terminar.\n",
    "\n",
    "No imprimas ninguna de las palabras ingresadas por el usuario.\n",
    "\n",
    "Utiliza el concepto de ejecución condicional y la sentencia break.\n",
    "\n",
    "      while True:\n",
    "\n",
    "      Escribir código en el cuerpo del bucle.\n",
    "\n",
    "      Colocar una sentencia condicional.\n",
    "\n",
    "      Salir del bucle aquí.\n",
    "\n",
    "      Imprimir el mensaje."
   ]
  },
  {
   "cell_type": "code",
   "execution_count": 12,
   "metadata": {
    "colab": {
     "base_uri": "https://localhost:8080/",
     "height": 0
    },
    "id": "flioeVHmF-2v",
    "outputId": "c56651bb-8ae8-41b7-c8ca-016ddfc6baf3"
   },
   "outputs": [
    {
     "name": "stdout",
     "output_type": "stream",
     "text": [
      "Ingresa una palabra: Hola\n",
      "Ingresa una palabra: Chau\n",
      "Ingresa una palabra: Chupacabras\n",
      "Has dejado el bucle en 2 intentos.\n"
     ]
    }
   ],
   "source": [
    "contador = 0\n",
    "while True:\n",
    "    ingreso = str (input (\"Ingresa una palabra: \"))\n",
    "    if ingreso == \"Chupacabras\":\n",
    "        print(\"Has dejado el bucle en\", contador, \"intentos.\")\n",
    "        break\n",
    "    contador += 1"
   ]
  },
  {
   "cell_type": "markdown",
   "metadata": {
    "id": "gnAnoCchGGK1"
   },
   "source": [
    "### Ejercicio 8\n",
    "\n",
    "\n",
    "La sentencia continue se usa para omitir el bloque actual y avanzar a la siguiente iteración, sin ejecutar las sentencias dentro del bucle.\n",
    "Se puede usar tanto con bucles while y for.\n",
    "\n",
    "Tu tarea aquí es muy especial: ¡Debes diseñar un devorador de vocales! Escribe un programa que use:\n",
    "\n",
    "• un bucle for\n",
    "\n",
    "• el concepto de ejecución condicional (if-elif-else).\n",
    "\n",
    "• la sentencia continue.\n",
    "\n",
    "Tu programa debe:\n",
    "\n",
    "• pedir al usuario que ingrese una palabra.\n",
    "\n",
    "• utiliza user_word = user_word.upper() para convertir la palabra ingresada por el usuario a mayúsculas.\n",
    "\n",
    "• utiliza la ejecución condicional y la instrucción continue para \"devorar\" las siguientes vocales A, E, I, O, U de la palabra ingresada.\n",
    "\n",
    "• imprime las letras no consumidas en la pantalla, cada una de ellas en una línea separada\n",
    "\n",
    "      Ejemplo:\n",
    "      user_word = input(\"Ingresa tu palabra: \") user_word = user_word.upper () for letter in user_word:\n",
    "      # if-elif-else block, sentencias continue anidadas\n",
    "      # ...\n",
    "      # ...\n",
    "      # ...\n",
    "      # else:\n",
    "      # print(letter)\n"
   ]
  },
  {
   "cell_type": "code",
   "execution_count": 13,
   "metadata": {
    "colab": {
     "base_uri": "https://localhost:8080/",
     "height": 0
    },
    "id": "9GEXXNYhGjst",
    "outputId": "e9a995dd-1f14-4437-b8a0-34a0283a77f0"
   },
   "outputs": [
    {
     "name": "stdout",
     "output_type": "stream",
     "text": [
      "Ingresa una palabra: Esternocelidomastoideo\n",
      "S\n",
      "T\n",
      "R\n",
      "N\n",
      "C\n",
      "L\n",
      "D\n",
      "M\n",
      "S\n",
      "T\n",
      "D\n"
     ]
    }
   ],
   "source": [
    "palabra = str(input(\"Ingresa una palabra: \"))\n",
    "palabra = palabra.upper()\n",
    "\n",
    "vocal = (\"A\",\"E\",\"I\",\"O\",\"U\")\n",
    "\n",
    "for letter in palabra:\n",
    "    if letter == \"A\":\n",
    "        continue\n",
    "    elif letter == \"E\":\n",
    "        continue\n",
    "    elif letter == \"I\":\n",
    "        continue\n",
    "    elif letter == \"O\":\n",
    "        continue\n",
    "    elif letter == \"U\":\n",
    "        continue\n",
    "    else:\n",
    "        print(letter)\n"
   ]
  },
  {
   "cell_type": "markdown",
   "metadata": {
    "id": "hVdVHYqXG8im"
   },
   "source": [
    "### Ejercicio 9\n",
    "\n",
    "\n",
    "Crea un bucle for que cuente de 0 a 10, e imprima números impares en la pantalla.\n"
   ]
  },
  {
   "cell_type": "code",
   "execution_count": 14,
   "metadata": {
    "colab": {
     "base_uri": "https://localhost:8080/",
     "height": 0
    },
    "id": "j6XwbuNNHEkn",
    "outputId": "bd172dec-1210-4f7f-c314-f003e70598a1"
   },
   "outputs": [
    {
     "name": "stdout",
     "output_type": "stream",
     "text": [
      "Los números impares son:\n",
      "1 3 5 7 9 "
     ]
    }
   ],
   "source": [
    "print(\"Los números impares son:\")\n",
    "for i in range (1,10,2):\n",
    "    print(i,end=\" \")\n"
   ]
  },
  {
   "cell_type": "markdown",
   "metadata": {
    "id": "zgJ1GIJ4IPyo"
   },
   "source": [
    "### Ejercicio 10\n",
    "\n",
    "Crea un bucle while que cuente de 0 a 10, e imprima números impares en la pantalla.\n"
   ]
  },
  {
   "cell_type": "code",
   "execution_count": 15,
   "metadata": {
    "colab": {
     "base_uri": "https://localhost:8080/",
     "height": 0
    },
    "id": "jsTEsRRoIWEe",
    "outputId": "91e971b8-2cc2-4a1c-b834-ca3113d8c710"
   },
   "outputs": [
    {
     "name": "stdout",
     "output_type": "stream",
     "text": [
      "Los números impares son:\n",
      "1 3 5 7 9 "
     ]
    }
   ],
   "source": [
    "numero = 0\n",
    "print(\"Los números impares son:\")\n",
    "while numero <= 10:\n",
    "    if numero%2:\n",
    "        print(numero,end=\" \")\n",
    "    numero+=1\n"
   ]
  },
  {
   "cell_type": "markdown",
   "metadata": {
    "id": "2tOrNXaTIYWX"
   },
   "source": [
    "### Ejercicio 11\n",
    "\n",
    "Crea un programa con un bucle for y una sentencia break. El programa debe iterar sobre los caracteres en una dirección de correo electrónico, salir del bucle cuando llegue al símbolo @ e imprimir la parte antes de @ en una línea.\n"
   ]
  },
  {
   "cell_type": "code",
   "execution_count": 16,
   "metadata": {
    "colab": {
     "base_uri": "https://localhost:8080/",
     "height": 0
    },
    "id": "WJXTEZ-QIymX",
    "outputId": "8a40e95b-67b9-43e9-c08f-ec0be9d3a58e"
   },
   "outputs": [
    {
     "name": "stdout",
     "output_type": "stream",
     "text": [
      "Ingresa tu email: nahuel@gmail.com\n",
      "nahuel"
     ]
    }
   ],
   "source": [
    "correo = input(\"Ingresa tu email: \")\n",
    "for letter in correo:\n",
    "    if letter == \"@\":\n",
    "        break\n",
    "    print(letter,end=\"\")\n"
   ]
  },
  {
   "cell_type": "markdown",
   "metadata": {
    "id": "WRxMwcxWI4nQ"
   },
   "source": [
    "### Ejercicio 12\n",
    "\n",
    "Crea un programa con un bucle for y una sentencia continue. El programa debe iterar sobre una cadena de dígitos, reemplazar cada 0 con x, e imprimir la cadena modificada en la pantalla.\n"
   ]
  },
  {
   "cell_type": "code",
   "execution_count": 17,
   "metadata": {
    "colab": {
     "base_uri": "https://localhost:8080/",
     "height": 0
    },
    "id": "ECLw1gqgI933",
    "outputId": "784ab96f-1465-4aa0-ea20-ac7684c4922c"
   },
   "outputs": [
    {
     "name": "stdout",
     "output_type": "stream",
     "text": [
      "Ingresa un número: 4054001\n",
      "4x54xx1"
     ]
    }
   ],
   "source": [
    "ingreso = input(\"Ingresa un número: \")\n",
    "for numero in ingreso:\n",
    "    if numero == \"0\":\n",
    "        print(\"x\",end=\"\")\n",
    "        continue\n",
    "    else:\n",
    "        print(numero,end=\"\")\n"
   ]
  },
  {
   "cell_type": "markdown",
   "metadata": {
    "id": "CwyEBSF7JCO2"
   },
   "source": [
    "### Ejercicio 13\n",
    "\n",
    "\n",
    "¿Cuál es el output de los siguientes códigos?"
   ]
  },
  {
   "cell_type": "code",
   "execution_count": null,
   "metadata": {
    "id": "5uvwNOYvJNgW"
   },
   "outputs": [],
   "source": [
    "\n",
    "n = 3\n",
    "while n > 0:\n",
    "    print(n+1)      #4\n",
    "    n -=1           #\n",
    "else:               #\n",
    "    print(n)\n",
    "# Resultado: 4\n",
    "# Resultado: 3\n",
    "# Resultado: 2\n",
    "# Resultado: 0\n",
    "\n",
    "\n",
    "n = range(4)\n",
    "\n",
    "for num in n:\n",
    "    print(num -8)\n",
    "else:\n",
    "    print(num)\n",
    "# Resultado: -1\n",
    "# Resultado: 0\n",
    "# Resultado: 1\n",
    "# Resultado: 2\n",
    "# Resultado: 3\n",
    "\n",
    "\n",
    "for i in range(0,6,3):\n",
    "    print(i)\n",
    "# Resultado: 0\n",
    "# Resultado: 3"
   ]
  },
  {
   "cell_type": "markdown",
   "metadata": {
    "id": "mT4slSidJfkY"
   },
   "source": [
    "### Ejercicio 14\n",
    "\n",
    "¿Cuál es el resultado del siguiente fragmento de código?"
   ]
  },
  {
   "cell_type": "code",
   "execution_count": null,
   "metadata": {
    "id": "Qg_fTkyMJkpf"
   },
   "outputs": [],
   "source": [
    "x = 1\n",
    "y = 0\n",
    "\n",
    "z = ((x == y) and (x == y)) or not(x == y)\n",
    "print(not(z))\n",
    "# Resultado: False"
   ]
  },
  {
   "cell_type": "markdown",
   "metadata": {
    "id": "Ilrwt2-7KifI"
   },
   "source": [
    "### Ejercicio 15\n",
    "\n",
    "Ingresar el sueldo de una persona, si supera los 3000 dolares mostrar un mensaje en pantalla indicando que debe abonar impuestos.\n"
   ]
  },
  {
   "cell_type": "code",
   "execution_count": null,
   "metadata": {
    "colab": {
     "base_uri": "https://localhost:8080/"
    },
    "id": "Zk36HGzcKmgs",
    "outputId": "2ab7084b-8f7a-41c5-dfc7-d9b33211f0a8"
   },
   "outputs": [
    {
     "name": "stdout",
     "output_type": "stream",
     "text": [
      "Ingrese un sueldo: 4000\n",
      "Usted debe abonar impuestos.\n"
     ]
    }
   ],
   "source": [
    "sueldo = int(input(\"Ingrese un sueldo: \"))\n",
    "if sueldo >= 3000:\n",
    "    print(\"Usted debe abonar impuestos.\")\n"
   ]
  },
  {
   "cell_type": "markdown",
   "metadata": {
    "id": "Yk68eP-nK3X3"
   },
   "source": [
    "### Ejercicio 16\n",
    "\n",
    "Realizar un programa que solicite ingresar dos números distintos y muestre por pantalla el mayor de ellos."
   ]
  },
  {
   "cell_type": "code",
   "execution_count": null,
   "metadata": {
    "colab": {
     "base_uri": "https://localhost:8080/"
    },
    "id": "pnjlzkkpK8eQ",
    "outputId": "675a44eb-3d45-4252-be6f-a91627928835"
   },
   "outputs": [
    {
     "name": "stdout",
     "output_type": "stream",
     "text": [
      "Ingrese un número: 78\n",
      "Ingrese otro número: 764\n",
      "El número más grande es:  764\n"
     ]
    }
   ],
   "source": [
    "Num1 = int(input(\"Ingrese un número: \"))\n",
    "Num2 = int(input(\"Ingrese otro número: \"))\n",
    "\n",
    "if Num1 != Num2:\n",
    "    if Num1 > Num2:\n",
    "        print(\"El número más grande es: \", Num1)\n",
    "    else:\n",
    "        print(\"El número más grande es: \", Num2)\n",
    "else:\n",
    "    print(\"Los números son iguales.\")"
   ]
  },
  {
   "cell_type": "markdown",
   "metadata": {
    "id": "wHXJUub5LDCS"
   },
   "source": [
    "### Ejercicio 17\n",
    "\n",
    "Realizar un programa que solicite la carga por teclado de dos números, si el primero es mayor al segundo informar su suma y diferencia, en caso contrario informar el producto y la división del primero respecto al segundo.\n"
   ]
  },
  {
   "cell_type": "code",
   "execution_count": null,
   "metadata": {
    "colab": {
     "base_uri": "https://localhost:8080/"
    },
    "id": "epQ_4g45LJ5Q",
    "outputId": "daa71155-d44d-417e-825d-a4192636961b"
   },
   "outputs": [
    {
     "name": "stdout",
     "output_type": "stream",
     "text": [
      "Ingrese un número: 50\n",
      "Ingrese otro número: 51\n",
      "El producto de los números es:  2550\n",
      "La división de los números es:  1.02\n"
     ]
    }
   ],
   "source": [
    "Num1 = int(input(\"Ingrese un número: \"))\n",
    "Num2 = int(input(\"Ingrese otro número: \"))\n",
    "\n",
    "if Num1 != Num2:\n",
    "    if Num1 > Num2:\n",
    "        print(\"La suma de los números es: \", Num1 + Num2)\n",
    "        print(\"La diferencia de los números es: \", Num1 - Num2)\n",
    "    else:\n",
    "        print(\"El producto de los números es: \", Num2 * Num1)\n",
    "        print(\"La división de los números es: \", Num2 / Num1)\n",
    "else:\n",
    "    print(\"Los números son iguales.\")"
   ]
  },
  {
   "cell_type": "markdown",
   "metadata": {
    "id": "6KMC1oOlLM7C"
   },
   "source": [
    "### Ejercicio 18\n",
    "\n",
    "Se ingresan tres notas de un alumno, si el promedio es mayor o igual a siete mostrar un mensaje \"Promocionado\"."
   ]
  },
  {
   "cell_type": "code",
   "execution_count": 18,
   "metadata": {
    "colab": {
     "base_uri": "https://localhost:8080/",
     "height": 0
    },
    "id": "dUjUI-OSLRIj",
    "outputId": "710f8be9-e161-4c0f-f65c-186726531492"
   },
   "outputs": [
    {
     "name": "stdout",
     "output_type": "stream",
     "text": [
      "Ingrese la nota Nro 1: 6\n",
      "Ingrese la nota Nro 2: 7\n",
      "Ingrese la nota Nro 3: 5\n",
      "Casi...\n"
     ]
    }
   ],
   "source": [
    "Num1 = int(input(\"Ingrese la nota Nro 1: \"))\n",
    "Num2 = int(input(\"Ingrese la nota Nro 2: \"))\n",
    "Num3 = int(input(\"Ingrese la nota Nro 3: \"))\n",
    "\n",
    "promedio = ((Num1+Num2+Num3)/3)\n",
    "\n",
    "if promedio >= 7:\n",
    "    print(\"Promocionado.\")\n",
    "else:\n",
    "  print(\"Casi...\")"
   ]
  },
  {
   "cell_type": "markdown",
   "metadata": {
    "id": "MOlgQ70oLcFx"
   },
   "source": [
    "### Ejercicio 19\n",
    "\n",
    "Se ingresa por teclado un número entero positivo de uno o dos dígitos (1..99) mostrar un mensaje indicando si el número tiene uno o dos dígitos.\n",
    "(Tener en cuenta que condición debe cumplirse para tener dos dígitos un número entero)\n",
    "\n",
    "\n"
   ]
  },
  {
   "cell_type": "code",
   "execution_count": 19,
   "metadata": {
    "colab": {
     "base_uri": "https://localhost:8080/",
     "height": 0
    },
    "id": "93dY9UXvLjpo",
    "outputId": "a1c4d335-aa2b-40b0-b989-2dbbe95a245c"
   },
   "outputs": [
    {
     "name": "stdout",
     "output_type": "stream",
     "text": [
      "Ingresa un número positivo entre 1 y 99: 10\n",
      "El número ingresado es de 2 dígito.\n"
     ]
    }
   ],
   "source": [
    "ingreso = int(input(\"Ingresa un número positivo entre 1 y 99: \"))\n",
    "\n",
    "if (ingreso >= 1) and (ingreso <= 99):\n",
    "    if (ingreso >= 1 and ingreso <= 9):\n",
    "        print(\"El número ingresado es de 1 dígito.\")\n",
    "    else:\n",
    "        print(\"El número ingresado es de 2 dígito.\")\n",
    "else:\n",
    "    print(\"Número fuera de rango.\")"
   ]
  },
  {
   "cell_type": "markdown",
   "metadata": {
    "id": "6IKfA-X7OMVh"
   },
   "source": [
    "### Ejercicio 20\n",
    "\n",
    "Confeccionar un programa que pida por teclado tres notas de un alumno, calcule el promedio e imprima alguno de estos mensajes:\n",
    "\n",
    "Si el promedio es >=7 mostrar \"Promocionado\".\n",
    "\n",
    "Si el promedio es >=4 y <7 mostrar \"Regular\".\n",
    "\n",
    "Si el promedio es <4 mostrar \"Reprobado\"."
   ]
  },
  {
   "cell_type": "code",
   "execution_count": 20,
   "metadata": {
    "colab": {
     "base_uri": "https://localhost:8080/",
     "height": 0
    },
    "id": "WOTiAFFROTSD",
    "outputId": "316834dd-9053-45c8-b800-e6a765545603"
   },
   "outputs": [
    {
     "name": "stdout",
     "output_type": "stream",
     "text": [
      "Ingrese la nota Nro 1: 8\n",
      "Ingrese la nota Nro 2: 9\n",
      "Ingrese la nota Nro 3: 10\n",
      "Promocionado.\n"
     ]
    }
   ],
   "source": [
    "1Num1 = int(input(\"Ingrese la nota Nro 1: \"))\n",
    "Num2 = int(input(\"Ingrese la nota Nro 2: \"))\n",
    "Num3 = int(input(\"Ingrese la nota Nro 3: \"))\n",
    "\n",
    "promedio = ((Num1+Num2+Num3)/3)\n",
    "\n",
    "if promedio >= 7 and promedio <= 10:\n",
    "    print(\"Promocionado.\")\n",
    "elif promedio >= 4 and promedio < 7:\n",
    "    print(\"Regular.\")\n",
    "elif promedio > 0 and promedio < 4:\n",
    "    print(\"Reprobado.\")\n",
    "else:\n",
    "    print(\"Valor fuera de rango.\")"
   ]
  },
  {
   "cell_type": "markdown",
   "metadata": {
    "id": "nC-6QfuLObFQ"
   },
   "source": [
    "### Ejercicio 21\n",
    "\n",
    "Se cargan por teclado tres números distintos. Mostrar por pantalla el mayor de ellos."
   ]
  },
  {
   "cell_type": "code",
   "execution_count": 21,
   "metadata": {
    "colab": {
     "base_uri": "https://localhost:8080/",
     "height": 0
    },
    "id": "xyt3hKqyOe3C",
    "outputId": "02d3240c-b2f7-43c2-c427-b3a58f52ae73"
   },
   "outputs": [
    {
     "name": "stdout",
     "output_type": "stream",
     "text": [
      "Ingrese el primer número: 8\n",
      "Ingrese el segundo número: 5\n",
      "Ingrese el tercer número: 980\n",
      "El número mayor es 3:  980\n"
     ]
    }
   ],
   "source": [
    "Num1 = int(input(\"Ingrese el primer número: \"))\n",
    "Num2 = int(input(\"Ingrese el segundo número: \"))\n",
    "Num3 = int(input(\"Ingrese el tercer número: \"))\n",
    "\n",
    "if (Num1 > Num2 and Num1 > Num3):\n",
    "    print(\"El número mayor es 1: \", Num1)\n",
    "elif (Num2 > Num1 and Num2 > Num3):\n",
    "    print(\"El número mayor es 2: \", Num2)\n",
    "else:\n",
    "    print(\"El número mayor es 3: \", Num3)"
   ]
  },
  {
   "cell_type": "markdown",
   "metadata": {
    "id": "q5e7VCrROjO5"
   },
   "source": [
    "### Ejercicio 22\n",
    "\n",
    "Se ingresa por teclado un valor entero, mostrar una leyenda que indique si el número es positivo, negativo o nulo (es decir cero)\n",
    "\n"
   ]
  },
  {
   "cell_type": "code",
   "execution_count": 22,
   "metadata": {
    "colab": {
     "base_uri": "https://localhost:8080/",
     "height": 0
    },
    "id": "Vw4W68WWOo-a",
    "outputId": "d1f97f56-1fba-4634-95fc-4cfc41b81748"
   },
   "outputs": [
    {
     "name": "stdout",
     "output_type": "stream",
     "text": [
      "Ingrese un número: -520\n",
      "Se trata de un número negativo.\n"
     ]
    }
   ],
   "source": [
    "Num1 = int(input(\"Ingrese un número: \"))\n",
    "if Num1 < 0:\n",
    "    print(\"Se trata de un número negativo.\")\n",
    "elif Num1 > 0:\n",
    "    print(\"Se trata de un número positivo.\")\n",
    "else:\n",
    "    print(\"Se trata de un número nulo.\")"
   ]
  },
  {
   "cell_type": "markdown",
   "metadata": {
    "id": "OYY0qiGWOp-p"
   },
   "source": [
    "### Ejercicio 23\n",
    "\n",
    "Confeccionar un programa que permita cargar un número entero positivo de hasta tres cifras y muestre un mensaje indicando si tiene 1, 2, o 3 cifras. Mostrar un mensaje de error si el número de cifras es mayor.\n",
    "\n"
   ]
  },
  {
   "cell_type": "code",
   "execution_count": 23,
   "metadata": {
    "colab": {
     "base_uri": "https://localhost:8080/",
     "height": 0
    },
    "id": "PoGrUpYaOsx5",
    "outputId": "bae21275-4aef-4481-d105-5576d7bd6ef2"
   },
   "outputs": [
    {
     "name": "stdout",
     "output_type": "stream",
     "text": [
      "Ingresa un número positivo entre 1 y 999: 145\n",
      "El número ingresado es de 3 dígito.\n"
     ]
    }
   ],
   "source": [
    "ingreso = int(input(\"Ingresa un número positivo entre 1 y 999: \"))\n",
    "\n",
    "if (ingreso >= 1) and (ingreso <= 999):\n",
    "    if (ingreso >= 1 and ingreso <= 9):\n",
    "        print(\"El número ingresado es de 1 dígito.\")\n",
    "    elif (ingreso >= 10 and ingreso <= 99):\n",
    "        print(\"El número ingresado es de 2 dígito.\")\n",
    "    else:\n",
    "        print(\"El número ingresado es de 3 dígito.\")\n",
    "else:\n",
    "    print(\"Número fuera de rango.\")"
   ]
  },
  {
   "cell_type": "markdown",
   "metadata": {
    "id": "GziffmtxO464"
   },
   "source": [
    "### Ejercicio 24\n",
    "\n",
    "Un postulante a un empleo, realiza un test de capacitación, se obtuvo la siguiente información: cantidad total de preguntas que se le realizaron y la cantidad de preguntas que contestó correctamente.\n",
    "\n",
    "Se pide confeccionar un programa que ingrese los dos datos por teclado e informe el nivel del mismo según el porcentaje de respuestas correctas que ha obtenido, y sabiendo que:\n",
    "\n",
    "• Nivel máximo: Porcentaje>=90%.\n",
    "\n",
    "• Nivel medio: Porcentaje>=75% y <90%.\n",
    "\n",
    "• Nivel regular: Porcentaje>=50% y <75%.\n",
    "\n",
    "• Fuera de nivel: Porcentaje<50%.\n",
    "\n"
   ]
  },
  {
   "cell_type": "code",
   "execution_count": 26,
   "metadata": {
    "colab": {
     "base_uri": "https://localhost:8080/",
     "height": 0
    },
    "id": "Ur3ixb5wO9A0",
    "outputId": "4423f0bf-18fe-4690-c787-f2c10f1f26ae"
   },
   "outputs": [
    {
     "name": "stdout",
     "output_type": "stream",
     "text": [
      "Ingrese la cantidad de preguntas que se le realizarón: 9\n",
      "Ingrese la cantidad de preguntas que contestó correctamente: 8\n",
      "88.88888888888889 %\n",
      "Nivel medio\n"
     ]
    }
   ],
   "source": [
    "preguntasRealizadas = int(input(\"Ingrese la cantidad de preguntas que se le realizarón: \"))\n",
    "preguntasContestadas = int(input(\"Ingrese la cantidad de preguntas que contestó correctamente: \"))\n",
    "resultado = (preguntasContestadas * 100)/preguntasRealizadas\n",
    "print(resultado,\"%\")\n",
    "if resultado >=90:\n",
    "    print(\"Nivel máximo\")\n",
    "elif resultado >=75 and resultado <90:\n",
    "    print(\"Nivel medio\")\n",
    "elif resultado >=50 and resultado <75:\n",
    "    print(\"Nivel regular\")\n",
    "else:\n",
    "    print(\"Fuera de nivel\")"
   ]
  },
  {
   "cell_type": "markdown",
   "metadata": {
    "id": "FqbDGRG6PUO7"
   },
   "source": [
    "### Ejercicio 25\n",
    "\n",
    "Se carga una fecha (día, mes y año) por teclado. Mostrar un mensaje si corresponde al primer trimestre del año (enero, febrero o marzo) Cargar por teclado el valor numérico del día, mes y año.\n",
    "\n"
   ]
  },
  {
   "cell_type": "code",
   "execution_count": 28,
   "metadata": {
    "colab": {
     "base_uri": "https://localhost:8080/",
     "height": 0
    },
    "id": "slT0szwYPZLR",
    "outputId": "5392c2de-9544-44b9-e8ed-10642c33bdd3"
   },
   "outputs": [
    {
     "name": "stdout",
     "output_type": "stream",
     "text": [
      "Ingrese un día: \"dd\" 01\n",
      "Ingrese un mes: \"m\" 02\n",
      "Ingrese un año: \"aaaa\" 2023\n",
      "Primer trimestre.\n"
     ]
    }
   ],
   "source": [
    "dia = int(input('Ingrese un día: \"dd\" '))\n",
    "mes = int(input('Ingrese un mes: \"m\" '))\n",
    "year = int(input('Ingrese un año: \"aaaa\" '))\n",
    "\n",
    "\n",
    "if (mes == 1 or mes == 2 or mes == 3):\n",
    "    print(\"Primer trimestre.\")\n",
    "else:\n",
    "    print(\"Valor fuera de rango.\")"
   ]
  },
  {
   "cell_type": "markdown",
   "metadata": {
    "id": "zXRlXSEePbJP"
   },
   "source": [
    "### Ejercicio 26\n",
    "\n",
    "Realizar un programa que pida cargar una fecha cualquiera, luego verificar si dicha fecha corresponde a Navidad.\n"
   ]
  },
  {
   "cell_type": "code",
   "execution_count": 29,
   "metadata": {
    "colab": {
     "base_uri": "https://localhost:8080/",
     "height": 0
    },
    "id": "F21M-SP9PgF6",
    "outputId": "22cf4a48-d025-4d7e-868b-b5729c861b9d"
   },
   "outputs": [
    {
     "name": "stdout",
     "output_type": "stream",
     "text": [
      "Ingrese un día: \"dd\" 25\n",
      "Ingrese un mes: \"m\" 12\n",
      "Ingrese un año: \"aaaa\" 2022\n",
      "Hoy es Navidad.\n"
     ]
    }
   ],
   "source": [
    "dia = int(input('Ingrese un día: \"dd\" '))\n",
    "mes = int(input('Ingrese un mes: \"m\" '))\n",
    "year = int(input('Ingrese un año: \"aaaa\" '))\n",
    "\n",
    "\n",
    "if (dia == 25 and mes == 12):\n",
    "    print(\"Hoy es Navidad.\")\n",
    "else:\n",
    "    print(\"Hoy no es Navidad.\")"
   ]
  },
  {
   "cell_type": "markdown",
   "metadata": {
    "id": "CCKvMXg8PgzC"
   },
   "source": [
    "### Ejercicio 27\n",
    "\n",
    "Se ingresan por teclado tres números, si todos los valores ingresados son menores a 10, imprimir en pantalla la leyenda \"Todos los números son menores a diez\".\n",
    "\n"
   ]
  },
  {
   "cell_type": "code",
   "execution_count": null,
   "metadata": {
    "colab": {
     "base_uri": "https://localhost:8080/"
    },
    "id": "5RLzeBIQPluT",
    "outputId": "2100f026-d818-48e1-a111-58370e7dd2a1"
   },
   "outputs": [
    {
     "name": "stdout",
     "output_type": "stream",
     "text": [
      "Ingrese el primer número: 5\n",
      "Ingrese el segundo número: 3\n",
      "Ingrese el tercer número: 1\n",
      "Todos los números son menores a diez\n"
     ]
    }
   ],
   "source": [
    "Num1 = int(input(\"Ingrese el primer número: \"))\n",
    "Num2 = int(input(\"Ingrese el segundo número: \"))\n",
    "Num3 = int(input(\"Ingrese el tercer número: \"))\n",
    "\n",
    "if ((Num1 < 10)and (Num2 < 10)and (Num3 < 10)):\n",
    "    print(\"Todos los números son menores a diez\")"
   ]
  },
  {
   "cell_type": "markdown",
   "metadata": {
    "id": "PhtGi5LNPmj6"
   },
   "source": [
    "### Ejercicio 28\n",
    "\n",
    "Se ingresan por teclado tres números, si al menos uno de los valores ingresados es menor a 10, imprimir en pantalla la leyenda \"Alguno de los números es menor a diez\".\n"
   ]
  },
  {
   "cell_type": "code",
   "execution_count": 30,
   "metadata": {
    "colab": {
     "base_uri": "https://localhost:8080/",
     "height": 0
    },
    "id": "mLhPiBVjQeSL",
    "outputId": "6654aaa6-1d43-4e03-a1ed-f0c9610b37b9"
   },
   "outputs": [
    {
     "name": "stdout",
     "output_type": "stream",
     "text": [
      "Ingrese el primer número: 1\n",
      "Ingrese el segundo número: 15\n",
      "Ingrese el tercer número: 53\n",
      "Alguno de los números es menor a diez\n"
     ]
    }
   ],
   "source": [
    "Num1 = int(input(\"Ingrese el primer número: \"))\n",
    "Num2 = int(input(\"Ingrese el segundo número: \"))\n",
    "Num3 = int(input(\"Ingrese el tercer número: \"))\n",
    "\n",
    "if ((Num1 < 10) or (Num2 < 10) or (Num3 < 10)):\n",
    "    print(\"Alguno de los números es menor a diez\")\n",
    "else:\n",
    "    print(\"No hay número menor a diez.\")"
   ]
  },
  {
   "cell_type": "markdown",
   "metadata": {
    "id": "3_7jojY6Qfsj"
   },
   "source": [
    "### Ejercicio 29\n",
    "\n",
    "Escribir un programa que pida ingresar la coordenada de un punto en el plano, es decir dos valores enteros x e y (distintos a cero). Posteriormente imprimir en pantalla en que cuadrante se ubica dicho punto.\n",
    "\n",
    "(1º Cuadrante si x > 0 Y y > 0 , 2º Cuadrante: x < 0 Y y > 0, etc.)\n",
    "\n"
   ]
  },
  {
   "cell_type": "code",
   "execution_count": 31,
   "metadata": {
    "colab": {
     "base_uri": "https://localhost:8080/",
     "height": 0
    },
    "id": "7_1zzEOKSqsf",
    "outputId": "9b328b72-3d1d-4751-c42e-2bbd6874f93f"
   },
   "outputs": [
    {
     "name": "stdout",
     "output_type": "stream",
     "text": [
      "Ingrese la coordenada x: 20\n",
      "Ingrese la coordenada y: 45\n",
      "El punto se encuentra en el primer cuadrante\n"
     ]
    }
   ],
   "source": [
    "Coordenadax = int(input(\"Ingrese la coordenada x: \"))\n",
    "Coordenaday = int(input(\"Ingrese la coordenada y: \"))\n",
    "\n",
    "if Coordenadax != 0 and Coordenaday != 0:\n",
    "     if Coordenadax > 0 and Coordenaday > 0:\n",
    "      print(\"El punto se encuentra en el primer cuadrante\")\n",
    "     elif Coordenadax < 0 and Coordenaday > 0:\n",
    "      print(\"El punto se encuentra en el segundo cuadrante\")\n",
    "     elif Coordenadax < 0 and Coordenaday < 0:\n",
    "      print(\"El punto se encuentra en el tercer cuadrante\")\n",
    "     else:\n",
    "      print(\"El punto se encuentra en el cuarto cuadrante\")\n",
    "else:\n",
    "  print(\"El valor de x e y deben ser distintos de cero.\")"
   ]
  },
  {
   "cell_type": "markdown",
   "metadata": {
    "id": "jJKG3xULSyXt"
   },
   "source": [
    "### Ejercicio 30\n",
    "\n",
    "De un operario se conoce su sueldo y los años de antigüedad.\n",
    "\n",
    "Se pide confeccionar un programa que lea los datos de entrada e informe:\n",
    "\n",
    "a) Si el sueldo es inferior a 500 y su antigüedad es igual o superior a 10 años, otorgarle un aumento del 20 %, mostrar el sueldo a pagar.\n",
    "\n",
    "b) Si el sueldo es inferior a 500 pero su antigüedad es menor a 10 años, otorgarle un aumento de 5 %.\n",
    "\n",
    "c) Si el sueldo es mayor o igual a 500 mostrar el sueldo en pantalla sin cambios.\n",
    "\n"
   ]
  },
  {
   "cell_type": "code",
   "execution_count": 32,
   "metadata": {
    "colab": {
     "base_uri": "https://localhost:8080/",
     "height": 0
    },
    "id": "L3jxYVLHS-M1",
    "outputId": "2fdf6f68-4978-482b-f134-193bc1faeb24"
   },
   "outputs": [
    {
     "name": "stdout",
     "output_type": "stream",
     "text": [
      "Ingrese el sueldo del empleado: 45000.23\n",
      "Ingrese la antiguedad del empleado expresada en \"Años\": 9\n",
      "Su sueldo permanece igual que antes. Su sueldo es de $: 45000.23\n"
     ]
    }
   ],
   "source": [
    "sueldo = float(input(\"Ingrese el sueldo del empleado: \"))\n",
    "antiguedad = int(input('Ingrese la antiguedad del empleado expresada en \"Años\": '))\n",
    "aumento20 = (sueldo * .20)+sueldo\n",
    "aumento5 = (sueldo * .05)+sueldo\n",
    "if ((sueldo < 500) and (antiguedad >= 10)):\n",
    "    print(\"Merece un aumento del 20%. Su nuevo sueldo es de $:\",aumento20)\n",
    "elif ((sueldo < 500) and (antiguedad < 10)):\n",
    "    print(\"Merece un aumento del 5%. Su nuevo sueldo es de $:\",aumento5)\n",
    "else:\n",
    "    print(\"Su sueldo permanece igual que antes. Su sueldo es de $:\",sueldo)"
   ]
  },
  {
   "cell_type": "markdown",
   "metadata": {
    "id": "7EviAvwrS_T8"
   },
   "source": [
    "### Ejercicio 31\n",
    "\n",
    "Realizar un programa que imprima en pantalla los números del 1 al 100.\n",
    "\n",
    "(utilizando while)\n"
   ]
  },
  {
   "cell_type": "code",
   "execution_count": 1,
   "metadata": {
    "colab": {
     "base_uri": "https://localhost:8080/",
     "height": 0
    },
    "id": "krSyeJCpTEM7",
    "outputId": "0a10e064-71ed-472b-929c-179af60240bf"
   },
   "outputs": [
    {
     "name": "stdout",
     "output_type": "stream",
     "text": [
      "1 2 3 4 5 6 7 8 9 10 11 12 13 14 15 16 17 18 19 20 21 22 23 24 25 26 27 28 29 30 31 32 33 34 35 36 37 38 39 40 41 42 43 44 45 46 47 48 49 50 51 52 53 54 55 56 57 58 59 60 61 62 63 64 65 66 67 68 69 70 71 72 73 74 75 76 77 78 79 80 81 82 83 84 85 86 87 88 89 90 91 92 93 94 95 96 97 98 99 100 "
     ]
    }
   ],
   "source": [
    "numero = 0\n",
    "while (numero < 100):\n",
    "    numero+=1\n",
    "    print(numero, end=\" \")"
   ]
  },
  {
   "cell_type": "markdown",
   "metadata": {
    "id": "j_9p210YTDnL"
   },
   "source": [
    "### Ejercicio 32\n",
    "\n",
    "Codificar un programa que solicite la carga de un valor positivo y nos muestre desde 1 hasta el valor ingresado de uno en uno.\n",
    "\n",
    "Ejemplo: Si ingresamos 30 se debe mostrar en pantalla los números del 1 al 30.\n"
   ]
  },
  {
   "cell_type": "code",
   "execution_count": 2,
   "metadata": {
    "colab": {
     "base_uri": "https://localhost:8080/",
     "height": 0
    },
    "id": "jdRgFwZOYOkw",
    "outputId": "720ad241-2273-42ed-ff34-2f593c07f825"
   },
   "outputs": [
    {
     "name": "stdout",
     "output_type": "stream",
     "text": [
      "Ingrese un número entero positivo: 30\n",
      "1 2 3 4 5 6 7 8 9 10 11 12 13 14 15 16 17 18 19 20 21 22 23 24 25 26 27 28 29 30 "
     ]
    }
   ],
   "source": [
    "numero = 1\n",
    "ingreso = int(input(\"Ingrese un número entero positivo: \"))\n",
    "while numero <= ingreso:\n",
    "    print(numero, end=\" \")\n",
    "    numero+=1"
   ]
  },
  {
   "cell_type": "markdown",
   "metadata": {
    "id": "zZ3vM1WUTDB-"
   },
   "source": [
    "### Ejercicio 33\n",
    "\n",
    "Escribir un programa que solicite ingresar 10 notas de alumnos y nos informe cuántos tienen notas mayores o iguales a 7 y cuántos menores.\n",
    "\n"
   ]
  },
  {
   "cell_type": "code",
   "execution_count": 33,
   "metadata": {
    "colab": {
     "base_uri": "https://localhost:8080/",
     "height": 0
    },
    "id": "CrDagY5jYup4",
    "outputId": "c1a13c02-c232-41b1-bd7f-a79d039308cd"
   },
   "outputs": [
    {
     "name": "stdout",
     "output_type": "stream",
     "text": [
      "Ingrese la nota del alumno 1: 1\n",
      "Ingrese la nota del alumno 2: 2\n",
      "Ingrese la nota del alumno 3: 3\n",
      "Ingrese la nota del alumno 4: 4\n",
      "Ingrese la nota del alumno 5: 5\n",
      "Ingrese la nota del alumno 6: 6\n",
      "Ingrese la nota del alumno 7: 7\n",
      "Ingrese la nota del alumno 8: 8\n",
      "Ingrese la nota del alumno 9: 9\n",
      "Ingrese la nota del alumno 10: 10\n",
      "Cantidad de alumnos con nota mayor o igual a 7 es:  4 alumnos.\n",
      "Cantidad de alumnos con nota menor a 7 es:  6 alumnos.\n"
     ]
    }
   ],
   "source": [
    "totalMayor7 = 0\n",
    "totalMenor7 = 0\n",
    "for i in range(10):\n",
    "    valor=float(input(\"Ingrese la nota del alumno {}: \".format(i+1)))\n",
    "\n",
    "    if valor >= 7:\n",
    "        totalMayor7+=1\n",
    "    else:\n",
    "        totalMenor7+=1\n",
    "\n",
    "print(\"Cantidad de alumnos con nota mayor o igual a 7 es: \",totalMayor7,\"alumnos.\")\n",
    "print(\"Cantidad de alumnos con nota menor a 7 es: \",totalMenor7,\"alumnos.\")"
   ]
  },
  {
   "cell_type": "markdown",
   "metadata": {
    "id": "P6D6eVaCYwwA"
   },
   "source": [
    "### Ejercicio 34\n",
    "\n",
    "Se ingresan un conjunto de n alturas de personas por teclado. Mostrar la altura promedio de las personas.\n"
   ]
  },
  {
   "cell_type": "code",
   "execution_count": 35,
   "metadata": {
    "colab": {
     "base_uri": "https://localhost:8080/",
     "height": 0
    },
    "id": "r9Ji7BXZZEov",
    "outputId": "fdcd26c1-13b2-411c-bbb4-9381fe6e990f"
   },
   "outputs": [
    {
     "name": "stdout",
     "output_type": "stream",
     "text": [
      "Ingresa la cantidad de personas a medir: 3\n",
      "Ingresa la altura de la persona 1: 176\n",
      "Ingresa la altura de la persona 2: 186\n",
      "Ingresa la altura de la persona 3: 142\n",
      "En promedio, las 3  personas evaluadas miden:  168.0 metros.\n"
     ]
    }
   ],
   "source": [
    "listaAlturas = []\n",
    "suma = 0\n",
    "n = int(input(\"Ingresa la cantidad de personas a medir: \"))\n",
    "for i in range(n):\n",
    "    altura = float(input(\"Ingresa la altura de la persona {}: \".format(i+1)))\n",
    "    listaAlturas.append(altura)\n",
    "#print(listaAlturas)\n",
    "for i in range(len(listaAlturas)):\n",
    "    suma+= listaAlturas[i]\n",
    "    promedio = suma / n\n",
    "print(\"En promedio, las\",n,\" personas evaluadas miden: \", round(promedio,2),\"metros.\")"
   ]
  },
  {
   "cell_type": "markdown",
   "metadata": {
    "id": "hk1v1xObZGG_"
   },
   "source": [
    "### Ejercicio 35\n",
    "\n",
    "En una empresa trabajan n empleados cuyos sueldos oscilan entre (Pesos) 100 y (Pesos) 500, realizar un programa que lea los sueldos que cobra cada empleado e informe cuántos empleados cobran entre (Pesos) 100 y (Pesos) 300 y cuántos cobran más de (Pesos) 300. Además el programa deberá informar el importe que gasta la empresa en sueldos al personal.\n",
    "\n"
   ]
  },
  {
   "cell_type": "code",
   "execution_count": 36,
   "metadata": {
    "colab": {
     "base_uri": "https://localhost:8080/",
     "height": 0
    },
    "id": "dkIGAvgtZK-A",
    "outputId": "a9647b0c-c784-4258-b7e7-c5082a9002c3"
   },
   "outputs": [
    {
     "name": "stdout",
     "output_type": "stream",
     "text": [
      "Ingresa la cantidad de empleados a censar: 2\n",
      "Ingresa el sueldo del empleado 1: 45555\n",
      "Ingresa el sueldo del empleado 2: 120000\n",
      "[45555.0, 120000.0]\n",
      "Empleados con sueldo menor a $300:  0\n",
      "Empleados con sueldo mayor a $300:  2\n",
      "La empresa gasta un total de $ 165555.0 en sueldos del personal.\n"
     ]
    }
   ],
   "source": [
    "listaSueldos = []\n",
    "sueldoMas300 = 0\n",
    "sueldoMenos300 = 0\n",
    "importe = 0\n",
    "n = int(input(\"Ingresa la cantidad de empleados a censar: \"))\n",
    "for i in range(n):\n",
    "    sueldo = float(input(\"Ingresa el sueldo del empleado {}: \".format(i+1)))\n",
    "    listaSueldos.append(sueldo)\n",
    "print(listaSueldos)\n",
    "\n",
    "for item in listaSueldos:\n",
    "    if item > 100 and item < 300:\n",
    "        sueldoMenos300+=1\n",
    "    if item > 300:\n",
    "        sueldoMas300+=1\n",
    "\n",
    "print(\"Empleados con sueldo menor a $300: \",sueldoMenos300)\n",
    "print(\"Empleados con sueldo mayor a $300: \",sueldoMas300)\n",
    "print(\"La empresa gasta un total de $\",sum(listaSueldos),\"en sueldos del personal.\")"
   ]
  },
  {
   "cell_type": "markdown",
   "metadata": {
    "id": "9kwlEHVvcHlX"
   },
   "source": [
    "### Ejercicio 36\n",
    "\n",
    "Desarrollar un programa que permita cargar n números enteros y luego nos informe cuántos valores fueron pares y cuántos impares.\n",
    "\n",
    "Emplear el operador “%” en la condición de la estructura condicional (este operador retorna el resto de la división de dos valores, por ejemplo 11%2 retorna un 1, if valor%2==0: )\n",
    "\n"
   ]
  },
  {
   "cell_type": "code",
   "execution_count": 37,
   "metadata": {
    "colab": {
     "base_uri": "https://localhost:8080/",
     "height": 0
    },
    "id": "sgXczRxPcRSQ",
    "outputId": "07d7e299-6c9e-4613-fb3c-afe978a69fd4"
   },
   "outputs": [
    {
     "name": "stdout",
     "output_type": "stream",
     "text": [
      "Ingresa la cantidad de números a ingresar: 2\n",
      "Ingresa un número entero: 14\n",
      "Ingresa un número entero: 15\n",
      "Lista de números pares: [15.0]\n",
      "Lista de números impares: [14.0]\n"
     ]
    }
   ],
   "source": [
    "listadoCompleto = []\n",
    "lista_pares = []\n",
    "lista_impares = []\n",
    "\n",
    "n = int(input(\"Ingresa la cantidad de números a ingresar: \"))\n",
    "for i in range(n):\n",
    "    numero = float(input(\"Ingresa un número entero: \"))\n",
    "    listadoCompleto.append(numero)\n",
    "\n",
    "for i in range(len(listadoCompleto)):\n",
    "    if i % 2 == 0:\n",
    "        lista_impares.append(listadoCompleto[i])\n",
    "    else:\n",
    "        lista_pares.append(listadoCompleto[i])\n",
    "\n",
    "print(\"Lista de números pares:\", lista_pares)\n",
    "print(\"Lista de números impares:\", lista_impares)"
   ]
  },
  {
   "cell_type": "markdown",
   "metadata": {
    "id": "2-cgT8e8ciZY"
   },
   "source": [
    "### Ejercicio 37\n",
    "\n",
    "Realizar un programa que imprima en pantalla los números del 0 al 100.\n",
    "\n",
    "Resolverlo empleando for.\n"
   ]
  },
  {
   "cell_type": "code",
   "execution_count": 38,
   "metadata": {
    "colab": {
     "base_uri": "https://localhost:8080/",
     "height": 0
    },
    "id": "dzRk_Dchczc6",
    "outputId": "e483fde2-6877-48d1-a0a7-67ba653d29a9"
   },
   "outputs": [
    {
     "name": "stdout",
     "output_type": "stream",
     "text": [
      "0 1 2 3 4 5 6 7 8 9 10 11 12 13 14 15 16 17 18 19 20 21 22 23 24 25 26 27 28 29 30 31 32 33 34 35 36 37 38 39 40 41 42 43 44 45 46 47 48 49 50 51 52 53 54 55 56 57 58 59 60 61 62 63 64 65 66 67 68 69 70 71 72 73 74 75 76 77 78 79 80 81 82 83 84 85 86 87 88 89 90 91 92 93 94 95 96 97 98 99 100 "
     ]
    }
   ],
   "source": [
    "for i in range(101):\n",
    "    print(i, end=\" \")"
   ]
  },
  {
   "cell_type": "markdown",
   "metadata": {
    "id": "m4IEehOWckjp"
   },
   "source": [
    "### Ejercicio 38\n",
    "\n",
    "Realizar un programa que imprima en pantalla los números del 20 al 30.\n",
    "\n",
    "Resolverlo empleando for.\n",
    "\n"
   ]
  },
  {
   "cell_type": "code",
   "execution_count": 39,
   "metadata": {
    "colab": {
     "base_uri": "https://localhost:8080/",
     "height": 0
    },
    "id": "3iTQy5oMc_V0",
    "outputId": "08652d5c-e2d7-4484-b5cf-a5048fffe368"
   },
   "outputs": [
    {
     "name": "stdout",
     "output_type": "stream",
     "text": [
      "20 21 22 23 24 25 26 27 28 29 30 "
     ]
    }
   ],
   "source": [
    "for i in range (20,31):\n",
    "    print(i, end=\" \")"
   ]
  },
  {
   "cell_type": "markdown",
   "metadata": {
    "id": "oEdF1SgKcnMA"
   },
   "source": [
    "### Ejercicio 39\n",
    "\n",
    "Imprimir todos los números impares que hay entre 1 y 100.\n",
    "\n",
    "Resolverlo empleando for.\n",
    "\n"
   ]
  },
  {
   "cell_type": "code",
   "execution_count": 40,
   "metadata": {
    "colab": {
     "base_uri": "https://localhost:8080/",
     "height": 0
    },
    "id": "tEYHX2kFdHi5",
    "outputId": "6caf15b6-9ef4-42d0-9e3d-aef1c727a06e"
   },
   "outputs": [
    {
     "name": "stdout",
     "output_type": "stream",
     "text": [
      "1 3 5 7 9 11 13 15 17 19 21 23 25 27 29 31 33 35 37 39 41 43 45 47 49 51 53 55 57 59 61 63 65 67 69 71 73 75 77 79 81 83 85 87 89 91 93 95 97 99 "
     ]
    }
   ],
   "source": [
    "for i in range(1,100,2):\n",
    "    print(i, end=\" \")"
   ]
  },
  {
   "cell_type": "markdown",
   "metadata": {
    "id": "uA6ezyxKcuuw"
   },
   "source": [
    "### Ejercicio 40\n",
    "\n",
    "Escribir un programa que lea 10 números enteros y luego muestre cuántos valores ingresados fueron múltiplos de 3 y cuántos de 5.\n",
    "\n",
    "Debemos tener en cuenta que hay números que son múltiplos de 3 y de 5 a la vez.\n",
    "\n",
    "Resolverlo empleando for.\n",
    "\n"
   ]
  },
  {
   "cell_type": "code",
   "execution_count": 41,
   "metadata": {
    "colab": {
     "base_uri": "https://localhost:8080/",
     "height": 0
    },
    "id": "MxY7G97BdOjC",
    "outputId": "05dd0854-587c-4552-a76e-5d857a101fd9"
   },
   "outputs": [
    {
     "name": "stdout",
     "output_type": "stream",
     "text": [
      "Ingresa el valor N° 1: 1\n",
      "Ingresa el valor N° 2: 2\n",
      "Ingresa el valor N° 3: 3\n",
      "Ingresa el valor N° 4: 4\n",
      "Ingresa el valor N° 5: 5\n",
      "Ingresa el valor N° 6: 6\n",
      "Ingresa el valor N° 7: 7\n",
      "Ingresa el valor N° 8: 8\n",
      "Ingresa el valor N° 9: 9\n",
      "Ingresa el valor N° 10: 10\n",
      "[1.0, 2.0, 3.0, 4.0, 5.0, 6.0, 7.0, 8.0, 9.0, 10.0]\n",
      "Los multiplos de 3 son:  [3.0, 6.0, 9.0] Los multiplos de 5 son:  [5.0, 10.0] "
     ]
    }
   ],
   "source": [
    "listaNumeros = []\n",
    "Multiplos3 = []\n",
    "Multiplos5 = []\n",
    "\n",
    "for i in range(10):\n",
    "    ingreso = float(input(\"Ingresa el valor N° {}: \".format(i+1)))\n",
    "    listaNumeros.append(ingreso)\n",
    "print(listaNumeros)\n",
    "\n",
    "for item in listaNumeros:\n",
    "    if item % 3 == 0:\n",
    "        Multiplos3.append(item)\n",
    "    if item % 5 == 0:\n",
    "        Multiplos5.append(item)\n",
    "\n",
    "print(\"Los multiplos de 3 son: \",Multiplos3, end=\" \")\n",
    "print(\"Los multiplos de 5 son: \",Multiplos5, end=\" \")\n"
   ]
  },
  {
   "cell_type": "markdown",
   "metadata": {
    "id": "NFd0Wk-vkQ_y"
   },
   "source": [
    "### Ejercicio 41\n",
    "\n",
    "Confeccionar un programa que lea n pares de datos, cada par de datos corresponde a la medida de la base y la altura de un triángulo.\n",
    "\n",
    "Resolverlo empleando for.\n",
    "\n",
    "El programa deberá informar:\n",
    "\n",
    "a) De cada triángulo la medida de su base, su altura y su superficie.\n",
    "\n",
    "b) La cantidad de triángulos cuya superficie es mayor a 12.\n",
    "\n",
    "\n"
   ]
  },
  {
   "cell_type": "code",
   "execution_count": 42,
   "metadata": {
    "colab": {
     "base_uri": "https://localhost:8080/",
     "height": 0
    },
    "id": "KNfDUWGLkoHC",
    "outputId": "8c5108ae-e458-4682-e9e6-ca9a3a2525fe"
   },
   "outputs": [
    {
     "name": "stdout",
     "output_type": "stream",
     "text": [
      "Ingresa la cantidad de triángulos a evaluar: 2\n",
      "Ingresa la medida de la base del triángulo Nro. 1: 15\n",
      "Ingresa la medida de la altura del triángulo Nro. 1: 20\n",
      "Triángulo 1: base = 15.0, altura = 20.0, superficie = 150.0\n",
      "Ingresa la medida de la base del triángulo Nro. 2: 56\n",
      "Ingresa la medida de la altura del triángulo Nro. 2: 98\n",
      "Triángulo 2: base = 56.0, altura = 98.0, superficie = 2744.0\n",
      "La cantidad de triángulos con la superficie mayor a 12 son:  2\n"
     ]
    }
   ],
   "source": [
    "contador = 0\n",
    "\n",
    "n = int(input(\"Ingresa la cantidad de triángulos a evaluar: \"))\n",
    "for i in range(n):\n",
    "    base = float(input(\"Ingresa la medida de la base del triángulo Nro. {}: \".format(i+1)))\n",
    "    altura = float(input(\"Ingresa la medida de la altura del triángulo Nro. {}: \".format(i+1)))\n",
    "    superficie = (base * altura)/2\n",
    "    print(\"Triángulo {}: base = {}, altura = {}, superficie = {}\".format(i+1, base, altura, superficie))\n",
    "\n",
    "    if superficie > 12:\n",
    "        contador+=1\n",
    "print(\"La cantidad de triángulos con la superficie mayor a 12 son: \", contador)"
   ]
  },
  {
   "cell_type": "markdown",
   "metadata": {
    "id": "3aq39eoIgeaF"
   },
   "source": [
    "### Ejercicio 42\n",
    "\n",
    "Desarrollar un programa que solicite la carga de 10 números e imprima la suma de los últimos 5 valores ingresados.\n",
    "\n",
    "Resolverlo empleando for.\n"
   ]
  },
  {
   "cell_type": "code",
   "execution_count": 43,
   "metadata": {
    "colab": {
     "base_uri": "https://localhost:8080/",
     "height": 0
    },
    "id": "eTpqdsAVglDy",
    "outputId": "b2c913ea-3e56-4ea1-9952-9c03eed7ee81"
   },
   "outputs": [
    {
     "name": "stdout",
     "output_type": "stream",
     "text": [
      "Ingresa el número N° 1: 15\n",
      "Ingresa el número N° 2: 14\n",
      "Ingresa el número N° 3: 12\n",
      "Ingresa el número N° 4: 11\n",
      "Ingresa el número N° 5: 50\n",
      "Ingresa el número N° 6: 0\n",
      "Ingresa el número N° 7: 45\n",
      "Ingresa el número N° 8: 65\n",
      "Ingresa el número N° 9: 8\n",
      "Ingresa el número N° 10: 4\n",
      "La suma de los últimos 5 valores es de:  122.0\n"
     ]
    }
   ],
   "source": [
    "listacompleta = []\n",
    "for i in range(10):\n",
    "    ingreso = float(input(\"Ingresa el número N° {}: \".format(i+1)))\n",
    "    listacompleta.append(ingreso)\n",
    "\n",
    "suma = (sum(listacompleta[5:10]))\n",
    "print(\"La suma de los últimos 5 valores es de: \", suma)"
   ]
  },
  {
   "cell_type": "markdown",
   "metadata": {
    "id": "LyYNZkyCgp_f"
   },
   "source": [
    "### Ejercicio 43\n",
    "\n",
    "Desarrollar un programa que muestre la tabla de multiplicar del 5 (del 5 al 50).\n",
    "\n",
    "Resolverlo empleando for.\n",
    "\n"
   ]
  },
  {
   "cell_type": "code",
   "execution_count": 44,
   "metadata": {
    "colab": {
     "base_uri": "https://localhost:8080/",
     "height": 0
    },
    "id": "pV2Pe9OWgtYi",
    "outputId": "2d9a3a15-8544-41a5-ee52-3584c30ca420"
   },
   "outputs": [
    {
     "name": "stdout",
     "output_type": "stream",
     "text": [
      "1 por 5 =  5\n",
      "2 por 5 =  10\n",
      "3 por 5 =  15\n",
      "4 por 5 =  20\n",
      "5 por 5 =  25\n",
      "6 por 5 =  30\n",
      "7 por 5 =  35\n",
      "8 por 5 =  40\n",
      "9 por 5 =  45\n",
      "10 por 5 =  50\n"
     ]
    }
   ],
   "source": [
    "for i in range(1,11):\n",
    "    print(i,\"por 5 = \",i * 5)"
   ]
  },
  {
   "cell_type": "markdown",
   "metadata": {
    "id": "Cu8RInv8hB0O"
   },
   "source": [
    "### Ejercicio 44\n",
    "\n",
    "Confeccionar un programa que permita ingresar un valor del 1 al 10 y nos muestre la tabla de multiplicar del mismo (los primeros 10 términos)\n",
    "\n",
    "Resolverlo empleando for.\n",
    "\n",
    "Ejemplo: Si ingreso 3 deberá aparecer en pantalla los valores\n",
    "\n"
   ]
  },
  {
   "cell_type": "code",
   "execution_count": 45,
   "metadata": {
    "colab": {
     "base_uri": "https://localhost:8080/",
     "height": 0
    },
    "id": "eZEkfWHlhJmR",
    "outputId": "09960d73-6eaa-406f-95d7-b3bf848a81fa"
   },
   "outputs": [
    {
     "name": "stdout",
     "output_type": "stream",
     "text": [
      "Ingresa el número de tabla de multiplicar que deseas ver: 3\n",
      "1 por 3  = 3\n",
      "2 por 3  = 6\n",
      "3 por 3  = 9\n",
      "4 por 3  = 12\n",
      "5 por 3  = 15\n",
      "6 por 3  = 18\n",
      "7 por 3  = 21\n",
      "8 por 3  = 24\n",
      "9 por 3  = 27\n",
      "10 por 3  = 30\n"
     ]
    }
   ],
   "source": [
    "ingreso = int(input(\"Ingresa el número de tabla de multiplicar que deseas ver: \"))\n",
    "for i in range(1,11):\n",
    "    print(i,\"por\",ingreso, \" =\" ,i * ingreso)"
   ]
  },
  {
   "cell_type": "markdown",
   "metadata": {
    "id": "_brocOiAhNKH"
   },
   "source": [
    "### Ejercicio 45\n",
    "\n",
    "Realizar un programa que lea los lados de n triángulos, Resolverlo empleando for, e informar:\n",
    "\n",
    "a) De cada uno de ellos, qué tipo de triángulo es: equilátero (tres lados iguales), isósceles (dos lados iguales), o escaleno (ningún lado igual)\n",
    "\n",
    "b) Cantidad de triángulos de cada tipo.\n"
   ]
  },
  {
   "cell_type": "code",
   "execution_count": 46,
   "metadata": {
    "colab": {
     "base_uri": "https://localhost:8080/",
     "height": 0
    },
    "id": "iDVY_pTzhVGY",
    "outputId": "a62d5515-b361-4818-fbbd-425b6078a925"
   },
   "outputs": [
    {
     "name": "stdout",
     "output_type": "stream",
     "text": [
      "Ingresa la cantidad de triangulos a evaluar: 2\n",
      "Ingresa la medida del primer lado del triángulo Nro. 1: 15\n",
      "Ingresa la medida del segundo lado del triángulo Nro. 1: 15\n",
      "Ingresa la medida del tercer lado del triángulo Nro. 1: 15\n",
      "El triángulo 1 se trata de un triángulo equilátero. \n",
      "Ingresa la medida del primer lado del triángulo Nro. 2: 25\n",
      "Ingresa la medida del segundo lado del triángulo Nro. 2: 15\n",
      "Ingresa la medida del tercer lado del triángulo Nro. 2: 130\n",
      "El triángulo 2 se trata de un triángulo escaleno. \n",
      "En total hubo:  1  tríangulos equiláteros, 0  tríangulos isóceles, 1  tríangulos escalenos.\n"
     ]
    }
   ],
   "source": [
    "equilatero = 0\n",
    "isoceles = 0\n",
    "escaleno = 0\n",
    "\n",
    "n = int(input(\"Ingresa la cantidad de triangulos a evaluar: \"))\n",
    "\n",
    "for i in range(n):\n",
    "    lado1 = float(input(\"Ingresa la medida del primer lado del triángulo Nro. {}: \".format(i+1)))\n",
    "    lado2 = float(input(\"Ingresa la medida del segundo lado del triángulo Nro. {}: \".format(i+1)))\n",
    "    lado3 = float(input(\"Ingresa la medida del tercer lado del triángulo Nro. {}: \".format(i+1)))\n",
    "\n",
    "    if ((lado1 == lado2 and lado1 == lado3) or (lado2 == lado1 and lado2 == lado3) or (lado3 == lado1 and lado3 == lado2)) :\n",
    "        print(\"El triángulo {} se trata de un triángulo equilátero. \".format(i+1))\n",
    "        equilatero += 1\n",
    "    elif ((lado1 == lado2 and lado1 != lado3) or (lado2 == lado1 and lado2 != lado3) or (lado3 == lado1 and lado3 != lado2)):\n",
    "        print(\"El triángulo {} se trata de un triángulo isóceles. \".format(i+1))\n",
    "        isoceles += 1\n",
    "    else:\n",
    "        print(\"El triángulo {} se trata de un triángulo escaleno. \".format(i+1))\n",
    "        escaleno += 1\n",
    "print(\"En total hubo: \",equilatero,\" tríangulos equiláteros,\",isoceles,\" tríangulos isóceles,\",escaleno,\" tríangulos escalenos.\")\n"
   ]
  },
  {
   "cell_type": "markdown",
   "metadata": {
    "id": "cssWTj1_hY_H"
   },
   "source": [
    "### Ejercicio 46\n",
    "\n",
    "Dada una lista de cinco números: 1, 2, 3, 4, y 5.\n",
    "\n",
    "a) escribir una línea de código que solicite al usuario que reemplace el número central en la lista con un número entero ingresado por el usuario (Paso 1)\n",
    "\n",
    "b) escribir una línea de código que elimine el último elemento de la lista (Paso 2)\n",
    "\n",
    "c) escribir una línea de código que imprima la longitud de la lista existente (Paso 3).\n",
    "\n"
   ]
  },
  {
   "cell_type": "code",
   "execution_count": 47,
   "metadata": {
    "colab": {
     "base_uri": "https://localhost:8080/",
     "height": 0
    },
    "id": "cf_WimLqhkYf",
    "outputId": "fbf44fc0-4c29-478f-8f52-f91025897f72"
   },
   "outputs": [
    {
     "name": "stdout",
     "output_type": "stream",
     "text": [
      "Ingresa un número entero:15\n",
      "4\n"
     ]
    }
   ],
   "source": [
    "lista = [1,2,3,4,5]\n",
    "#Paso 1\n",
    "ingreso = int(input(\"Ingresa un número entero:\"))\n",
    "lista[2] = ingreso\n",
    "\n",
    "#Paso 2\n",
    "del lista[4]\n",
    "\n",
    "#Paso 3\n",
    "print(len(lista))"
   ]
  },
  {
   "cell_type": "markdown",
   "metadata": {
    "id": "r_Qzb95Yh1cL"
   },
   "source": [
    "### Ejercicio 47\n",
    "\n",
    "¿Cuál es el resultado de los siguientes fragmentos de código?\n",
    "\n"
   ]
  },
  {
   "cell_type": "code",
   "execution_count": null,
   "metadata": {
    "id": "Xomfl0ZBiCZm"
   },
   "outputs": [],
   "source": [
    "\n",
    "lst = [1,2,3,4,5]\n",
    "lst.insert(1,6)\n",
    "del lst[0]\n",
    "lst.append(1)\n",
    "print(lst)\n",
    "#Resultado: [1,6,2,3,4,5]\n",
    "#Resultado: [6,2,3,4,5]\n",
    "#Resultado: [6,2,3,4,5,1]\n",
    "\n",
    "################\n",
    "lst =[1,2,3,4,5]\n",
    "lst_2 = []\n",
    "add = 0\n",
    "\n",
    "for number in lst:\n",
    "    add += number\n",
    "    lst_2.append(add)\n",
    "\n",
    "print(lst_2)\n",
    "\n",
    "#Resultado: [1,3,6,10,15]\n",
    "\n",
    "################\n",
    "lst = [1,[2,3],4]\n",
    "print(lst[1])\n",
    "print(len(list))\n",
    "#Resultado: [2,3]\n",
    "#Resultado: 3"
   ]
  },
  {
   "cell_type": "markdown",
   "metadata": {
    "id": "cdlLpjaeiXRm"
   },
   "source": [
    "### Ejercicio 48\n",
    "\n",
    "¿Cuál es el resultado de los siguientes fragmentos de código?"
   ]
  },
  {
   "cell_type": "code",
   "execution_count": null,
   "metadata": {
    "id": "J1Ep52CyisGf"
   },
   "outputs": [],
   "source": [
    "lst = [\"D\",\"F\",\"A\",\"Z\"]\n",
    "lst.sort()\n",
    "print(lst)\n",
    "#Resultado: [\"A\",\"D\",\"F\",\"Z\"]\n",
    "\n",
    "a = 3\n",
    "b = 1\n",
    "c = 2\n",
    "lst = [a,c,b]\n",
    "lst.sort()\n",
    "print(lst)\n",
    "\n",
    "#Resultado: [1,2,3]\n",
    "\n",
    "a = \"A\"\n",
    "b = \"B\"\n",
    "c = \"C\"\n",
    "d = \" \"\n",
    "\n",
    "lst = [a,b,c,d]\n",
    "lst.reverse()\n",
    "print(lst)\n",
    "\n",
    "#Resultado: [\" \",\"C\",\"B\",\"A\"]"
   ]
  },
  {
   "cell_type": "markdown",
   "metadata": {
    "id": "_-Mq4FOFisbH"
   },
   "source": [
    "### Ejercicio 49\n",
    "\n",
    "Escribir un programa que elimine todas las repeticiones de números de la lista. El objetivo es tener una lista en la que todos los números aparezcan no más de una vez.\n",
    "\n",
    "Nota: Asume que la lista original está ya dentro del código - no tienes que ingresarla desde el teclado.\n",
    "\n",
    "Sugerencia: Te recomendamos que crees una nueva lista como área de trabajo temporal - no necesitas actualizar la lista actual.\n"
   ]
  },
  {
   "cell_type": "code",
   "execution_count": 50,
   "metadata": {
    "colab": {
     "base_uri": "https://localhost:8080/",
     "height": 0
    },
    "id": "cd1EsjVKiyMp",
    "outputId": "abab0013-e19d-4ac4-dc15-9032205eb900"
   },
   "outputs": [
    {
     "name": "stdout",
     "output_type": "stream",
     "text": [
      "[1, 2, 4, 6, 9]\n"
     ]
    }
   ],
   "source": [
    "my_list = [1, 2, 4, 4, 1, 4, 2, 6, 2, 9]\n",
    "listaLimpia = []\n",
    "\n",
    "for item in my_list:\n",
    "    if item not in listaLimpia:\n",
    "        listaLimpia.append(item)\n",
    "print(listaLimpia)\n",
    "\n"
   ]
  },
  {
   "cell_type": "markdown",
   "metadata": {
    "id": "WJWQkj3IizFn"
   },
   "source": [
    "### Ejercicio 50\n",
    "\n",
    "¿Cuál es el resultado del siguiente fragmento de código?\n",
    "\n",
    "a)\n",
    "\n",
    "b)\n",
    "\n",
    "c)\n",
    "\n",
    "d)\n",
    "\n",
    "e) Inserta in o not in en lugar de ??? para que el código genere el resultado esperado."
   ]
  },
  {
   "cell_type": "code",
   "execution_count": null,
   "metadata": {
    "id": "QpS6J5HNi4Rw"
   },
   "outputs": [],
   "source": [
    "#A\n",
    "list_1 = [\"A\",\"B\",\"C\"]\n",
    "list_2 = list_1\n",
    "list_3 = list_2\n",
    "\n",
    "del list_1[0]\n",
    "del list_2[0]\n",
    "\n",
    "print(list_3)\n",
    "#Resultado = [\"C\"]\n",
    "\n",
    "#B\n",
    "list_1 = [\"A\",\"B\",\"C\"]\n",
    "list_2 = list_1\n",
    "list_3 = list_2\n",
    "\n",
    "del list_1[0]\n",
    "del list_2\n",
    "\n",
    "print(list_3)\n",
    "#Resultado = [\"B\",\"C\"]\n",
    "\n",
    "#C\n",
    "list_1 = [\"A\",\"B\",\"C\"]\n",
    "list_2 = list_1\n",
    "list_3 = list_2\n",
    "\n",
    "del list_1[0]\n",
    "del list_2[:]\n",
    "\n",
    "print(list_3)\n",
    "#Resultado = []\n",
    "\n",
    "#D\n",
    "list_1 = [\"A\",\"B\",\"C\"]\n",
    "list_2 = list_1[:]\n",
    "list_3 = list_2[:]\n",
    "\n",
    "del list_1[0]\n",
    "del list_2[0]\n",
    "\n",
    "print(list_3)\n",
    "#Resultado = [\"C\",\"D\"]\n",
    "\n",
    "#E\n",
    "my_list = [1,2,\"in\", True, \"ABC\"]\n",
    "\n",
    "print(1 in my_list)  #output True\n",
    "print(\"A\" not in my_list)  #output True\n",
    "print(3 not in my_list)  #output True\n",
    "print(False in my_list)  #output False\n",
    "\n",
    "\n"
   ]
  },
  {
   "cell_type": "code",
   "execution_count": null,
   "metadata": {
    "colab": {
     "base_uri": "https://localhost:8080/"
    },
    "id": "y6aIFcf4S9Ia",
    "outputId": "2a5bbfa6-ada9-4c9a-cec8-5919c97cf56b"
   },
   "outputs": [
    {
     "name": "stdout",
     "output_type": "stream",
     "text": [
      "Ej1 ['A', 'B', 'C']\n",
      "Ej2 ['A', 'B', 'C']\n",
      "Ej3 ['A', 'B', 'C']\n",
      "['B', 'C']\n"
     ]
    }
   ],
   "source": [
    "list_1 = [\"A\",\"B\",\"C\"]\n",
    "list_2 = list_1\n",
    "list_3 = list_2\n",
    "\n",
    "print(\"Ej1\",list_1)\n",
    "print(\"Ej2\",list_2)\n",
    "print(\"Ej3\",list_3)\n",
    "del list_1[0]\n",
    "del list_2\n",
    "\n",
    "\n",
    "print(list_3)"
   ]
  },
  {
   "cell_type": "markdown",
   "metadata": {
    "id": "f56MP0_UjEY_"
   },
   "source": [
    "### Ejercicio 51\n",
    "\n",
    "Definir una lista que almacene 5 enteros. Sumar todos sus elementos y mostrar dicha suma.\n",
    "\n"
   ]
  },
  {
   "cell_type": "code",
   "execution_count": 51,
   "metadata": {
    "colab": {
     "base_uri": "https://localhost:8080/",
     "height": 0
    },
    "id": "mayIZte5jV-3",
    "outputId": "b7d7ffb1-80b3-4023-f924-e00add218c58"
   },
   "outputs": [
    {
     "name": "stdout",
     "output_type": "stream",
     "text": [
      "Ingresa 5 números enteros: 15\n",
      "Ingresa 5 números enteros: 20\n",
      "Ingresa 5 números enteros: 3\n",
      "Ingresa 5 números enteros: 45\n",
      "Ingresa 5 números enteros: 12\n",
      "La suma de los valores de la lista es de:  95\n"
     ]
    }
   ],
   "source": [
    "listacompleta = []\n",
    "for i in range(5):\n",
    "    ingreso = int(input(\"Ingresa 5 números enteros: \"))\n",
    "    listacompleta.append(ingreso)\n",
    "\n",
    "suma = (sum(listacompleta))\n",
    "print(\"La suma de los valores de la lista es de: \", suma)\n"
   ]
  },
  {
   "cell_type": "markdown",
   "metadata": {
    "id": "nGrDHQOajXZL"
   },
   "source": [
    "### Ejercicio 52\n",
    "\n",
    "Definir una lista por asignación que almacene los nombres de los primeros cuatro meses de año.\n",
    "\n",
    "Mostrar el primer y último elemento de la lista solamente.\n"
   ]
  },
  {
   "cell_type": "code",
   "execution_count": 52,
   "metadata": {
    "colab": {
     "base_uri": "https://localhost:8080/",
     "height": 0
    },
    "id": "35zbHoclmEtC",
    "outputId": "802e0cfe-cece-40e5-e8d7-a3000196f331"
   },
   "outputs": [
    {
     "name": "stdout",
     "output_type": "stream",
     "text": [
      "Ingresa el nombre del mes del año Nro. 1: Marzo\n",
      "Ingresa el nombre del mes del año Nro. 2: Abril\n",
      "Ingresa el nombre del mes del año Nro. 3: Julio\n",
      "Ingresa el nombre del mes del año Nro. 4: Agosto\n",
      "El primer mes es Marzo y el último mes es Agosto\n"
     ]
    }
   ],
   "source": [
    "listaMeses = []\n",
    "for i in range(4):\n",
    "    ingreso = input(\"Ingresa el nombre del mes del año Nro. {}: \".format(i+1))\n",
    "    listaMeses.append(ingreso)\n",
    "primerMes=listaMeses[0]\n",
    "ultimoMes=listaMeses[-1]\n",
    "\n",
    "print(\"El primer mes es\",primerMes,\"y el último mes es\",ultimoMes)\n"
   ]
  },
  {
   "cell_type": "markdown",
   "metadata": {
    "id": "hg8YlNUwmGdY"
   },
   "source": [
    "### Ejercicio 53\n",
    "\n",
    "Definir una lista por asignación que almacene en la primer componente el nombre de un alumno y en las dos siguientes sus notas.\n",
    "\n",
    "Imprimir luego el nombre y el promedio de las dos notas.\n",
    "\n"
   ]
  },
  {
   "cell_type": "code",
   "execution_count": 53,
   "metadata": {
    "colab": {
     "base_uri": "https://localhost:8080/",
     "height": 0
    },
    "id": "KCNmy2GpmNhx",
    "outputId": "6da2437e-d198-4a37-9b7f-a4456556085b"
   },
   "outputs": [
    {
     "name": "stdout",
     "output_type": "stream",
     "text": [
      "Ingresa el nombre del Alumno: Ricardo\n",
      "Ingresa la primera nota del alumno: 10\n",
      "Ingresa la segunda nota del alumno: 7\n",
      "Hola Ricardo , el promedio de tus notas es: 8.5\n"
     ]
    }
   ],
   "source": [
    "6\n",
    "listaAlumno = []\n",
    "nombre = input(\"Ingresa el nombre del Alumno: \")\n",
    "listaAlumno.append(nombre)\n",
    "nota1 = float(input(\"Ingresa la primera nota del alumno: \"))\n",
    "listaAlumno.append(nota1)\n",
    "nota2 = float(input(\"Ingresa la segunda nota del alumno: \"))\n",
    "listaAlumno.append(nota2)\n",
    "promedio = (listaAlumno[1]+listaAlumno[2])/2\n",
    "print(\"Hola\",listaAlumno[0],\", el promedio de tus notas es:\",promedio)"
   ]
  },
  {
   "cell_type": "markdown",
   "metadata": {
    "id": "NDSzWWLhmOes"
   },
   "source": [
    "### Ejercicio 54\n",
    "\n",
    "Definir por asignación una lista con 8 elementos enteros.\n",
    "\n",
    "Contar cuantos de dichos valores almacenan un valor superior a 100.\n",
    "\n"
   ]
  },
  {
   "cell_type": "code",
   "execution_count": 54,
   "metadata": {
    "colab": {
     "base_uri": "https://localhost:8080/",
     "height": 0
    },
    "id": "JdYYbQDYmUHZ",
    "outputId": "ed953edc-14c7-4dc8-988a-04cf22c0a70a"
   },
   "outputs": [
    {
     "name": "stdout",
     "output_type": "stream",
     "text": [
      "Ingresa el valor Nro. 1: 10\n",
      "Ingresa el valor Nro. 2: 150\n",
      "Ingresa el valor Nro. 3: 456\n",
      "Ingresa el valor Nro. 4: 1\n",
      "Ingresa el valor Nro. 5: 5\n",
      "Ingresa el valor Nro. 6: -8\n",
      "Ingresa el valor Nro. 7: 45\n",
      "Ingresa el valor Nro. 8: 2\n",
      "En la lista hay 2 elementos con valores superiores a 100.\n"
     ]
    }
   ],
   "source": [
    "3listaNumeros = []\n",
    "contador = 0\n",
    "for i in range(8):\n",
    "    ingreso = int(input(\"Ingresa el valor Nro. {}: \".format(i+1)))\n",
    "    listaNumeros.append(ingreso)\n",
    "    if ingreso > 100:\n",
    "        contador+=1\n",
    "print(\"En la lista hay\",contador,\"elementos con valores superiores a 100.\")"
   ]
  },
  {
   "cell_type": "markdown",
   "metadata": {
    "id": "agz4ZinFmU2N"
   },
   "source": [
    "### Ejercicio 55\n",
    "\n",
    "Definir una lista vacía y luego solicitar la carga de 5 enteros por teclado y añadirlos a la lista. Imprimir la lista generada.\n",
    "\n"
   ]
  },
  {
   "cell_type": "code",
   "execution_count": 58,
   "metadata": {
    "colab": {
     "base_uri": "https://localhost:8080/",
     "height": 0
    },
    "id": "zRM3pk0UmgbZ",
    "outputId": "56afa2b7-83d1-4e81-8ce5-23b57777610b"
   },
   "outputs": [
    {
     "name": "stdout",
     "output_type": "stream",
     "text": [
      "Ingresa el valor Nro. 1: 1\n",
      "Ingresa el valor Nro. 2: 2\n",
      "Ingresa el valor Nro. 3: 3\n",
      "Ingresa el valor Nro. 4: 4\n",
      "Ingresa el valor Nro. 5: 5\n",
      "[1, 2, 3, 4, 5]\n"
     ]
    }
   ],
   "source": [
    "listaNumeros = []\n",
    "for i in range(5):\n",
    "    ingreso = int(input(\"Ingresa el valor Nro. {}: \".format(i+1)))\n",
    "    listaNumeros.append(ingreso)\n",
    "print(listaNumeros)\n"
   ]
  },
  {
   "cell_type": "markdown",
   "metadata": {
    "id": "I1jhCAchmjna"
   },
   "source": [
    "### Ejercicio 56\n",
    "\n",
    "\n",
    "Realizar la carga de valores enteros por teclado, almacenarlos en una lista. Finalizar la carga de enteros al ingresar el cero. Mostrar finalmente la lista y su tamaño.\n",
    "\n",
    "\n"
   ]
  },
  {
   "cell_type": "code",
   "execution_count": 59,
   "metadata": {
    "colab": {
     "base_uri": "https://localhost:8080/",
     "height": 0
    },
    "id": "ej7CLDHymsVB",
    "outputId": "d2b501f3-280a-4e89-d96b-e244be369083"
   },
   "outputs": [
    {
     "name": "stdout",
     "output_type": "stream",
     "text": [
      "Ingresa un número entero. Para salir ingrese \"0\": 15\n",
      "Ingresa un número entero. Para salir ingrese \"0\": 65\n",
      "Ingresa un número entero. Para salir ingrese \"0\": 45\n",
      "Ingresa un número entero. Para salir ingrese \"0\": 78\n",
      "Ingresa un número entero. Para salir ingrese \"0\": 0\n",
      "Gracias. Vuelva pronto.\n",
      "[15, 65, 45, 78]\n",
      "La lista contiene 4 elementos.\n"
     ]
    }
   ],
   "source": [
    "listaNumeros = []\n",
    "while True:\n",
    "    ingreso = int(input('Ingresa un número entero. Para salir ingrese \"0\": '))\n",
    "\n",
    "    if ingreso != 0:\n",
    "        listaNumeros.append(ingreso)\n",
    "    else:\n",
    "        print(\"Gracias. Vuelva pronto.\")\n",
    "        break\n",
    "print(listaNumeros)\n",
    "print(\"La lista contiene\",(len(listaNumeros)),\"elementos.\")"
   ]
  },
  {
   "cell_type": "markdown",
   "metadata": {
    "id": "XpWGydprmuxh"
   },
   "source": [
    "### Ejercicio 57\n",
    "\n",
    "Almacenar en una lista los sueldos (valores float) de 5 operarios.\n",
    "\n",
    "Imprimir la lista y el promedio de sueldos.\n",
    "\n"
   ]
  },
  {
   "cell_type": "code",
   "execution_count": 60,
   "metadata": {
    "colab": {
     "base_uri": "https://localhost:8080/",
     "height": 0
    },
    "id": "sBHg_wmsm5w7",
    "outputId": "008fd0ad-4009-4ff7-fe85-df7ad0ac4555"
   },
   "outputs": [
    {
     "name": "stdout",
     "output_type": "stream",
     "text": [
      "Ingresa el sueldo del empleado Nro. 1: 150000\n",
      "Ingresa el sueldo del empleado Nro. 2: 450000\n",
      "Ingresa el sueldo del empleado Nro. 3: 4500\n",
      "Ingresa el sueldo del empleado Nro. 4: 98555\n",
      "Ingresa el sueldo del empleado Nro. 5: 154000\n",
      "[150000.0, 450000.0, 4500.0, 98555.0, 154000.0]\n",
      "En promedio, cada empleado cobra $ 171411.0\n"
     ]
    }
   ],
   "source": [
    "listaSueldos=[]\n",
    "for i in range(5):\n",
    "    ingreso = float(input(\"Ingresa el sueldo del empleado Nro. {}: \".format(i+1)))\n",
    "    listaSueldos.append(ingreso)\n",
    "promedio=(sum(listaSueldos))/(len(listaSueldos))\n",
    "print(listaSueldos)\n",
    "print(\"En promedio, cada empleado cobra $\",promedio)"
   ]
  },
  {
   "cell_type": "markdown",
   "metadata": {
    "id": "Z6VWU-cOm6fl"
   },
   "source": [
    "### Ejercicio 58\n",
    "\n",
    "Una empresa tiene dos turnos (mañana y tarde) en los que trabajan 8 empleados (4 por la mañana y 4 por la tarde) Confeccionar un programa que permita almacenar los sueldos de los empleados agrupados en dos listas.\n",
    "\n",
    "Imprimir las dos listas de sueldos.\n",
    "\n"
   ]
  },
  {
   "cell_type": "code",
   "execution_count": 61,
   "metadata": {
    "colab": {
     "base_uri": "https://localhost:8080/",
     "height": 0
    },
    "id": "Ll71aZWpnA-J",
    "outputId": "cfe07a22-7476-4c73-e0f7-0bc193db9c51"
   },
   "outputs": [
    {
     "name": "stdout",
     "output_type": "stream",
     "text": [
      "Ingresa el sueldo del empleado Nro. 1: 150000\n",
      "Ingresa el turno en el que trabaja el empleado Nro. 1: \"TM\" o \"TT\": TM\n",
      "Ingresa el sueldo del empleado Nro. 2: 160000\n",
      "Ingresa el turno en el que trabaja el empleado Nro. 2: \"TM\" o \"TT\": TT\n",
      "Ingresa el sueldo del empleado Nro. 3: 280000\n",
      "Ingresa el turno en el que trabaja el empleado Nro. 3: \"TM\" o \"TT\": TM\n",
      "Ingresa el sueldo del empleado Nro. 4: 456000\n",
      "Ingresa el turno en el que trabaja el empleado Nro. 4: \"TM\" o \"TT\": TT\n",
      "Ingresa el sueldo del empleado Nro. 5: 36000\n",
      "Ingresa el turno en el que trabaja el empleado Nro. 5: \"TM\" o \"TT\": TT\n",
      "Ingresa el sueldo del empleado Nro. 6: 450000\n",
      "Ingresa el turno en el que trabaja el empleado Nro. 6: \"TM\" o \"TT\": TM\n",
      "Ingresa el sueldo del empleado Nro. 7: 150000\n",
      "Ingresa el turno en el que trabaja el empleado Nro. 7: \"TM\" o \"TT\": TT\n",
      "Ingresa el sueldo del empleado Nro. 8: 450000\n",
      "Ingresa el turno en el que trabaja el empleado Nro. 8: \"TM\" o \"TT\": TM\n",
      "[150000.0, 280000.0, 450000.0, 450000.0]\n",
      "[160000.0, 456000.0, 36000.0, 150000.0]\n"
     ]
    }
   ],
   "source": [
    "listaTM = []\n",
    "listaTT = []\n",
    "for i in range(8):\n",
    "    ingresoNum = float(input(\"Ingresa el sueldo del empleado Nro. {}: \".format(i+1)))\n",
    "    ingresoTurno = input('Ingresa el turno en el que trabaja el empleado Nro. {}: \"TM\" o \"TT\": '.format(i+1))\n",
    "    ingresoTurno = ingresoTurno.upper()\n",
    "\n",
    "\n",
    "    if ingresoTurno != \"TM\" or \"TT\":\n",
    "        if ingresoTurno == \"TM\":\n",
    "            listaTM.append(ingresoNum)\n",
    "        else:\n",
    "            listaTT.append(ingresoNum)\n",
    "    else:\n",
    "        print('Ingrese \"TM\" o \"TT\" para identificar el turno.')\n",
    "print(listaTM)\n",
    "print(listaTT)"
   ]
  },
  {
   "cell_type": "markdown",
   "metadata": {
    "id": "7Ak3GOVRnDRb"
   },
   "source": [
    "### Ejercicio 59\n",
    "\n",
    "Crear y cargar una lista con 5 enteros.\n",
    "\n",
    "Implementar un algoritmo que identifique el mayor valor de la lista.\n",
    "\n"
   ]
  },
  {
   "cell_type": "code",
   "execution_count": 62,
   "metadata": {
    "colab": {
     "base_uri": "https://localhost:8080/",
     "height": 0
    },
    "id": "HgT5ywsSnQzR",
    "outputId": "8600bd38-7d11-4d5d-9f27-ee6467bc8f5d"
   },
   "outputs": [
    {
     "name": "stdout",
     "output_type": "stream",
     "text": [
      "Ingresa el valor Nro. 1: 1\n",
      "Ingresa el valor Nro. 2: 2\n",
      "Ingresa el valor Nro. 3: 45645\n",
      "Ingresa el valor Nro. 4: 4\n",
      "Ingresa el valor Nro. 5: 6\n",
      "45645\n"
     ]
    }
   ],
   "source": [
    "listaNumeros=[]\n",
    "for i in range(5):\n",
    "    ingreso = int(input(\"Ingresa el valor Nro. {}: \".format(i+1)))\n",
    "    listaNumeros.append(ingreso)\n",
    "print(max(listaNumeros))"
   ]
  },
  {
   "cell_type": "markdown",
   "metadata": {
    "id": "A7II-FhGnRfr"
   },
   "source": [
    "### Ejercicio 60\n",
    "\n",
    "Crear y cargar una lista con 5 enteros por teclado.\n",
    "\n",
    "Implementar un algoritmo que identifique el menor valor de la lista y la posición donde se encuentra.\n",
    "\n"
   ]
  },
  {
   "cell_type": "code",
   "execution_count": 63,
   "metadata": {
    "colab": {
     "base_uri": "https://localhost:8080/",
     "height": 0
    },
    "id": "sp0apHYmnW3B",
    "outputId": "e2b89200-339d-4a8b-bad5-adc59a1ab1ae"
   },
   "outputs": [
    {
     "name": "stdout",
     "output_type": "stream",
     "text": [
      "Ingresa el valor Nro. 1: 150\n",
      "Ingresa el valor Nro. 2: 151\n",
      "Ingresa el valor Nro. 3: 1\n",
      "Ingresa el valor Nro. 4: -8\n",
      "Ingresa el valor Nro. 5: 45\n",
      "-8\n"
     ]
    }
   ],
   "source": [
    "listaNumeros=[]\n",
    "for i in range(5):\n",
    "    ingreso = int(input(\"Ingresa el valor Nro. {}: \".format(i+1)))\n",
    "    listaNumeros.append(ingreso)\n",
    "print(min(listaNumeros))"
   ]
  },
  {
   "cell_type": "markdown",
   "metadata": {
    "id": "FRqydF7Hnksb"
   },
   "source": [
    "### Ejercicio 61\n",
    "\n",
    "Ingresar por teclado los nombres de 5 personas y almacenarlos en una lista.\n",
    "\n",
    "Mostrar el nombre de persona menor en orden alfabético.\n",
    "\n"
   ]
  },
  {
   "cell_type": "code",
   "execution_count": 64,
   "metadata": {
    "colab": {
     "base_uri": "https://localhost:8080/",
     "height": 0
    },
    "id": "XPH9xM1-nnoh",
    "outputId": "0ff2b5ef-b9f6-40aa-db7c-1229eb93d8e9"
   },
   "outputs": [
    {
     "name": "stdout",
     "output_type": "stream",
     "text": [
      "Ingresa el nombre de la persona Nro. 1: Ricardo\n",
      "Ingresa el nombre de la persona Nro. 2: Juan\n",
      "Ingresa el nombre de la persona Nro. 3: Amaretti\n",
      "Ingresa el nombre de la persona Nro. 4: Corelli\n",
      "Ingresa el nombre de la persona Nro. 5: Bach\n",
      "Amaretti\n"
     ]
    }
   ],
   "source": [
    "listaNombres=[]\n",
    "for i in range(5):\n",
    "    ingreso = input(\"Ingresa el nombre de la persona Nro. {}: \".format(i+1))\n",
    "    listaNombres.append(ingreso)\n",
    "listaNombres.sort()\n",
    "print(listaNombres[0])"
   ]
  },
  {
   "cell_type": "markdown",
   "metadata": {
    "id": "Jtl6Qm2knoXS"
   },
   "source": [
    "### Ejercicio 62\n",
    "\n",
    "Cargar una lista con 5 elementos enteros.\n",
    "\n",
    "Imprimir el mayor y un mensaje si se repite dentro de la lista (es decir si dicho valor se encuentra en 2 o más posiciones en la lista)\n",
    "\n"
   ]
  },
  {
   "cell_type": "code",
   "execution_count": 65,
   "metadata": {
    "colab": {
     "base_uri": "https://localhost:8080/",
     "height": 0
    },
    "id": "gCQ4pvUbnuY6",
    "outputId": "2d81117d-bb90-4b98-dde6-6fadb5264cf0"
   },
   "outputs": [
    {
     "name": "stdout",
     "output_type": "stream",
     "text": [
      "Ingresa el valor Nro. 1: 45\n",
      "Ingresa el valor Nro. 2: 48\n",
      "Ingresa el valor Nro. 3: 51\n",
      "Ingresa el valor Nro. 4: 01\n",
      "Ingresa el valor Nro. 5: 45\n",
      "El mayor valor de la lista es 51.\n"
     ]
    }
   ],
   "source": [
    "listaNumeros=[]\n",
    "for i in range(5):\n",
    "    ingreso = int(input(\"Ingresa el valor Nro. {}: \".format(i+1)))\n",
    "    listaNumeros.append(ingreso)\n",
    "\n",
    "mayor=max(listaNumeros)\n",
    "\n",
    "if listaNumeros.count(mayor) > 1:\n",
    "    print(\"El mayor valor ({}) se repite dentro de la lista.\".format(mayor))\n",
    "else:\n",
    "    print(\"El mayor valor de la lista es {}.\".format(mayor))"
   ]
  },
  {
   "cell_type": "markdown",
   "metadata": {
    "id": "1Eel4MrRoA2Z"
   },
   "source": [
    "### Ejercicio 63\n",
    "\n",
    "Desarrollar un programa que permita cargar 5 nombres de personas y sus edades respectivas.\n",
    "\n",
    "Luego de realizar la carga por teclado de todos los datos imprimir los nombres de las personas mayores de edad (mayores o iguales a 18 años).\n",
    "\n"
   ]
  },
  {
   "cell_type": "code",
   "execution_count": 66,
   "metadata": {
    "colab": {
     "base_uri": "https://localhost:8080/",
     "height": 0
    },
    "id": "bxGMcz0MoKaa",
    "outputId": "a690fc32-cc95-40bf-855d-160f44ce2365"
   },
   "outputs": [
    {
     "name": "stdout",
     "output_type": "stream",
     "text": [
      "Ingresa el nombre de la persona Nro. 1: Juan\n",
      "Ingresa la edad de la persona Nro. 1: 15\n",
      "Ingresa el nombre de la persona Nro. 2: Bach\n",
      "Ingresa la edad de la persona Nro. 2: 350\n",
      "Ingresa el nombre de la persona Nro. 3: Chopin\n",
      "Ingresa la edad de la persona Nro. 3: 200\n",
      "Ingresa el nombre de la persona Nro. 4: Liszt\n",
      "Ingresa la edad de la persona Nro. 4: 19\n",
      "Ingresa el nombre de la persona Nro. 5: Bach\n",
      "Ingresa la edad de la persona Nro. 5: 150\n",
      "\n",
      "Personas mayores de edad:\n",
      "Bach,Chopin,Liszt,Bach,"
     ]
    }
   ],
   "source": [
    "listaNombres = []\n",
    "listaEdad=[]\n",
    "for i in range(5):\n",
    "    ingresoNombre = input(\"Ingresa el nombre de la persona Nro. {}: \".format(i+1))\n",
    "    ingresoEdad = int(input(\"Ingresa la edad de la persona Nro. {}: \".format(i+1)))\n",
    "    listaNombres.append(ingresoNombre)\n",
    "    listaEdad.append(ingresoEdad)\n",
    "\n",
    "print(\"\\nPersonas mayores de edad:\")\n",
    "for i in range(5):\n",
    "    if listaEdad[i] >= 18:\n",
    "        print(listaNombres[i],end=\",\")\n"
   ]
  },
  {
   "cell_type": "markdown",
   "metadata": {
    "id": "JHMY32XqoSq5"
   },
   "source": [
    "### Ejercicio 64\n",
    "\n",
    "En un curso de 4 alumnos se registraron las notas de sus exámenes y se deben procesar de acuerdo a lo siguiente:\n",
    "\n",
    "a) Ingresar nombre y nota de cada alumno (almacenar los datos en dos listas paralelas)\n",
    "\n",
    "b) Realizar un listado que muestre los nombres, notas y condición del alumno. En la condición, colocar \"Muy Bueno\" si la nota es mayor o igual a 8, \"Bueno\" si la nota está entre 4 y 7, y colocar \"Insuficiente\" si la nota es inferior a 4.\n",
    "\n",
    "c) Imprimir cuantos alumnos tienen la leyenda “Muy Bueno”.\n",
    "\n"
   ]
  },
  {
   "cell_type": "code",
   "execution_count": 6,
   "metadata": {
    "colab": {
     "base_uri": "https://localhost:8080/",
     "height": 0
    },
    "id": "LucA6pD5oYI6",
    "outputId": "8be35d07-1764-4cc8-8aeb-5b04da9a7374"
   },
   "outputs": [
    {
     "name": "stdout",
     "output_type": "stream",
     "text": [
      "Ingresa el nombre del alumno Nro. 1: JUan\n",
      "Ingresa la nota del alumno JUan: 10\n",
      "Ingresa el nombre del alumno Nro. 2: Raquel\n",
      "Ingresa la nota del alumno Raquel: 8\n",
      "Ingresa el nombre del alumno Nro. 3: Montagno\n",
      "Ingresa la nota del alumno Montagno: 7\n",
      "Ingresa el nombre del alumno Nro. 4: Cristian\n",
      "Ingresa la nota del alumno Cristian: 6\n",
      "\n",
      "Alumnos mejor calificados: \n",
      "JUan,Raquel,"
     ]
    }
   ],
   "source": [
    "listaNombres = []\n",
    "listaNota=[]\n",
    "listadoCondicion = []\n",
    "condicionMB = \"MUY BUENO\"\n",
    "condicionB = \"BUENO\"\n",
    "condicionI = \"INSUFICIENTE\"\n",
    "\n",
    "for i in range(4):\n",
    "    ingresoNombre = input(\"Ingresa el nombre del alumno Nro. {}: \".format(i+1))\n",
    "    ingresoNota = float(input(\"Ingresa la nota del alumno {}: \".format(ingresoNombre)))\n",
    "    listaNombres.append(ingresoNombre)\n",
    "    listaNota.append(ingresoNota)\n",
    "\n",
    "for i in range(len(listaNota)):\n",
    "    if listaNota[i] >= 8:\n",
    "        listadoCondicion.append(condicionMB)\n",
    "    elif listaNota[i] >= 4 and listaNota[i] <= 7:\n",
    "        listadoCondicion.append(condicionB)\n",
    "    else:\n",
    "        listadoCondicion.append(condicionI)\n",
    "\n",
    "print(\"\\nAlumnos mejor calificados: \")\n",
    "for i in range(len(listaNombres)):\n",
    "    if listadoCondicion[i] == \"MUY BUENO\":\n",
    "        print(listaNombres[i],end=\",\")"
   ]
  },
  {
   "cell_type": "markdown",
   "metadata": {
    "id": "tf6zAVCPP3cd"
   },
   "source": [
    "### Ejercicio 65\n",
    "Realizar un programa que pida la carga de dos listas numéricas enteras de 4 elementos cada una.\n",
    "Generar una tercer lista que surja de la suma de los elementos de la misma posición de cada lista.\n",
    "Mostrar esta tercer lista."
   ]
  },
  {
   "cell_type": "code",
   "execution_count": 4,
   "metadata": {
    "colab": {
     "base_uri": "https://localhost:8080/",
     "height": 0
    },
    "id": "q6Q9ticIP4FO",
    "outputId": "1767c7f1-672b-4d8e-925f-ebf06ac56e04"
   },
   "outputs": [
    {
     "name": "stdout",
     "output_type": "stream",
     "text": [
      "Ingrese un numero entero: 15\n",
      "Ingrese un numero entero: 20\n",
      "Ingrese un numero entero: 65\n",
      "Ingrese un numero entero: 44\n",
      "Ingrese un numero entero: 10\n",
      "Ingrese un numero entero para otra lista: 65\n",
      "Ingrese un numero entero para otra lista: 98\n",
      "Ingrese un numero entero para otra lista: 45\n",
      "Ingrese un numero entero para otra lista: 10\n",
      "Ingrese un numero entero para otra lista: 23\n",
      "[80, 118, 110, 54, 33]\n"
     ]
    }
   ],
   "source": [
    "listaNumeros = []\n",
    "listaNumeros2 = []\n",
    "listaSuma = []\n",
    "\n",
    "for i in range(5):\n",
    "  listaNumeros.append(int(input(\"Ingrese un numero entero: \")))\n",
    "\n",
    "for i in range(5):\n",
    "  listaNumeros2.append(int(input(\"Ingrese un numero entero para otra lista: \")))\n",
    "\n",
    "for i in range(len(listaNumeros)):\n",
    "  listaSuma.append(listaNumeros[i]+listaNumeros2[i])\n",
    "\n",
    "print(listaSuma)"
   ]
  },
  {
   "cell_type": "markdown",
   "metadata": {
    "id": "ah-stmO6okpC"
   },
   "source": [
    "### Ejercicio 66\n",
    "\n",
    "Se debe crear y cargar una lista donde almacenar 5 sueldos. Ordenar de menor a mayor la lista.\n",
    "\n"
   ]
  },
  {
   "cell_type": "code",
   "execution_count": 3,
   "metadata": {
    "colab": {
     "base_uri": "https://localhost:8080/",
     "height": 0
    },
    "id": "TGd0woipongq",
    "outputId": "61819183-818e-49c0-c48b-bc46532bb8a4"
   },
   "outputs": [
    {
     "name": "stdout",
     "output_type": "stream",
     "text": [
      "Ingrese el valor del sueldo de la persona Nro. 1: 100\n",
      "Ingrese el valor del sueldo de la persona Nro. 2: 150\n",
      "Ingrese el valor del sueldo de la persona Nro. 3: 90\n",
      "Ingrese el valor del sueldo de la persona Nro. 4: 153\n",
      "Ingrese el valor del sueldo de la persona Nro. 5: 420\n",
      "[90.0, 100.0, 150.0, 153.0, 420.0]\n"
     ]
    }
   ],
   "source": [
    "listaSueldo = []\n",
    "for i in range(5):\n",
    "    ingresoSueldo = float(input(\"Ingrese el valor del sueldo de la persona Nro. {}: \".format(i+1)))\n",
    "    listaSueldo.append(ingresoSueldo)\n",
    "listaSueldo.sort()\n",
    "\n",
    "print(listaSueldo)"
   ]
  },
  {
   "cell_type": "markdown",
   "metadata": {
    "id": "R8MIkjGior9i"
   },
   "source": [
    "### Ejercicio 67\n",
    "\n",
    "Confeccionar un programa que permita cargar los nombres de 5 alumnos y sus notas respectivas. Luego ordenar las notas de mayor a menor. Imprimir las notas y los nombres de los alumnos.\n",
    "\n",
    "Debe quedar claro que cuando intercambiamos las notas para dejarlas ordenadas de mayor a menor debemos intercambiar los nombres para que las listas continúen paralelas (es decir que en los mismos subíndices de cada lista continúe la información relacionada)\n",
    "\n"
   ]
  },
  {
   "cell_type": "code",
   "execution_count": 2,
   "metadata": {
    "colab": {
     "base_uri": "https://localhost:8080/",
     "height": 0
    },
    "id": "gS8icxpMowAt",
    "outputId": "3f6d5396-3e20-4fc3-9353-d19ee3bce987"
   },
   "outputs": [
    {
     "name": "stdout",
     "output_type": "stream",
     "text": [
      "Ingrese el nombre del Alumno Nro. 1: Juan\n",
      "Ingrese la nota del alumno Nro. Juan: 10\n",
      "Ingrese el nombre del Alumno Nro. 2: Paco\n",
      "Ingrese la nota del alumno Nro. Paco: 8\n",
      "Ingrese el nombre del Alumno Nro. 3: Pedro\n",
      "Ingrese la nota del alumno Nro. Pedro: 6\n",
      "Ingrese el nombre del Alumno Nro. 4: LaMar\n",
      "Ingrese la nota del alumno Nro. LaMar: 10\n",
      "Ingrese el nombre del Alumno Nro. 5: Raquel\n",
      "Ingrese la nota del alumno Nro. Raquel: 8\n",
      "Juan 10\n",
      "LaMar 10\n",
      "Paco 8\n",
      "Raquel 8\n",
      "Pedro 6\n"
     ]
    }
   ],
   "source": [
    "listaAlumnos = []\n",
    "listaNotas = []\n",
    "\n",
    "for i in range(5):\n",
    "    ingresoAlumno = input(\"Ingrese el nombre del Alumno Nro. {}: \".format(i+1))\n",
    "    ingresoNota = int(input(\"Ingrese la nota del alumno Nro. {}: \".format(ingresoAlumno)))\n",
    "    listaAlumnos.append(ingresoAlumno)\n",
    "    listaNotas.append(ingresoNota)\n",
    "\n",
    "for j in range(4):\n",
    "    for x in range(4-j):\n",
    "        if listaNotas[x] < listaNotas[x+1]:\n",
    "            aux1 = listaNotas[x]\n",
    "            listaNotas[x] = listaNotas[x+1]\n",
    "            listaNotas[x+1] = aux1\n",
    "            aux2 = listaAlumnos[x]\n",
    "            listaAlumnos[x] = listaAlumnos[x+1]\n",
    "            listaAlumnos[x+1] = aux2\n",
    "\n",
    "for i in range(5):\n",
    "    print(listaAlumnos[i],listaNotas[i])"
   ]
  },
  {
   "cell_type": "markdown",
   "metadata": {
    "id": "73Zd1hXbozaZ"
   },
   "source": [
    "### Ejercicio 68\n",
    "\n",
    "Crear y cargar en un lista los nombres de 5 países y en otra lista paralela la cantidad de habitantes del mismo. Ordenar alfabéticamente e imprimir los resultados. Por último ordenar con respecto a la cantidad de habitantes (de mayor a menor) e imprimir nuevamente.\n",
    "\n"
   ]
  },
  {
   "cell_type": "code",
   "execution_count": 1,
   "metadata": {
    "colab": {
     "base_uri": "https://localhost:8080/",
     "height": 0
    },
    "id": "KlKKpRoYo55R",
    "outputId": "d3341755-7ed4-4dc2-c115-27e404e14f14"
   },
   "outputs": [
    {
     "name": "stdout",
     "output_type": "stream",
     "text": [
      "Ingrese el nombre del país Nro. 1: Argentina\n",
      "Ingrese la cantidad de habitantes de Argentina: 150\n",
      "Ingrese el nombre del país Nro. 2: Colombia\n",
      "Ingrese la cantidad de habitantes de Colombia: 420\n",
      "Ingrese el nombre del país Nro. 3: Puerto Rico\n",
      "Ingrese la cantidad de habitantes de Puerto Rico: 320\n",
      "Ingrese el nombre del país Nro. 4: Venezuela\n",
      "Ingrese la cantidad de habitantes de Venezuela: 100\n",
      "Ingrese el nombre del país Nro. 5: Peru\n",
      "Ingrese la cantidad de habitantes de Peru: 500\n",
      "Países en orden alfabético: \n",
      "Argentina 150\n",
      "Colombia 420\n",
      "Peru 500\n",
      "Puerto Rico 320\n",
      "Venezuela 100\n",
      "Listado de paises ordenados por cantidad de habitantes: \n",
      "Peru 500\n",
      "Colombia 420\n",
      "Puerto Rico 320\n",
      "Argentina 150\n",
      "Venezuela 100\n"
     ]
    }
   ],
   "source": [
    "listaPais = []\n",
    "listaHabitantes = []\n",
    "\n",
    "for i in range(5):\n",
    "    ingresoPais = input(\"Ingrese el nombre del país Nro. {}: \".format(i+1))\n",
    "    IngresoCantidad = int(input(\"Ingrese la cantidad de habitantes de {}: \".format(ingresoPais)))\n",
    "    listaPais.append(ingresoPais)\n",
    "    listaHabitantes.append(IngresoCantidad)\n",
    "\n",
    "for j in range(4):\n",
    "    for x in range(4-j):\n",
    "        if listaPais[x] > listaPais[x+1]:\n",
    "            aux1 = listaPais[x]\n",
    "            listaPais[x] = listaPais[x+1]\n",
    "            listaPais[x+1] = aux1\n",
    "            aux2 = listaHabitantes[x]\n",
    "            listaHabitantes[x] = listaHabitantes[x+1]\n",
    "            listaHabitantes[x+1] = aux2\n",
    "\n",
    "print(\"Países en orden alfabético: \")\n",
    "for x in range(5):\n",
    "    print(listaPais[x], listaHabitantes[x])\n",
    "\n",
    "for j in range(4):\n",
    "    for x in range(4-j):\n",
    "        if listaHabitantes[x] < listaHabitantes[x+1]:\n",
    "            aux1 = listaPais[x]\n",
    "            listaPais[x] = listaPais[x+1]\n",
    "            listaPais[x+1] = aux1\n",
    "            aux2 = listaHabitantes[x]\n",
    "            listaHabitantes[x] = listaHabitantes[x+1]\n",
    "            listaHabitantes[x+1] = aux2\n",
    "\n",
    "print(\"Listado de paises ordenados por cantidad de habitantes: \")\n",
    "for x in range(5):\n",
    "    print(listaPais[x], listaHabitantes[x])"
   ]
  }
 ],
 "metadata": {
  "colab": {
   "provenance": []
  },
  "kernelspec": {
   "display_name": "Python 3",
   "language": "python",
   "name": "python3"
  },
  "language_info": {
   "codemirror_mode": {
    "name": "ipython",
    "version": 3
   },
   "file_extension": ".py",
   "mimetype": "text/x-python",
   "name": "python",
   "nbconvert_exporter": "python",
   "pygments_lexer": "ipython3",
   "version": "3.8.3"
  }
 },
 "nbformat": 4,
 "nbformat_minor": 1
}
