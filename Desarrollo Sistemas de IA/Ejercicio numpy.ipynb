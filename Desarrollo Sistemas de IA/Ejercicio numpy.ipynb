{
  "nbformat": 4,
  "nbformat_minor": 0,
  "metadata": {
    "colab": {
      "provenance": []
    },
    "kernelspec": {
      "name": "python3",
      "display_name": "Python 3"
    },
    "language_info": {
      "name": "python"
    }
  },
  "cells": [
    {
      "cell_type": "markdown",
      "source": [
        "# Analizando datos\n",
        "Tenemos la siguiente tabla con datos sobre galletitas\n",
        "\n",
        "![imagen.png](data:image/png;base64,iVBORw0KGgoAAAANSUhEUgAAAO0AAAFoCAYAAAC7R3xQAAA3pUlEQVR4nO3dCVhU9f748feMgiSCsbinuBZa8lfRvN5wR9wTQSwTl7KkyO264I5buZSEmLti7lcz1BvXBdJraqY+7trPvJhLSWbgdUFxQWH+gxvbzDkziMZxPq/78FzjMMPwPeczGzNvihqMEEJoRtG/+gIIIawjQyuExsjQCqExMrRCaIwM7V8t7T+EVunIhc8usqG70199abQrLZ6+lTpzOSqZb94qno/Tb+K98l1ImX3J5Okz/ljFOw2H8r9h29nS/xWK5Niazn+n/Z26q9uz70A4tYvkOXmByhrajDN80aQmY2+PYscP46jvkPeLM35fSdf6vdnZ4d8kLmyN/dO9bJowu6UzUzxWcWJxB5yzfT79ZARNX4/itW9OMs8vHweRLTBc4dBXEwif+Q27Tl4iw6U6f+8yiMmT+uD9ou6vvnQ56Bw9qOfjQ0r1F9EX+LkbuLwigDrb3ufUV+0ppvLVeW5p7xyNoP+MQHaMeC3nUBou8a+Ro4m/bscLBXqBte2tPq0Y+3E0337WnmD3RwfaPY6u+IoDFd7hi+YysKbdYM84P1rP0tF9yhJ2+lbF/s8DrP3yK1bs7ky99m4UprHVOb9B2Ko3ntK53yPh2AluW/jVuYbWnjd6BJI8fQDzAr9jQI1Ht/MGrm0NZ/g+PwYEbiH68dff5pd/TWHUp0vZ+tNF7pXyvr8Dot6pgd3lJXSsuhyfRa3ZM3oy3+k/ZPvxKXgemc+QwZ+z/nAyBpdXaDNoBrP+4c3lb02fT2G/NXd/sw+dh73FspgLvBNS4cG18J29rFh9hjofvIu3XeYnzK9T7p/v9qlvGDd4Eit2nSFF74pnqw/49IsR+FUoisHkmk6lYba9eCthLeOHfsrqA38av+uL1AuewtxP/amcEUvPiuNxnRDEpX+uYt+ZP7jh1pLRixfRz7uE4mk9rpv4vsdGUWRBfwZEbuPcjRtcTkrhjgGKNY7k5PcDKfOLifP6pCmV7V3uf6+M04sYHvEbbRcfZ85bpR8MaLWqhP+966OVsO7YOtiCzOP01sl/MtD3M1buSURXuRWDZi9kVLNS989faW0fMJByeAHvfxlFzKEk7Gp0YGz0IvrXd8r1MKYE1w8vZFC/ycQcvULxas1pX/kqj17wYHo/jcdto4mfp5s7m/u35OOlv/C/9GA8Nr9AmV5rODCtMekmLu/+NWPy3tIW//toIh3a0GPQV3SKfR+PzKMw9Uc+GRxLvUl7aLErjkWPrhLSL3Bg702aTN5GdPMKXFr9Lk0/Gkj9Zht5z3j32nBnH9OnVGDirK18Wr0KL19dx3udRnL23XX8tLUZLsm7+fbwi7yQYf58+pQvTNe3JpTwpU+3crRatpozHwyhunG9bu5YztrkJowNrvHgsY/COvVxz3ZeN/5DWPs+7GqzjF1r3qTyvZ9Z8fGbBHUy8P2PY6lD3jV9JfseTPmOoe3e48c317FvXStKpx7k84COvD29Oj8MNm5PO8a6Lb2I2XCYBi9eZWNIA7oOWki7Hf+g6g3zp90Vkvf7Vj8zl2YjEui45xSjX7MjcWkQ3uPLsnzjACobz+tjU+cVEc/ekQ+G9s+tG9nv0Jo1HUubvkW18th6pehB441JGns2nyTkn4eJLH+ZuOEd6NI9DK8TX9GxiPLa1r3/Te9y+IeLfLzkOAteSmZFr8Z8mLk+OwdTLdtFM1zbzD/8h3A4YA3Ht7Wl3PXdfNYtgIzsX5P78ukuEGPuGJi1mzt/uvFRiRX8+ujusfFYGGLi8oKJoUVXklYTp9PWO5Sha9qzppsrRyMGsazsSPYEluG3Xdm+tkhV3p7y+eP/dOrciQZ9h3Lo5F3eyzzCjN++1agvCW1VMvPH4NLSJWy458+aUc0pl3kTU8GHrhUenNbc+fQpX9hva+1p+F4vas5dwar/G0R47VTil2/gdttZBJV/+OhHYZ36+GSd0434RaxIas28SZ2oev9edS2CPx1AtGckS/eNoM6rmZ/LvqY5pcQtYuX/2jA/vBVlM/dsSW/6929BxMT1nBxYx7hvi9P43RAauGZelbjRopU3rDvGyXvGewxKp32/Yp7vm/GrE45FMkhPz7x9MZCRnoGhuAuuL+hIWW/+vBj52v3TX/rzEga3upS2M7OsVh1bRmkPPtfiHxN4s0rm4hWnTdiHNJo/gY3702ieory2dRs+2JdN+4fTqXrmF5SgS0BDPgw9zn+N65N9aFO/W8Y314w/3/h2VMx87sehEYGtqvDJ6uw/QO795KZwjOf98c0dC5lMPnusc3+TKVNWUH/ESDZUqk3UTPh46/tUNe7r33J8pfHuxM//YsG81cTtP8O1e1c5k5ZOYPqjM3oBV9dHj4AzSPr9DzLK1KNCnjlUOZ9CrohnD95rNI2Zy/czPOwMyzc50MV4hefy+CbEkp8vg/8l/s5tt/pUyPYwWF+mIhWK/MnvfxiPnMyhzbGmOU9/9Y+L3L77K593asbcR9/7zhVcnGuSZuLFqvoixiuV9HTSDRacNtf31Xv04fMhS+nQqSHrXyyCfXkfpqwYgXfRDM4rnNcjru6uxsm9wMW7xv8wObjWHFum6VzdcdNf52rKPfW1NaFI0aLo7q9P5pk9+qxxP/1+gTS3BlRUeroiz+Wz5hg3fyxkMvMrHz3l357OhBUNeL/jt5TqsY7BdTIn7W6Or7p3bCp+LdZQb9YSVk77f5TWxdDVtb+Zn0JP6XJl0P/5G78brxXrFM3v+RRC+op07eNH+MilrK14jm1lu7O1adZqW/bz6XGrUJ5i/zvP77d4fCBnJCVyIb00dcqp/XZOj3tlD5xdajE1fi6+uZ+CvBOb79NmPkbLI20n8+dfxX/hTiLblKFYtvu4ipfjobLNfKl9K5IVGy7S6Z2yee4iF8QxkX7+LL8aXqJZRXvcDE+yttnpcXZzQX81iWSzVzh5WTsr5o4F46Gm8HtafWXe+3ImJyadpn14U0qY+JJbPx/khH19xnWsQ2mHu1zYvJ0Txist08+x6XBr35P2o0KYPLUn9UY35cWLW1n8r3RalrbmfAojHe4d+9A5rBfDPrlFzaFR1M22My1dpxJ+7xNcKoCp4d/SYHJHKt39mX+O/pJDNd/ji4Z2mU+4Kiru+wE9nQIYN74jVUb6Uc3xJmd++JZtNxrRyzf/p+3ZyMQJilaj7quX6P/mS8w3PpizL+FOpdqtGTRzFh8pnNcH7R/c0SxS80OmhKzgzX6d6J/6CX2av4zztWOsj5jCLp+lLHXLzzFhfEz67Tf8X5t3qKlPYFn4HP7v1fdZULcoJTxV1tYKJZu05430kcycuQ+fIfUwHFvMpK9+4t4L7c2eRvkY0PPCC8W4df4M55MSSLtdiVpmjoXgZf2VX1xRpFo3IpeY3+7ULozxq/vQ7/VGVK5YmspNO9CuwUZSzHy9rnRX5q67QL/+wbwccR3Hl7zpNOwLemaezxrLz6dQKtGSPt1cWDLXm0ndq+f45bvF6+TUks83LSJ88BjeKPs2V/VuvOoXwtp/jaCePai+Hat4Yz6NXcjEIaNoUiGQq0VcqFy/Ax9NbKP+KhqrTmvgf99OYHrqIPZfHUsdxwxuXzrBspBWhEVs5d2V/mbP6zGdC74R/yGu8mjCI7rj0y+FIu6v4BP0D6YEV+dFnXXH1n1FPPj7yz8xuEE5frxgoPwb77Ls6zC8iqqv7YPHxJbRV3qXeYt+oteQVlSYVJyXW/djclgQ/5ll/jTKx4DxsfQHA2nw1gj+36uzaTF6NTGDTF/eYLLf0uqrMviH6wxWvLh2NPvyVy4+viSvM3j98ZynGfnBw3/0ZuPN3rlOr8O10T9YdeAfec7Z/PlohT1/++y/3P3MxCbFdWrBnN9TH3/aoUYQn8UaP0ycjc7V1JrmVKyacWA2GD/ybOnIsivXcn5t4BpSAy05be7va+Dq6dNcMlTj3r3M50z1FNXfJPl/Oup0fvX+vbkiZs8rmyJlaDxoEdsHmdpo5bFl78eC3089+Pc4U6unvLbYt2PxpZs5PpVzfXLupypdZrLT+JHdhfce/sPUflI8BsC58Xh2XBif8zRmLq+8jFHkg55qIXOIPD2Ynq+9xDXj/YoiL1SkyfsrWd2vBk/5VXw2T4ZW5E8JL96dY7wrPOevviC2R4ZWCI2RoRVCY2RohdAYGVohNEaGVgiNkaEVQmNkaIV4hgxJsYQ2C2ZLg6XsW+JP6Xy881Q7uZmMJL6f1I23p2Uw5r/b6Fex4KMfIhvDNb4f8gZtv6rH1xeX0fHhC/8Nl/cQNXAIs7YcI/GWE55+oUyfMxrfsg/2R0bSTmYMG8Ws2INcuOvKq20+YurMkbQqJy+5IOMCXw/4kCUZPYmN6pRjYNN/mkT9euEcefSeHJ0j7RefJbZ3qTxvptBEbsZw4xgL+nQh/EA6BkOlZ/zdbZGBi+v70zcmhRezXzcaklkbGsC0q4NYcziOuoaDRPYMJDjMi4RlnXDOOMeCHp2Z4x7Bhl+2U7Por2wJ70pwT1f2xoVSxaavZzP4bfnHDIwtw+BtU/HN1cBKPX6E8y1mc2p5VzI36fQOOLmUMBkI0EBuJp2T84exwC6MuJgrhPpsKti1FHncO72I94eepffMUDZ/cCJrQ/ofXHcPJnLyUJq8lHlsNCWkmzefLz1NcgY439xD/G4X/OO74+Wa+Qrk6rT7uBtVvTfy/eWPqOJeyCskT1H6mUWEDNlO9fCdhP/NMdfWe/x85GcqNhxL5VLuqo9ZNZCbKULNIXEczPx2v0xXf6eLeDK3j/B5r09JD9vKEK9/syX7tqJe9JmVVV+4m7SH6K8TqNP5iwfHiUNNvKpdJGZVHAPqtaei4Tfi533NcTwobm+7A4vhIquHGe+lpjrx8nLjunxhh4dPTz75ciytjce38TEHx4+eJWF/a0pHpGJwq0XrD6cyY3gLypq4dyK5GZHF+Dh2x+heLCg/mV19q2P3q7kvvMu+cY1oO+Uo9o3HsqZXrQcHUtE6hP1zLpcGjaJx9X6UqFSOjBOHcfAbTHMbTjqn/7KCWRtvUzf0K775pC1lruzmi16BdO1ZmiPxmQ8b3OkWfZCGt9yo6uHM1X2z6ds1kN5uR9nUt1KeZKvkZsRDBv7cMIA+sQ348sduvKQnR6gsJzsaTjjApbBzbB7lT0BnR3bvGIKn8fgoXqsHs+KNH9zh2LSWNE7wZdrUoHw9S/q8uPfzMU6+0IHoiR2ofD9f1YShwwOY7b+ZXdeMDxtc9DhWqEXth1/v6DOQEV1n027LblKNQ5v7+k5yM+Khm+yP3cofF24QXP2bB58ypJF6I51uZbYR+FUCS944TPTqq7QI7UBV4/7TO1bGL7ApTtF7OXYHPLP1jG7smUCvSWfwnbePvtVt+zeLejd3XPn9QWvqofS0u6TbOVLcztS12V2up9zmhZLOJms2kpsRDznSYfHvpC7O+kzG2Rk0a3iIYecf/sonJYW903ux9M+VLBvZkrIp+5k/PYZrjUbzerZfERquxDO8dyRXg9Ywr3vFp1Dk1xa7+m/zdsU2TBu7Aa8xzXC+8B1Tx8XwQpdVtHTMXK/dzIncj8fbPfGroedM7DjCN5Sk+/qmmPjNqzZyMxln59CxyUQO3r7J5Zt3OOFdnsnle/P1/qn4WJf3EU/CuS0R6yczdHA/vEudJ825El6+/YhZEELlR5NpuMi6AX1Z5difdTM6UsqG7xY/Vux1xsbM43b/kfhUOk2qY1V83pnNxskPip2Gos6UTN3GGL9wuiSD+2u+vLtkE2Oamrqp1EhuRl8llI3nQxUvmSh4+iqD2JmU/TM6SnqHsHCH8cPciXRlCVx+jkBz222UQ42uRGwxfpjYpnOqTXBErPHDsvOy7QcbQmiQDK0QGiNDK4TGyNAKoTEytEJojAytEBojQyuExsjQCqExMrQiX9SyKQWRVRGmaSI3c+/8Jib2H8OSnSdJNpTFOyCMqMgQvJ3lSHhqzORm7lPIpli03QYp5WTuxvelYtuFJOV+W5V9E6IStjPAI+ertwt/bib9JFHdgllbYyYbTwXgcWUrY7p0I2iMJydmNjP5gmrxpMzkZu5Tzqaob7dNSjkZe9+ZnEqaQprh0duA0jk11x//7V3oYKKFVuhzM3aplyjiPZq547tTO/PV1W7t6Rv4MtHfHeFiRrOsF6qLAmM2N4NaNkV9u21SyckYB9jZLevmx3AphoHzkwla9h5VLSlXFL7cjA+DonyyLqDxFv/Qgd8o5+1NORnYgqeUm1HNpqhst1VW5WTSOBQ1kbhXh3GomekrPY3lZu5xbuUAJpwMYMZCH7I/zBIFQCU3o5ZNqXRaLavy1/xYfzmd5TmZjMQVjJt3h14belLJzHppKDdzh4SlvXnzUxi7cTYd5dmNAqaem1HLprylmlWx1X1maU7mBjumTWHv30Yxv5H5Z440kpu5yU/zuuM/04mJmxfxTjWJvRU89dzMotLK2RTrsyq2ynROJv3UQsYtL8YH8e9QQeFeSeHPzRiucyiyK12i3Rm1ZBJNiiWRmGg8QBxepKy7o82nTAqOBbmZO8rZFLWsiq2yKCdjfNwbOymCky0/Y20D5Qd+hT43k7Z9BG8Oi+OC8d99G6543D3Wu/Ym9o+vaCc3us+OSjZFdbutsiAnk3ZkpvFepAdDtgVRRmWtNJCbmU1i+mzln0I8FXlzM8rZFEu22yJLcjL2dcdzKHm8RecnL2MUQmNkaIXQGBlaITRGhlYIjZGhFUJjZGiF0BgZWiE0RoZWCI2RoRXiGSqIDI8mcjOGy3uIGjiEWVuOkXjLCU+/UKbPGY2vqb9tLwqGUm5GYbtSVsWWX8l4n0KGJyNpJzOGjWJW7EEu3HXl1TYfMXXmSFqVy/s+5MKfmzEkszY0gGlXB7HmcBx1DQeJ7BlIcJgXCcs64fwsL4vNUMrNKG9XyqrYNoUMT8Y5FvTozBz3CDb8sp2aRX9lS3hXgnu6sjcu7/uQC31uxj79D667BxM5eShNXsq8PE0J6ebN50tPk5wBznJjW+CUcjPK21WyKjZMMcNzcw/xu13wj++Ol2vmm/Wq0+7jblT13sj3lz+iinvOqzwN5Ga86DMrq2pxN2kP0V8nUKfzF3jIwBY8pdyM2narsio2RC3D41ATr2oXiVkVx4B6xu2G34if9zXH8aC4fd77KBrKzdxl37hGtJ1yFPvGY1nTq5Zckxc0ldyM6nYrsiq2RC3TU6VoHcL+OZdLg0bRuHo/SlQqR8aJwzj4Daa5U97z01Buxo6GEw5wKewcm0f5E9DZkd07huBpw72wgqWWm1HP0VieVbEtapmezAxP8Vo9mBVv/OAOx6a1pHGCL9OmBpl8drnQ52YMST8QvfoqLUI7UNV4Gr1jZfwCm+IUvZdjd8CzuNVrKExSy80cJkglR7O0c+48hemsiq2xJsNzY88Eek06g++8ffStbno8C31uRueQwt7pvVj650qWjWxJ2ZT9zJ8ew7VGo3ldSuUFyILcTGfl7RZlVWyQpRkew5V4hveO5GrQGuZ1r2j24UShz83g3JaI9ZMZOrgf3qXOk+ZcCS/ffsQsCJFQeWFjQVbFJlmS4TFcZN2Avqxy7M+6GR0ppfA7Mg3kZqCkdwgLdxg/FC+bKGimcjNK2y3Jqtgq1QyPriyBy88RaMF5yROwQmiMDK0QGiNDK4TGyNAKoTEytEJojAytEBojQyuExsjQCqExMrSiQN08sYLhAyaxel8iaY5VeKPHBL78NBD566QP2Exu5jG1BIooOCbWOi2+LxXbLiQp99t77JsQlbCdAeUPM/mtD9nlG8ORf7fC7c8N9GvVix6lX2PXsFew+TdkmcnNqK5rrjeOF/7cTNYFUEmgiIJjeq3tfWdyKmkKaYZHb1dJ59Rcf/y3d6FDRT2Gy0c5dKYsLYNaUMHBeEKPDnRt5kjgwZ+4i60PrfncjNq65lb4czMPv5NaAkUUHLNrrXfA2S3rLpjhUgwD5ycTtOw9qmYeWy5v0Mr7CtEr4xhUry2u579hxX8MNB/z+rO/V1bIKOZm1NY1Fw3kZnTqCRRRcCxe6zQORU0k7tVhHGr28CAs8gofzQpncyt/POZm3moU4aWABWxXeJuZTVDLzeRgYl1zKfy5mXK3lBMnouCo5WSyyUhcwbh5d+i1oSeVHk6kIXkDIR0nkNpnM2dHN8Xl942Meqs37Yd5sH9Gc5stV6jmZrJdo5la19wKeW7GksSJKBjWrPUNdkybwt6/jWJ+o6xnOK5vXc66lDYsHd0Kj8wbiZf9GfdxI6JHreLHz5rT2kbvI1uSm3nA9LrmVshzM2oJFFOJE5E/lq91+qmFjFtejA/i36FCjlsDg/F/upyNY53u4edtl6W5GfPrmlMhz81YkEARBcTCtTZcJnZSBCdbfsbaBjl3gFPzLrSx/5iIqVupN7wp7kmbmPjlLkp3WksjG45EWZSbUVjX3Ap/bkYUKmlHZjJxswdDtgVRJtcLA3Rlu7Hw28sMGdqXup8nctupCo26zuLf09pS0pb/xIAFuRmldc1NE7mZ7NQSKKLgmFpr+7rjOZQ83swpdLg07MfiXcaPp33hNEYtN6O8rjnJyxiF0BgZWiE0RoZWCI2RoRVCY2RohdAYGVohNEaGVgiNkaEVQmNkaEW+FEQ2ReSPJnIz6T9Non69cI48er+CzpH2i88S27sUcqw8JUppHzPZFItPb2MsycmknY5hdP9wlu04zc2SnrQKmcaXY1pTwUTuQxO5mdTjRzjfYjanlncls9Kh0zvg5FJCBvapUUr7mM+mWHZ626Oak7n5I2M79WFri8XsWOGH2/l1DA16i0D7XewaWTvPH+TWQG7mHj8f+ZmKDcdSuZS73J9/BpTSPorZFAtOb5NUcjLX42az+EoXlk0JwDNzSV17EDFuPTVGzGXn4Dm0zHUvpfDnZspd5vjRsyTsb03piFQMbrVo/eFUZgxvQVm5Fi94SrkZS7IpkgZSkTsnc4+T+w5y02sY9Ys/+hodLg0a8crlb9h/Np2WnjnvIxf+3Ex5d7pFH6ThLTeqejhzdd9s+nYNpLfbUTb1rWTb7aGCppKbUc2m6CzP1diqvDmZDK5dSzEe9M44ZXukoXcqiRPXuJKSNx9QyHMz9y8+jhVqUfvhVzr6DGRE19m027KbVOPQ2mp3qOCp52aUsykfUvx7SQMpM5WT0eNc0hnOpXDDOJ8ODwc34/o1ruPMi855nzMo5LkZU+5yPeU2Lxh/UBuOITwF6rmZRaWVsim3JA2kwnROpiier9ej+PK9HLjZhzb3l8jA1QP7SHCpT4MqeZ8+LuS5GePFN94FmxO5H4+3e+JXQ8+Z2HGEbyhJ9/VNMfFbKZFvFuRm7ihlUxxxkTSQeQo5Gec2/XjXpT2jx3Sk2nhf3BI3MGziNmqE7qSpiXUr/LmZos6UTN3GGL9wuiSD+2u+vLtkE2OamroaEU+VBdkUYZpiTqb43/lkwyIy+o/gjXKPfk+7mpgwL5P3JjWQm6lNcESs8UPxgomnwFRuRi2bonZ6W6WWk7GvHsj0zcYPC85Lfu0phMbI0AqhMTK0QmiMDK0QGiNDK4TGyNAKoTEytEJojAytEBqjqaGVxEnhIfsif9TWzZJ11URu5sE3tyBxIgpOPnMzhst7iBo4hFlbjpF4ywlPv1CmzxmNr7z5Wf0YtvAY10RuxrLEiSg4+czNGJJZGxrAtKuDWHM4jrqGg0T2DCQ4zIuEZZ1wfpY/QqGjdgxbfoxrIDdjWeJEFJx852bS/+C6ezCRk4fS5KXMY6cpId28+XzpaZIzwNmGb2zVjmFrjnEN5Gb+VE+ciILzJLmZol70mZVVILmbtIforxOo0/mLB8eRrVJbN0syPtkU+txM71SVxIktHwwF7UlzM4/3xV32jWtE2ylHsW88ljW9amnrGc8CprZulU5bd4wX+tyMcuLkI6rIGzkLyJPmZrLvCzsaTjjApbBzbB7lT0BnR3bvGIKnjd4xUlu3t6w8xgt9bkbvppQ4kYEtOE+am9FhSPqB6NVXaRHagarG/at3rIxfYFOcovdy7A54Fjf9nZ93asewtcd4oc/N2NVXSpxYuGrCAk+amzHu4YwU9k7vxdI/V7JsZEvKpuxn/vQYrjUazes23AZSO4atPcYLf25GEieFh9q+cG5LxPrJDB3cD+9S50lzroSXbz9iFoRQ2Zafe1BbNyuPcQ3kZqxLnIiCY31uRkdJ7xAW7jB+PIPLpyVqx7A1x7gtP6knhCbJ0AqhMTK0QmiMDK0QGiNDK4TGyNAKoTEytEJojAytEBojQysK1M0TKxg+YBKr9yWS5liFN3pM4MtPA6n2TDMnhVdBZHoKfW4mLb4vFdsuJCn3W07smxCVsJ0BNv1GzafITG5GMSdz9yCT3/qQXb4xHPl3K9z+3EC/Vr3oUfo1dg17BRt9k08WhZxMRtJOZgwbxazYg1y468qrbT5i6syRtCpnwftpC1tuxt53JqeSppBmePQWiHROzfXHf3sXOlSUgX06zORmVHIyTteOcuhMWVoGtaCCg/GEHh3o2syRwIM/cRdbH1qFnEzGORb06Mwc9wg2/LKdmkV/ZUt4V4J7urI3TvX9tIUwN6N3wNkt62bfcCmGgfOTCVr2HlVlZp8Ks7kZtZyMyxu08r5C9Mo4BtVri+v5b1jxHwPNx7z+bCOAhZBiTubmHuJ3u+Af3x0v18y/SFuddh93o6r3Rr6//BFV3FXeT1vocjPls1/gNA5FTSTu1WEcaibvy3sqlHIzqjmZV/hoVjibW/njMTfznlERXgpYwPbuFbHp61e1nIxDTbyqXSRmVRwD6hm3G34jft7XHMeD4vaWvJ+2kOVm+pTPuo7OSFzBuHl36LWhJ5Vs+ih4SlRyM1lM52QMyRsI6TiB1D6bOTu6KS6/b2TUW71pP8yD/TOa4/QMf5TCRDXTU7QOYf+cy6VBo2hcvR8lKpUj48RhHPwG09zEohX63EyWG+yYNoW9fxvF/EbPPuL6/FPPzWQxnZMpv3U561LasHR0Kzwy7wi97M+4jxsRPWoVP37WnNY2eh/ZkkxP8Vo9mBVv/OAOx6a1pHGCL9OmBqnEynMoPLmZR9JPLWTc8mJ8EP8OFeRW9ilQz80seeOwYk6mvHHwDejIcZzpMv8r8/O2y5qczI09E+g16Qy+8/bRt7rp8Sz0uZn7DJeJnRTByZafsbZBMZPnLp6UBbmZFOWcjFPzLrSx/5iIqVupN7wp7kmbmPjlLkp3Wksju7/sB/vLWZqTMVyJZ3jvSK4GrWGewvMAhT83Y5R2ZCYTN3swZFsQZSQx89dRy8mU7cbCby8zZGhf6n6eyG2nKjTqOot/T2tLSVveb5bkZAwXWTegL6sc+7NuRkdKKayXJnIz9nXHcyh5vOIlEwUvb25GLSejw6VhPxbvMn48k0uoHao5GV1ZApefI9CC85KXMQqhMTK0QmiMDK0QGiNDK4TGyNAKoTEytEJojAytEBojQyuExmhiaCVhoh2yr5TZRG5GEiZ/ETO5mfsykvh+UjfenpbBmP9uo9+jgojsK2W2kpsxSMLkL2AmN5O55cYxFvTpQviBdAyGSjm3yb5SYEu5GUmYPHNmczOkc3L+MBbYhREXc4VQn005TqeTfWWWjeVmJGHyTCnlZoxrX3NIHAfJrDFMz/se2SKyr0yytdzMe3abJGHyrFicmzFzcsnNmGRzuZnrkjB5RqzJzZgm+8o0G8zNSMLk2VDPzSztrFbAlH1lis3lZiRh8qxYkJtRIfvKNJvLzegkYVKoZJydQ8cmEzl4+yaXb97hhHd5Jpfvzdf7p+Ij+8o0W8zNSMLkr5E3N5P5uVA2ng81cwrJzZgjuRkhbJgMrRAaI0MrhMbI0AqhMTK0QmiMDK0QGiNDK4TGyNAKoTEytEJoTOHPzWBdikMUEDO5mXvnNzGx/xiW7DxJsqEs3gFhREWG4O384HV3hst7iBo4hFlbjpF4ywlPv1CmzxmNb1nbfUdtWnxfKrZdSFLut03ZNyEqYTsDPPSknY5hdP9wlu04zc2SnrQKmcaXY1pTwcQhXuhzM9amOERBMJObST9JVLdg1taYycZTAXhc2cqYLt0IGuPJiZnNcDAkszY0gGlXB7HmcBx1DQeJ7BlIcJgXCcs64fyX/Tx/LXvfmZxKmkKa4dHbfNI5Ndcf/+1d6JDZ17r5I2M79WFri8XsWOGH2/l1DA16i0D7XewaWZvc77Uo/LkZK1Mc4smZy80YUi9RxHs0c8d3p3bmK93d2tM38GWivzvCxYxmVM74g+vuwUROHkqTlzKPnaaEdPPm86WnSTbeyjjb6hWs3gFnt6y7roZLMQycn0zQsveoalyT63GzWXylC8umBOCZ+a4f1x5EjFtPjRFz2Tl4Di1zvcOq8OdmSluX4hBPSCE3o3P2YVCUT9YnjPe+Dh34jXLe3pTLPE70XvSZlVUguZu0h+ivE6jT+YsHx5EwSuNQ1ETiXh3GoWaZE3qPk/sOctNrGPWLP/oaHS4NGvHK5W/Yfzadlp457yMX+txMn/LWpTjEE7AqN3OPcysHMOFkADMW+pDzxuAu+8Y1ou2Uo9g3HsuaXrXkGc+HMhJXMG7eHXpt6Eml+1dkGVy7lmI86J1xynYbpHcqiRPXuJKSNx9Q6HMzmaxJcYj8siY3c4eEpb1581MYu3E2HfPsCDsaTjjApbBzbB7lT0BnR3bvGIKnzT9veIMd06aw92+jmN/o0VzocS5pfLR/LoUbxvl0eLiUGdevcR1nXnS2JOz28IwKT24m249sQYpD5JeluZmb/DSvO/4znZi4eRHvZPvTAYakH4hefZUWoR2oatw9esfK+AU2xSl6L8fugGdx09/ZVqSfWsi45cX4IP4dKjx+uFAUz9frUXz5Xg7c7EOb+yULA1cP7CPBpT4NqlgQK3+skORmHrE0xSHyy4LcjOE6hyK70iXanVFLJtGkWBKJiTr0Di9S1t3R+P8p7J3ei6V/rmTZyJaUTdnP/OkxXGs0mtdN/ArRphguEzspgpMtP2Ntg5wPJpzb9ONdl/aMHtORauN9cUvcwLCJ26gRupOmJjI/hT438+AHtjzFIZ6etO0jeHNYHBeM/+7bcMXjWJvetTexf3xFO+e2RKyfzNDB/fAudZ4050p4+fYjZkEIlW38WjbtyEzjPRMPhmwLokzu47f43/lkwyIy+o/gjXKPfk+7mpgwrzy/7smkidyMNSkOUXBy52bsW8wmMX22wil0lPQOYeEO48dTv3TaYl93PIeSx5vfXj2Q6ZuNHxaclzwwFEJjZGiF0BgZWiE0RoZWCI2RoRVCY2RohdAYGVohNEaGVgiNkaEVQmM0kZt58M2T+H5SN96elsGY/26jX8Ws18VZk+oQFjKTmymw7TbEktyMNZmewp+byfzWN46xoE8Xwg+kYzBUyrnRylSHsISZ3EyBbbctqrkZKzM9hT83Y/wBT84fxgK7MOJirhDqsynHJbY21SHUmcvNFNR2m6OSm+GedZmewp+bKV+EmkPiOJj57X6ZTs738Vuf6hAqFHIzBbLd5uXOzRgVtS7To4HcjNIjZ+tTHUKBWm7mSbcLE7mZ7CzL9GgiN2Oe9akOYY5abuZJtwvTuZnsLMv0aCo3k5f1qQ5hjlpu5jBBT7T9Ua7GdpnOzVif6dFMbsYca1MdwhwLcjOdn3C7LVPIzeiszPRoIjeTcXYOHZtM5ODtm1y+eYcT3uWZXL43X++fio+VqQ4h/gqKuRkrMz2ayM3oq4Sy8Xyo2UtlTapDWC53bqagt9sS5dyMdZkeeRmjEBojQyuExsjQCqExMrRCaIwMrRAaI0MrhMbI0AqhMTK0QmiMDK0QGvNc5GYs2i6sYyYXo5T2sSSrYossWRdrkknaz81YsF1Yy0wuRiXto5pVsVGq62JlMknzuRlUtwtrmcvFqKd9VLIqtkolN2NtMknjuZlMatuFVczmYqxN+5jIqgjyrov1ySSN52ZEgVLMxViX9lHOqtiuvOtifTJJ47kZUXDUcjHWpH3Usiq2ytS6WJ9M0nhuRhQctdxMAl9amPYxl1WxdabXxfpkkuZzM6KgWJCbuWlB2kchq2LTFNbF2mSS9nMzdurbRQGxIO2jmFWxYYrrYmUy6bnIzahtF/ljKhejlvZRzqrYLrV1sSaZJC9jFEJjZGiF0BgZWiE0RoZWCI2RoRVCY2RohdAYGVohNEaGVgiNkaEV4hkyJMUS2iyYLQ2Wsm+JP6Xz8aqx5yI3c+/8Jib2H8OSnSdJNpTFOyCMqMgQvOWPSuefmdyM4fIeogYOYdaWYyTecsLTL5Tpc0bjW1YvuRk1GRf4esCHLMnoSWxUpxwDa1u5mfSTRHULZm2NmWw8FYDHla2M6dKNoDGenJjZDBPXPUKVmdyMIZm1oQFMuzqINYfjqGs4SGTPQILDvEhY1glnyc0oyOC35R8zMLYMg7dNxffFbBNra7kZQ+oliniPZu747tR2MS6EW3v6Br5M9HdHuJjRzOTf9xTKzOVmSP+D6+7BRE4eSpOXMo+NpoR08+bzpadJNt66OqtkVWxZ+plFhAzZTvXwnYT/LWfJw+ZyMzpnHwZF+WR9wniP4NCB3yjn7U05Gz9Q8sVsbsaoqBd9ZmUVRu4m7SH66wTqdP6CvPd8JTfzmOEiq4cZ76WmOvHy8vZU/MIOD5+efPLlWFqXN9h6buYe51YOYMLJAGYs9EHezWklxdxMdnfZN64Rbaccxb7xWNb0qpXnQJLcTJb0X1Ywa+Nt6oZ+xTeftKXMld180SuQrj1LcyT+fVvOzdwhYWlv3vwUxm6cTcf8PC1n09RyM9nZ0XDCAS6FnWPzKH8COjuye8cQsm4QJDeT3b2fj3HyhQ5ET+xA5cxb0+JNGDo8gNn+m9l17QM8bTM3c5Of5nXHf6YTEzcv4p1qEoOznnpuZskbh4lefZUWoR2oatx/esfK+AU2xSl6L8fugOfDu3eSm8lJ7+aOK7+Tnu1GMz3tLul2jhS3s7PB3IzhOociu9Il2p1RSybRpFgSiYk69A4vUtbdETlmLGVBbiYlhb3Te7H0z5UsG9mSsin7mT89hmuNRvP6o+efJDeTh139t3m7Yhumjd2A15hmOF/4jqnjYnihyypaOtpgbub1XSN4c1gcF4xf17fhisdPVOldexP7x1e0kxvdguPcloj1kxk6uB/epc6T5lwJL99+xCwIefwsveRmTCj2OmNj5nG7/0h8Kp0m1bEqPu/MZuPk9mT+wsP2cjMtZpOYPlvxUov8yZub0VHSO4SFO4wfZk4juRnTHGp0JWKL8cPMdsnNCPEck6EVQmNkaIXQGBlaITRGhlYIjZGhFUJjZGiF0BgZWiE0RoZWiKeoIPIyuT0XuRmlBIrIJzO5mfsU9oU12RQtS/9pEvXrhXPk0XtodI60X3yW2N6leDyXCnmZ7KzN9Gg/N6OWQHnGl/X5YCY3g8q+sDKbomWpx49wvsVsTi3vSmY5Rqd3wMmlRNbAKuVlcrG3MtOj+dyMegLFij0h7jObm1HZF9ZmU7TrHj8f+ZmKDcdSuZS7yceYSnmZPKzM9Gg+N2NdAkWoUsrNoLQv7lmdTdEsw2WOHz1Lwv7WlI5IxeBWi9YfTmXG8Bbcf0SmmJdRWwP1TM9zlJtRT6AIFRbnZkzJsDqbolk6d7pFH6ThLTeqejhzdd9s+nYNpLfbUTb1rYRBMS8TShWFGxNLMj3PUW5GLYEilFmTmzFFj7OV2RTt0uNYoRa1H/6Xo89ARnSdTbstu0k1Dq29Yl7mI6q4mFsLyzI9ms/NGJJ+sCiBItSo52aWdlZ6bFbU6mzK8+Mu11Nu84LxSivzyTblvIz5Ky9LMz2az83oHCxIoAgLWJCbUWFtNkWrDMa7u3Mi9+Pxdk/8aug5EzuO8A0l6b6+6YM4vkpeJvM3Ht/PmMbulwcysn3FB0kkKzI9ms/N+FiQQBEFR3FfWJlN0ayizpRM3cYYv3C6JIP7a768u2QTY5o+vGlTy8vcS2TXynlMKf0qH7Z7FzeddZke7edmLEigiPzJm5tR2xfWZVO0SudUm+CIWOOH+a9RzMsUrcugye/zfz814tGvb63J9MgTrEI8axmJxB2pzZgBnuTnkb4MrRDPmv4luoT1yffJZWiF0BgZWiE0RoZWCI2RoRVCY2RohdAYGVohNEaGVohnqCDyM89FbuYxpUSKsI6ZtcxI2smMYaOYFXuQC3ddebXNR0ydOZJW5R68TEDSPwoU8jPWZHq0n5vJ+iqziRRhLTNrmXGOBT06M8c9gg2/bKdm0V/ZEt6V4J6u7I0LpYpO0j/mKeRnrMz0aD8385D5RIqwltm1vLmH+N0u+Md3x8s181CqTruPu1HVeyPfX/6IKi9K+sccpfyMtZke7edmMikmUoRVlNbSoSZe1S4SsyqOAfXaU9HwG/HzvuY4HhS310n6xxzF/IzB6kyP9nMzT5RIETmorWXROoT9cy6XBo2icfV+lKhUjowTh3HwG0xzp+xfKOmf7NIV8zPvW53p0Xhu5kkTKSKLZWtZvFYPZsUbP7jDsWktaZzgy7SpQbmeBZX0T3b3FPMzH+BpZaZH47mZJ02kiCzWreWNPRPoNekMvvP20bf6g50p6R/TlPMzdlZnejSem3nyRIp4xPK1NFyJZ3jvSK4GrWFe94e5FCT9Y46dSn7G2kyP9nMzz1XHRAMMF1k3oC+rHPuzbkZHSmW/9ybpH9PU8jNWZnqeg9xMTqYSKSJ/TK6lriyBy88RaPIUkv4xRzE/g3WZHlt+Uk8ITZKhFUJjZGiF0BgZWiE0RoZWCI2RoRVCY2RohdAYGVohNEaGVohnSHIzD6X/NIn69cI58uj9DDpH2i8+S2zvUjxPf8r4mTKTm7l3fhMT+49hyc6TJBvK4h0QRlRkCN65340i6Z+8FHIz1hzDz0VuJvX4Ec63mM2p5V3v/xUynd4BJ5cSMrD5ZiY3k36SqG7BrK0xk42nAvC4spUxXboRNMaTEzOb4aB2epumkJvBumP4OcjN3OPnIz9TseFYKpdyl/v7BcBcbsaQeoki3qOZO747tTNf6e7Wnr6BLxP93REuZjR7/KYASf/kpZSbsfYY1n5uxnCZ40fPkrC/NaUjUjG41aL1h1OZMbwFEgDMB4XcjM7Zh0FRPlmfMN77OnTgN8p5e1NOr356m6WYmyli9TGs/dyMzp1u0QdpeMuNqh7OXN03m75dA+ntdpRNfSshc2sFq9I99zi3cgATTgYwY6EPxaw+ve1Qzs2EUkVv3TGs8dxMJj2OFWpR++F/OfoMZETX2bTbsptU4w/spHhakcWadM8dEpb25s1PYezG2XS8/4yKpH/MUc7NfEQVF+uOYY3nZky5y/WU27xQ0tnkG4iFOZbmZm7y07zu+M90YuLmRbxTzd7K09se5dyMqaealI9hjedmMtMnu5kTuR+Pt3viV0PPmdhxhG8oSff1TbHhwkk+WJCbMVznUGRXukS7M2rJJJoUSyIxUYfe4UXKukv6xxy13Iy1x7DmczNvFHWmZOo2xviF0yUZ3F/z5d0lmxjT1NTVjHgSadtH8OawOC4Y/9234YrHTwrqXXsT+8dXtHumv7jXEJXcjMHKY1j7uRm72gRHxBo/FC+4yIfcuRn7FrNJTJ+d79PbMqXcjM7JumNYfq0phMbI0AqhMTK0QmiMDK0QGiNDK4TGyNAKoTEytEJojAytEBrzXA1tQaQ8hGVkrf86z0Vu5sF28ykPkQ9KuRiFtbY4R2Nj1HIyNpebUUt5CGsp5WIU1triHI3tUcvJ2FhuRi3lIayllItRWmtLczS2Ry0nY3O5GZWUh7COUi5GZa0tytHYIrWcjK3lZtRTHhYurFDNxVi31iZyNLZKLYlkZTJJ87kZ9ZSHPL61jHouxvK1NpWjsWVqORkby81Yn/IQpqnnYhaVtmStzeVoRBa1JNJznptRS3kIS1mQi7mjstYqORpbfaSilpOxudyMj0rKQxQglbVO+4/kaExSy8nYXG4G5ZSHyD9TuRiltbY2R2Mr1HIykpsR4jknQyuExsjQCqExMrRCaIwMrRAaI0MrhMbI0AqhMTK0QmiMDK0Qz1BBZHo0n5tJi+9LxbYLScr9lhT7JkQlbGeAh62+4vUJmcnNWJSTUUsD2SqFTI/h8h6iBg5h1pZjJN5ywtMvlOlzRuNr4g21ms/N2PvO5FTSFNIMj17pms6puf74b+9CBzlY8slMbsaCnIx6GshWKWR6DMmsDQ1g2tVBrDkcR13DQSJ7BhIc5kXCsk445zon7edm9A44u2XdLTBcimHg/GSClr1HVZnZfDGXm1HPyaingWyVYhIp/Q+uuwcTOXkoTV7KnLmmhHTz5vOlp0k23oN0znUcaz83k0Mah6ImEvfqMA41k/fl5YtCbkY9J2PNvrIhakmkol70mZVVbrmbtIforxOo0/kLTD2603xuJruMxBWMm3eHXht6UkluZa2nkpvJSXIylrI803OXfeMa0XbKUewbj2VNr1omnynWfG4myw12TJvC3r+NYn6jZ/2o+3mgnpvJIjkZa1ie6bGj4YQDXAo7x+ZR/gR0dmT3jiF45uoTaj4380j6qYWMW16MD+LfoYLcyuaDem5maWdHJCdjPbUkkiHpB6JXX6VFaAeqGudC71gZv8CmOEXv5dgd8Cye8/w0n5u5z3CZ2EkRnGz5GWsbyB21/LEgNyM5mXxRSyLpMlLYO70XS/9cybKRLSmbsp/502O41mg0r5v41av2czN2kHZkpvFa34Mh24IoI/fUnpq07eo5GbV9ZZPUkkjObYlYP5mhg/vhXeo8ac6V8PLtR8yCEJOB9+ciN2NfdzyHkscrXnJhvdy5GUtyMmr7ylYpJ5F0lPQOYeEO44cF5yUvYxRCY2RohdAYGVohNEaGVgiNkaEVQmNkaIXQGBlaITRGhlYIjZGhFUJjZGiF0BgZWiE0RoZWCI2RoRVCY2RohdAYGVohNEaGVgiNkaEVQmNkaIXQGBlaITRGhlYIjZGhFUJj/j9iSyg1xTnv+QAAAABJRU5ErkJggg==)"
      ],
      "metadata": {
        "id": "wxqxAFKTg7Af"
      }
    },
    {
      "cell_type": "code",
      "execution_count": null,
      "metadata": {
        "id": "3l6nsJs0hMT5"
      },
      "outputs": [],
      "source": [
        "import numpy as np\n",
        "\n",
        "marca = np.array([\"Marca1\", \"Marca2\", \"Marca3\", \"Marca4\", \"Marca5\", \"Marca6\", \"Marca7\", \"Marca8\", \"Marca9\", \"Marca10\", \"Marca11\", \"Marca12\", \"Marca13\", \"Marca14\", \"Marca15\", \"Marca16\", \"Marca17\"])\n",
        "valEnergetico = np.array([439, 466, 445, 478, 464, 463, 438, 418, 423, 444, 407, 437, 410, 493, 424, 462, 421])\n",
        "carbohidratos = np.array([65, 57, 69, 67, 70, 66, 69, 69, 70, 73, 70, 60, 56.7, 60, 65, 55, 63])"
      ]
    },
    {
      "cell_type": "markdown",
      "source": [
        "queremos calcular el promedio del valor energetico de todas las galletitas.\n",
        "\n",
        "con un for?"
      ],
      "metadata": {
        "id": "H1dWzkTUreVe"
      }
    },
    {
      "cell_type": "code",
      "source": [
        "total = 0\n",
        "for item in valEnergetico:\n",
        "    total+=item\n",
        "print(total/valEnergetico.size)"
      ],
      "metadata": {
        "colab": {
          "base_uri": "https://localhost:8080/"
        },
        "id": "2bjlsbRYhdDx",
        "outputId": "3e8bdb55-1606-4093-eefa-2b9c9d38d8e2"
      },
      "execution_count": null,
      "outputs": [
        {
          "output_type": "stream",
          "name": "stdout",
          "text": [
            "443.05882352941177\n"
          ]
        }
      ]
    },
    {
      "cell_type": "markdown",
      "source": [
        "y si usamos numpy?"
      ],
      "metadata": {
        "id": "YICCN2u4r03f"
      }
    },
    {
      "cell_type": "code",
      "source": [
        "\n",
        "\n",
        "total = np.mean(valEnergetico)\n",
        "print(total)"
      ],
      "metadata": {
        "colab": {
          "base_uri": "https://localhost:8080/"
        },
        "id": "v8ipBYIBhdxQ",
        "outputId": "31203487-dfcb-4c9a-88d6-ddd3ff2b937d"
      },
      "execution_count": null,
      "outputs": [
        {
          "output_type": "stream",
          "name": "stdout",
          "text": [
            "443.05882352941177\n"
          ]
        }
      ]
    },
    {
      "cell_type": "markdown",
      "source": [
        "cual es mejor?\n",
        "\n",
        "estos son pocos datos para saber....\n",
        "\n",
        "creamos un vector muy grande"
      ],
      "metadata": {
        "id": "FaCw63f5sArC"
      }
    },
    {
      "cell_type": "code",
      "source": [
        "vecMuyGrande = np.random.randint(0,1000,10000)  # 10mil numeros enteros del 0 al 1000\n",
        "len(vecMuyGrande)"
      ],
      "metadata": {
        "colab": {
          "base_uri": "https://localhost:8080/"
        },
        "id": "VB8BxZWXh4c0",
        "outputId": "4a23b55c-579e-4304-cd64-2aeee064e353"
      },
      "execution_count": null,
      "outputs": [
        {
          "output_type": "execute_result",
          "data": {
            "text/plain": [
              "10000"
            ]
          },
          "metadata": {},
          "execution_count": 7
        }
      ]
    },
    {
      "cell_type": "markdown",
      "source": [
        "calculamos el tiempo que tarda el for"
      ],
      "metadata": {
        "id": "SgOXD_d1sTVq"
      }
    },
    {
      "cell_type": "code",
      "source": [
        "%%timeit -n 100\n",
        "suma = 0\n",
        "for item in vecMuyGrande:\n",
        "    suma+=item\n",
        "prom = suma/len(vecMuyGrande)"
      ],
      "metadata": {
        "colab": {
          "base_uri": "https://localhost:8080/"
        },
        "id": "9xwUGAX-iJ86",
        "outputId": "cc246c8b-75d9-45bd-fa82-e949598e2c58"
      },
      "execution_count": null,
      "outputs": [
        {
          "output_type": "stream",
          "name": "stdout",
          "text": [
            "1.04 ms ± 23.1 µs per loop (mean ± std. dev. of 7 runs, 100 loops each)\n"
          ]
        }
      ]
    },
    {
      "cell_type": "markdown",
      "source": [
        "calculamos el tiempo que tarda el metodo mean de numpy"
      ],
      "metadata": {
        "id": "LaAd6OO3s9dL"
      }
    },
    {
      "cell_type": "code",
      "source": [
        "%%timeit -n 100\n",
        "prom = np.mean(vecMuyGrande)"
      ],
      "metadata": {
        "colab": {
          "base_uri": "https://localhost:8080/"
        },
        "id": "EZT5ozJMiSin",
        "outputId": "f4a38fd7-dade-421c-986b-8b7cde2417b2"
      },
      "execution_count": null,
      "outputs": [
        {
          "output_type": "stream",
          "name": "stdout",
          "text": [
            "55 µs ± 22.8 µs per loop (mean ± std. dev. of 7 runs, 100 loops each)\n"
          ]
        }
      ]
    },
    {
      "cell_type": "markdown",
      "source": [
        "1 milisegundo = 1000 microsegundos\n",
        "\n",
        "el for tardó 1040 microsegundos y el metodo mean 55 microsegundos\n",
        "son casi 19 veces más\n",
        "\n",
        "con muuuuchos datos.....\n",
        "\n",
        "esto se cumple en general para cualquiera de los métodos y operaciones"
      ],
      "metadata": {
        "id": "3-FoSW44tl1F"
      }
    },
    {
      "cell_type": "markdown",
      "source": [
        "### Con los mismos datos de las galletitas armamos una matriz:\n",
        "(solo los numericos)"
      ],
      "metadata": {
        "id": "cRpF-Y71uC0s"
      }
    },
    {
      "cell_type": "code",
      "source": [
        "valGalletitas = np.array([[439, 466, 445, 478, 464, 463, 438, 418, 423, 444, 407, 437, 410, 493, 424, 462, 421],[65, 57, 69, 67, 70, 66, 69, 69, 70, 73, 70, 60, 56.7, 60, 65, 55, 63]])\n",
        "valGalletitas"
      ],
      "metadata": {
        "colab": {
          "base_uri": "https://localhost:8080/"
        },
        "id": "lC6jmZSvuJff",
        "outputId": "e8233606-1723-4ab9-ec4b-a5eb4ee7ed9e"
      },
      "execution_count": null,
      "outputs": [
        {
          "output_type": "execute_result",
          "data": {
            "text/plain": [
              "array([[439. , 466. , 445. , 478. , 464. , 463. , 438. , 418. , 423. ,\n",
              "        444. , 407. , 437. , 410. , 493. , 424. , 462. , 421. ],\n",
              "       [ 65. ,  57. ,  69. ,  67. ,  70. ,  66. ,  69. ,  69. ,  70. ,\n",
              "         73. ,  70. ,  60. ,  56.7,  60. ,  65. ,  55. ,  63. ]])"
            ]
          },
          "metadata": {},
          "execution_count": 21
        }
      ]
    },
    {
      "cell_type": "markdown",
      "source": [
        "para que queden en columnas usamos transpose\n",
        "\n",
        "es la transpuesta de una matriz\n",
        "\n",
        "ahora nos queda una columna con el valor energetico y otra con los carbohidratos"
      ],
      "metadata": {
        "id": "DGgLBoeiuocg"
      }
    },
    {
      "cell_type": "code",
      "source": [
        "valGalletitas = valGalletitas.transpose()\n",
        "valGalletitas"
      ],
      "metadata": {
        "colab": {
          "base_uri": "https://localhost:8080/"
        },
        "id": "7mWNxjuxujE1",
        "outputId": "75699208-4a3f-4fce-98c1-605105be7dac"
      },
      "execution_count": null,
      "outputs": [
        {
          "output_type": "execute_result",
          "data": {
            "text/plain": [
              "array([[439. ,  65. ],\n",
              "       [466. ,  57. ],\n",
              "       [445. ,  69. ],\n",
              "       [478. ,  67. ],\n",
              "       [464. ,  70. ],\n",
              "       [463. ,  66. ],\n",
              "       [438. ,  69. ],\n",
              "       [418. ,  69. ],\n",
              "       [423. ,  70. ],\n",
              "       [444. ,  73. ],\n",
              "       [407. ,  70. ],\n",
              "       [437. ,  60. ],\n",
              "       [410. ,  56.7],\n",
              "       [493. ,  60. ],\n",
              "       [424. ,  65. ],\n",
              "       [462. ,  55. ],\n",
              "       [421. ,  63. ]])"
            ]
          },
          "metadata": {},
          "execution_count": 23
        }
      ]
    },
    {
      "cell_type": "markdown",
      "source": [
        "calculamos la media de cada columna, con el parametro axis le indico que recorra las filas\n",
        "\n",
        "el resultado me da un vector con la media de cada columna"
      ],
      "metadata": {
        "id": "82be7SM0vRsc"
      }
    },
    {
      "cell_type": "code",
      "source": [
        "media = valGalletitas.mean(axis=0)\n",
        "media"
      ],
      "metadata": {
        "colab": {
          "base_uri": "https://localhost:8080/"
        },
        "id": "bxRCvZ2XvQ3D",
        "outputId": "9124355b-11a5-4fa5-de00-7de52a0c2ee5"
      },
      "execution_count": null,
      "outputs": [
        {
          "output_type": "execute_result",
          "data": {
            "text/plain": [
              "array([443.05882353,  64.98235294])"
            ]
          },
          "metadata": {},
          "execution_count": 31
        }
      ]
    },
    {
      "cell_type": "markdown",
      "source": [
        "# Otro ejemplo\n",
        "\n",
        "tenemos datos de calificaciones de 2 trabajos practicos de una materia del instituto"
      ],
      "metadata": {
        "id": "Zqx5rBYHwDbK"
      }
    },
    {
      "cell_type": "code",
      "source": [
        "tp1 = np.array([8, 10, 9, 6, 4, 8, 8, 9, 8, 10, 10, 10, 5, 6, 5, 8, 9, 8, 7, 8, 8, 9, 9, 8, 4, 5, 8, 5, 3, 9, 8, 7, 7, 3, 3, 6, 10, 9, 9, 9, 2, 1, 2, 9, 7, 7, 5, 5])\n",
        "tp2 = np.array([2, 5, 3, 8, 8, 7, 8, 9, 7, 10, 10, 10, 8, 8, 8, 6, 7, 8, 8, 7, 6, 7, 7, 7, 7, 7, 7, 5, 4, 5, 4, 5, 5, 6, 4, 5, 6, 6, 9, 9, 8, 8, 9, 7, 10, 10, 10, 10])\n"
      ],
      "metadata": {
        "colab": {
          "base_uri": "https://localhost:8080/"
        },
        "id": "z6RQs8ynwyFg",
        "outputId": "f13968a8-d004-4731-de21-8117b7cfac6c"
      },
      "execution_count": null,
      "outputs": [
        {
          "output_type": "execute_result",
          "data": {
            "text/plain": [
              "48"
            ]
          },
          "metadata": {},
          "execution_count": 34
        }
      ]
    },
    {
      "cell_type": "markdown",
      "source": [
        "apilamos los 2 vectores en columnas"
      ],
      "metadata": {
        "id": "XkUTLzqfyO3z"
      }
    },
    {
      "cell_type": "code",
      "source": [
        "calificaciones = np.column_stack((tp1,tp2))\n",
        "calificaciones"
      ],
      "metadata": {
        "colab": {
          "base_uri": "https://localhost:8080/"
        },
        "id": "mm2q3SPdyThA",
        "outputId": "1e8cd7c1-e80c-4bed-9cdf-725ae4eb8f3c"
      },
      "execution_count": null,
      "outputs": [
        {
          "output_type": "execute_result",
          "data": {
            "text/plain": [
              "array([[ 8,  2],\n",
              "       [10,  5],\n",
              "       [ 9,  3],\n",
              "       [ 6,  8],\n",
              "       [ 4,  8],\n",
              "       [ 8,  7],\n",
              "       [ 8,  8],\n",
              "       [ 9,  9],\n",
              "       [ 8,  7],\n",
              "       [10, 10],\n",
              "       [10, 10],\n",
              "       [10, 10],\n",
              "       [ 5,  8],\n",
              "       [ 6,  8],\n",
              "       [ 5,  8],\n",
              "       [ 8,  6],\n",
              "       [ 9,  7],\n",
              "       [ 8,  8],\n",
              "       [ 7,  8],\n",
              "       [ 8,  7],\n",
              "       [ 8,  6],\n",
              "       [ 9,  7],\n",
              "       [ 9,  7],\n",
              "       [ 8,  7],\n",
              "       [ 4,  7],\n",
              "       [ 5,  7],\n",
              "       [ 8,  7],\n",
              "       [ 5,  5],\n",
              "       [ 3,  4],\n",
              "       [ 9,  5],\n",
              "       [ 8,  4],\n",
              "       [ 7,  5],\n",
              "       [ 7,  5],\n",
              "       [ 3,  6],\n",
              "       [ 3,  4],\n",
              "       [ 6,  5],\n",
              "       [10,  6],\n",
              "       [ 9,  6],\n",
              "       [ 9,  9],\n",
              "       [ 9,  9],\n",
              "       [ 2,  8],\n",
              "       [ 1,  8],\n",
              "       [ 2,  9],\n",
              "       [ 9,  7],\n",
              "       [ 7, 10],\n",
              "       [ 7, 10],\n",
              "       [ 5, 10],\n",
              "       [ 5, 10]])"
            ]
          },
          "metadata": {},
          "execution_count": 38
        }
      ]
    },
    {
      "cell_type": "markdown",
      "source": [
        "el promedio de cada TP es"
      ],
      "metadata": {
        "id": "rYMPzc-vyl4I"
      }
    },
    {
      "cell_type": "code",
      "source": [
        "calificaciones.mean(axis=0)"
      ],
      "metadata": {
        "colab": {
          "base_uri": "https://localhost:8080/"
        },
        "id": "fAZhooUWypB9",
        "outputId": "b6368f4d-99f0-4778-e188-fcd462931dcf"
      },
      "execution_count": null,
      "outputs": [
        {
          "output_type": "execute_result",
          "data": {
            "text/plain": [
              "array([6.9375    , 7.08333333])"
            ]
          },
          "metadata": {},
          "execution_count": 53
        }
      ]
    },
    {
      "cell_type": "markdown",
      "source": [
        "resulta que el profesor de esta materia decide que el segundo TP tiene más importancia que el primero por lo tanto quiere calcular el promedio de la materia promediando la nota de los 2 TPs con un 40% de peso en la nota del primero y un 60% de peso en la nota del segundo\n",
        "\n",
        "vector de pesos = [0.40, 0.60]\n",
        "\n",
        "promedio del alumno1 = (8 * 0.40  + 2 * 0.60)\n",
        "\n",
        "como hacemos? un for?"
      ],
      "metadata": {
        "id": "DH1emX-_y3g7"
      }
    },
    {
      "cell_type": "code",
      "source": [
        "prom = np.zeros(48)   ## podria poner---> np.zeros(calificaciones.shape[0])\n",
        "i=0\n",
        "for calif in calificaciones:\n",
        "  prom[i] = (calif[0]*0.40 + calif[1]*0.60)\n",
        "  i+=1\n",
        "\n",
        "prom"
      ],
      "metadata": {
        "colab": {
          "base_uri": "https://localhost:8080/"
        },
        "id": "Qhs9lEIQzrsv",
        "outputId": "53ec4e29-31d5-4d14-883e-e968c3a8ec3b"
      },
      "execution_count": null,
      "outputs": [
        {
          "output_type": "execute_result",
          "data": {
            "text/plain": [
              "array([ 4.4,  7. ,  5.4,  7.2,  6.4,  7.4,  8. ,  9. ,  7.4, 10. , 10. ,\n",
              "       10. ,  6.8,  7.2,  6.8,  6.8,  7.8,  8. ,  7.6,  7.4,  6.8,  7.8,\n",
              "        7.8,  7.4,  5.8,  6.2,  7.4,  5. ,  3.6,  6.6,  5.6,  5.8,  5.8,\n",
              "        4.8,  3.6,  5.4,  7.6,  7.2,  9. ,  9. ,  5.6,  5.2,  6.2,  7.8,\n",
              "        8.8,  8.8,  8. ,  8. ])"
            ]
          },
          "metadata": {},
          "execution_count": 54
        }
      ]
    },
    {
      "cell_type": "markdown",
      "source": [
        "y con multiplicacion de matrices??\n",
        "\n",
        "**Dot Product:**  \n",
        "\n",
        "$ \\begin{bmatrix}x_1 \\ x_2 \\ x_3\\end{bmatrix}\n",
        "\\cdot\n",
        "\\begin{bmatrix}y_1 \\\\ y_2 \\\\ y_3\\end{bmatrix}\n",
        "= x_1 y_1 + x_2 y_2 + x_3 y_3$"
      ],
      "metadata": {
        "id": "h_GTOjZF3Grk"
      }
    },
    {
      "cell_type": "code",
      "source": [
        "pesos = np.array([0.40,0.60])\n",
        "prom = calificaciones.dot(pesos)\n",
        "prom"
      ],
      "metadata": {
        "colab": {
          "base_uri": "https://localhost:8080/"
        },
        "id": "MEpKRoij0_vx",
        "outputId": "427a37c9-c1df-4a58-d22a-fcc04255132c"
      },
      "execution_count": null,
      "outputs": [
        {
          "output_type": "execute_result",
          "data": {
            "text/plain": [
              "array([ 4.4,  7. ,  5.4,  7.2,  6.4,  7.4,  8. ,  9. ,  7.4, 10. , 10. ,\n",
              "       10. ,  6.8,  7.2,  6.8,  6.8,  7.8,  8. ,  7.6,  7.4,  6.8,  7.8,\n",
              "        7.8,  7.4,  5.8,  6.2,  7.4,  5. ,  3.6,  6.6,  5.6,  5.8,  5.8,\n",
              "        4.8,  3.6,  5.4,  7.6,  7.2,  9. ,  9. ,  5.6,  5.2,  6.2,  7.8,\n",
              "        8.8,  8.8,  8. ,  8. ])"
            ]
          },
          "metadata": {},
          "execution_count": 57
        }
      ]
    },
    {
      "cell_type": "markdown",
      "source": [
        "Podemos graficar los valores en un histograma de frecuencias para evaluar la dristribución de las notas obtenidas y el promedio general del grupo"
      ],
      "metadata": {
        "id": "xqilM1AM9II7"
      }
    },
    {
      "cell_type": "code",
      "source": [
        "import matplotlib\n",
        "import matplotlib.pyplot as plt\n",
        "\n",
        "plt.hist(prom,bins=15, label=['promedios'])\n",
        "plt.legend(loc='upper right')"
      ],
      "metadata": {
        "colab": {
          "base_uri": "https://localhost:8080/",
          "height": 447
        },
        "id": "rZ3ADxJg6a_h",
        "outputId": "82ebbdcb-aba0-4883-b705-0a09ee81b185"
      },
      "execution_count": null,
      "outputs": [
        {
          "output_type": "execute_result",
          "data": {
            "text/plain": [
              "<matplotlib.legend.Legend at 0x7e3fd24e7df0>"
            ]
          },
          "metadata": {},
          "execution_count": 79
        },
        {
          "output_type": "display_data",
          "data": {
            "text/plain": [
              "<Figure size 640x480 with 1 Axes>"
            ],
            "image/png": "[encoded data removed]"
          },
          "metadata": {}
        }
      ]
    },
    {
      "cell_type": "markdown",
      "source": [
        "Podemos graficar en el mismo histograma las notas de ambos TPs junto con el promedio para hacer comparaciones a nivel grupal"
      ],
      "metadata": {
        "id": "gV4aL6w79dNW"
      }
    },
    {
      "cell_type": "code",
      "source": [
        "plt.hist([calificaciones[:,0],calificaciones[:,1],prom],bins=15,\n",
        "                  label=['TP1','TP2','promedios'])\n",
        "plt.legend(loc='upper left')"
      ],
      "metadata": {
        "colab": {
          "base_uri": "https://localhost:8080/",
          "height": 447
        },
        "id": "9uejGDWR7IKb",
        "outputId": "afaf61f2-b05c-4853-e149-56ccae9b29e8"
      },
      "execution_count": null,
      "outputs": [
        {
          "output_type": "execute_result",
          "data": {
            "text/plain": [
              "<matplotlib.legend.Legend at 0x7e3fd408b0d0>"
            ]
          },
          "metadata": {},
          "execution_count": 80
        },
        {
          "output_type": "display_data",
          "data": {
            "text/plain": [
              "<Figure size 640x480 with 1 Axes>"
            ],
            "image/png": "[encoded data removed]"
          },
          "metadata": {}
        }
      ]
    },
    {
      "cell_type": "markdown",
      "source": [
        "al aplicar el promedio con pesos la distribución de los promedios se concentró en notas mál altas (empieza de 4 mientras que TP1 y TP2 empiezan de 1 y 2)"
      ],
      "metadata": {
        "id": "qVDH-_VM96Su"
      }
    }
  ]
}