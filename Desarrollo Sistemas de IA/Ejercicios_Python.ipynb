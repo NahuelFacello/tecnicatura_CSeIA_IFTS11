{
  "nbformat": 4,
  "nbformat_minor": 0,
  "metadata": {
    "colab": {
      "provenance": []
    },
    "kernelspec": {
      "name": "python3",
      "display_name": "Python 3"
    },
    "language_info": {
      "name": "python"
    }
  },
  "cells": [
    {
      "cell_type": "markdown",
      "source": [
        "# Ejericios repaso de python\n",
        "### Secuencias"
      ],
      "metadata": {
        "id": "713t1SGLBFvF"
      }
    },
    {
      "cell_type": "markdown",
      "source": [
        "1. Crear una lista con los n´umeros del 1 al 10. Acceder con el ´ındice a la posici´on que\n",
        "contiene el n´umero 5, e imprimirlo por pantalla. Recordar que el ´ındice de las listas\n",
        "empiezan con 0.\n"
      ],
      "metadata": {
        "id": "j6w-TZUBBQvc"
      }
    },
    {
      "cell_type": "code",
      "execution_count": 5,
      "metadata": {
        "colab": {
          "base_uri": "https://localhost:8080/"
        },
        "id": "0aVzR2FABBDO",
        "outputId": "242034fb-e96d-4fb6-fa93-1f46a1b11819"
      },
      "outputs": [
        {
          "output_type": "stream",
          "name": "stdout",
          "text": [
            "La lista es [1, 2, 3, 4, 5, 6, 7, 8, 9, 10]\n",
            "El 5 se encuentra en el indice:  4\n"
          ]
        }
      ],
      "source": [
        "lista = []\n",
        "for n in range(1,11):\n",
        "  lista.append(n)\n",
        "print(f\"La lista es {lista}\")\n",
        "\n",
        "print(f\"El 5 se encuentra en el indice: \",lista.index(5))"
      ]
    },
    {
      "cell_type": "markdown",
      "source": [
        "2. Con la lista del punto anterior, usar la funci´on len() para averiguar su longitud, e\n",
        "imprimirla."
      ],
      "metadata": {
        "id": "BwB-Eq7yCQBS"
      }
    },
    {
      "cell_type": "code",
      "source": [
        "len(lista)"
      ],
      "metadata": {
        "colab": {
          "base_uri": "https://localhost:8080/"
        },
        "id": "ibSJPw8ACvUL",
        "outputId": "6a426ce6-e8af-449c-f552-3982971b8d88"
      },
      "execution_count": 6,
      "outputs": [
        {
          "output_type": "execute_result",
          "data": {
            "text/plain": [
              "10"
            ]
          },
          "metadata": {},
          "execution_count": 6
        }
      ]
    },
    {
      "cell_type": "markdown",
      "source": [
        "3. Crear una secuencia con n´umeros distintos, y luego devolver el elemento m´aximo y el\n",
        "m´ınimo.\n"
      ],
      "metadata": {
        "id": "zYu8MZVBC3k9"
      }
    },
    {
      "cell_type": "code",
      "source": [
        "import random\n",
        "secuencia = []\n",
        "for n in random.sample(range(1,1000),100):\n",
        "  secuencia.append(n)\n",
        "\n",
        "print(f\"La lista es {secuencia}\")\n",
        "print(f\"Maximo: {max(secuencia)}\")\n",
        "print(f\"Minimo: {min(secuencia)}\")"
      ],
      "metadata": {
        "colab": {
          "base_uri": "https://localhost:8080/"
        },
        "id": "JafYtWqwC3Iq",
        "outputId": "b22f5a7a-1033-4a58-b4f9-c519c9e630a3"
      },
      "execution_count": 8,
      "outputs": [
        {
          "output_type": "stream",
          "name": "stdout",
          "text": [
            "La lista es [732, 64, 175, 508, 590, 248, 438, 309, 794, 610, 73, 630, 938, 889, 464, 741, 576, 133, 875, 370, 243, 480, 645, 22, 44, 381, 3, 107, 527, 686, 719, 656, 804, 115, 846, 601, 223, 126, 339, 773, 127, 987, 63, 71, 712, 290, 394, 589, 618, 55, 353, 939, 195, 990, 318, 799, 603, 862, 395, 546, 276, 130, 295, 923, 979, 199, 682, 20, 906, 944, 797, 519, 240, 604, 80, 411, 974, 711, 506, 329, 784, 806, 434, 525, 213, 966, 478, 380, 58, 341, 215, 160, 972, 967, 327, 497, 345, 953, 940, 948]\n",
            "Maximo 990\n",
            "Minimo 3\n"
          ]
        }
      ]
    },
    {
      "cell_type": "markdown",
      "source": [
        "4. Ordenar la secuencia del ejercicio anterior, e imprimirla por pantalla.\n"
      ],
      "metadata": {
        "id": "Lw-ToN3WEJVv"
      }
    },
    {
      "cell_type": "code",
      "source": [
        "secuencia.sort()\n",
        "secuencia"
      ],
      "metadata": {
        "colab": {
          "base_uri": "https://localhost:8080/"
        },
        "id": "WqWgTSVHEKIk",
        "outputId": "6f45df49-cbc5-4e95-a063-54339ca40ff9"
      },
      "execution_count": 12,
      "outputs": [
        {
          "output_type": "execute_result",
          "data": {
            "text/plain": [
              "[3,\n",
              " 20,\n",
              " 22,\n",
              " 44,\n",
              " 55,\n",
              " 58,\n",
              " 63,\n",
              " 64,\n",
              " 71,\n",
              " 73,\n",
              " 80,\n",
              " 107,\n",
              " 115,\n",
              " 126,\n",
              " 127,\n",
              " 130,\n",
              " 133,\n",
              " 160,\n",
              " 175,\n",
              " 195,\n",
              " 199,\n",
              " 213,\n",
              " 215,\n",
              " 223,\n",
              " 240,\n",
              " 243,\n",
              " 248,\n",
              " 276,\n",
              " 290,\n",
              " 295,\n",
              " 309,\n",
              " 318,\n",
              " 327,\n",
              " 329,\n",
              " 339,\n",
              " 341,\n",
              " 345,\n",
              " 353,\n",
              " 370,\n",
              " 380,\n",
              " 381,\n",
              " 394,\n",
              " 395,\n",
              " 411,\n",
              " 434,\n",
              " 438,\n",
              " 464,\n",
              " 478,\n",
              " 480,\n",
              " 497,\n",
              " 506,\n",
              " 508,\n",
              " 519,\n",
              " 525,\n",
              " 527,\n",
              " 546,\n",
              " 576,\n",
              " 589,\n",
              " 590,\n",
              " 601,\n",
              " 603,\n",
              " 604,\n",
              " 610,\n",
              " 618,\n",
              " 630,\n",
              " 645,\n",
              " 656,\n",
              " 682,\n",
              " 686,\n",
              " 711,\n",
              " 712,\n",
              " 719,\n",
              " 732,\n",
              " 741,\n",
              " 773,\n",
              " 784,\n",
              " 794,\n",
              " 797,\n",
              " 799,\n",
              " 804,\n",
              " 806,\n",
              " 846,\n",
              " 862,\n",
              " 875,\n",
              " 889,\n",
              " 906,\n",
              " 923,\n",
              " 938,\n",
              " 939,\n",
              " 940,\n",
              " 944,\n",
              " 948,\n",
              " 953,\n",
              " 966,\n",
              " 967,\n",
              " 972,\n",
              " 974,\n",
              " 979,\n",
              " 987,\n",
              " 990]"
            ]
          },
          "metadata": {},
          "execution_count": 12
        }
      ]
    },
    {
      "cell_type": "markdown",
      "source": [
        "5. Crear una tupla que guarde tu nombre y tu edad. Luego, imprimir por pantalla tu\n",
        "edad, accediendo al elemento de la tupla que corresponda."
      ],
      "metadata": {
        "id": "9LQZDrF_FIBB"
      }
    },
    {
      "cell_type": "code",
      "source": [
        "yo = ('Nahuel',27)\n",
        "print(f\"Nombre: {yo[0]}\")\n",
        "print(f\"Edad: {yo[1]}\")"
      ],
      "metadata": {
        "colab": {
          "base_uri": "https://localhost:8080/"
        },
        "id": "aZPXuCZuFJBs",
        "outputId": "b8ae8854-d62e-4cdc-b2a5-451fdf26a62b"
      },
      "execution_count": 15,
      "outputs": [
        {
          "output_type": "stream",
          "name": "stdout",
          "text": [
            "Nombre: Nahuel\n",
            "Edad: 27\n"
          ]
        }
      ]
    },
    {
      "cell_type": "markdown",
      "source": [
        "6. Hacer una lista con 5 nombres, y realizar las siguientes actividades con la misma:\n",
        "\n",
        "a. Cambiar el ´ultimo elemento de la lista y cambiar el ´ultimo nombre por “Juan”.\n",
        "¿C´omo podr´ıa saber cu´al es el ´ultimo elemento si no s´e la longitud?\n",
        "\n",
        "\n",
        "b.  Devolver el nombre que est´e a dos posiciones del final.\n",
        "\n",
        "\n",
        "c. Recorrer la lista e imprimir cada nombre por pantalla.\n",
        "\n",
        "\n",
        "d. Imprimir por pantalla la lista con 3 repeticiones, usar el operador repetici´on (*)."
      ],
      "metadata": {
        "id": "03Fsvg6CF49M"
      }
    },
    {
      "cell_type": "code",
      "source": [
        "nombres = ['Jorge', 'Ricardo', 'Raquel', 'Pachi', 'Cristian']\n",
        "#a. Cambiar el ´ultimo elemento de la lista y cambiar el ´ultimo nombre por “Juan”. ¿C´omo podr´ıa saber cu´al es el ´ultimo elemento si no s´e la longitud?\n",
        "\n",
        "nombres[-1] = 'Juan'\n",
        "print(nombres)\n",
        "\n",
        "# b. Devolver el nombre que est´e a dos posiciones del final.\n",
        "print(nombres[-2])\n",
        "\n",
        "#c. Recorrer la lista e imprimir cada nombre por pantalla.\n",
        "for nombre in nombres:\n",
        "  print(nombre)\n",
        "\n",
        "#d. Imprimir por pantalla la lista con 3 repeticiones, usar el operador repetici´on (*).\n",
        "\n",
        "for nombre in nombres:\n",
        "  print(nombre*3)"
      ],
      "metadata": {
        "colab": {
          "base_uri": "https://localhost:8080/"
        },
        "id": "yxdunC7jF549",
        "outputId": "ccf52934-b35c-4b6a-96ae-1dd80bddb79e"
      },
      "execution_count": 11,
      "outputs": [
        {
          "output_type": "stream",
          "name": "stdout",
          "text": [
            "['Jorge', 'Ricardo', 'Raquel', 'Pachi', 'Juan']\n",
            "Pachi\n",
            "Jorge\n",
            "Ricardo\n",
            "Raquel\n",
            "Pachi\n",
            "Juan\n",
            "JorgeJorgeJorge\n",
            "RicardoRicardoRicardo\n",
            "RaquelRaquelRaquel\n",
            "PachiPachiPachi\n",
            "JuanJuanJuan\n"
          ]
        }
      ]
    },
    {
      "cell_type": "markdown",
      "source": [
        "7. Se pide ahora crear 3 tuplas como las del ejercicio 5, con un nombre y una edad. A\n",
        "continuaci´on, guardarlas en una lista"
      ],
      "metadata": {
        "id": "Kh59PbbS4x-U"
      }
    },
    {
      "cell_type": "code",
      "source": [
        "a = ('Jorge', 15)\n",
        "b = ('Micaela', 22)\n",
        "c = ('Nacho', 27)\n",
        "\n",
        "lst_nombres = []\n",
        "\n",
        "lst_nombres.append([a,b,c])\n",
        "\n",
        "lst_nombres"
      ],
      "metadata": {
        "colab": {
          "base_uri": "https://localhost:8080/"
        },
        "id": "yRXdjPBn40Pe",
        "outputId": "12fc6694-c142-43de-93bf-68f3b8e9a819"
      },
      "execution_count": 15,
      "outputs": [
        {
          "output_type": "execute_result",
          "data": {
            "text/plain": [
              "[[('Jorge', 15), ('Micaela', 22), ('Nacho', 27)]]"
            ]
          },
          "metadata": {},
          "execution_count": 15
        }
      ]
    },
    {
      "cell_type": "markdown",
      "source": [
        "## Listas y tuplas\n",
        "1. Se quiere guardar informaci´on de los siguientes pa´ıses: Francia, Argentina, Jap´on, Alemania, Per´u.\n",
        "\n",
        "\n",
        "a) Crear una tupla para cada pa´ıs que contenga su nombre, su capital y el continente\n",
        "donde se encuentra\n",
        "\n",
        "\n",
        "b) Guardar las tuplas en una lista.\n",
        "\n",
        "\n",
        "c) Hacer una funci´on que reciba por par´ametros la lista, e imprima la informaci´on\n",
        "de cada pa´ıs con el siguiente formato:\n",
        "\n",
        "\n",
        "```Pa´ıs: <nombre>\n",
        "Capital: <capital>\n",
        "Continente: <continente>```\n",
        "Por ejemplo:\n",
        "Pa´ıs: Jap´on\n",
        "Capital: Tokio\n",
        "Continente: Asia"
      ],
      "metadata": {
        "id": "O7XQp_nB8PWF"
      }
    },
    {
      "cell_type": "code",
      "source": [
        "#a\n",
        "francia = ('Francia', 'Paris', 'Europa')\n",
        "argentina = ('Argentina','Buenos Aires','America del sur')\n",
        "japon = ('Japon','Tokio','Asia')\n",
        "alemania  = ('Alemania', 'Berlin', 'Europa')\n",
        "peru = ('Peru','Lima','America del sur')\n",
        "\n",
        "#b\n",
        "\n",
        "paises = [francia,argentina,japon,alemania,peru]\n",
        "\n",
        "print(paises)\n",
        "\n",
        "#c\n",
        "def imprimir_paises(lista):\n",
        "  for pais in lista:\n",
        "    print(f\"Pais : {pais[0]} \\nCapital: {pais[1]}\\nContinente: {pais[2]}\", end = '\\n \\n')\n",
        "\n",
        "imprimir_paises(paises)"
      ],
      "metadata": {
        "colab": {
          "base_uri": "https://localhost:8080/"
        },
        "id": "Jrrt9KQD8U4o",
        "outputId": "aacaad49-196f-4bfc-8f41-0ba4b9bd413c"
      },
      "execution_count": 26,
      "outputs": [
        {
          "output_type": "stream",
          "name": "stdout",
          "text": [
            "[('Francia', 'Paris', 'Europa'), ('Argentina', 'Buenos Aires', 'America del sur'), ('Japon', 'Tokio', 'Asia'), ('Alemania', 'Berlin', 'Europa'), ('Peru', 'Lima', 'America del sur')]\n",
            "Pais : Francia \n",
            "Capital: Paris\n",
            "Continente: Europa\n",
            " \n",
            "Pais : Argentina \n",
            "Capital: Buenos Aires\n",
            "Continente: America del sur\n",
            " \n",
            "Pais : Japon \n",
            "Capital: Tokio\n",
            "Continente: Asia\n",
            " \n",
            "Pais : Alemania \n",
            "Capital: Berlin\n",
            "Continente: Europa\n",
            " \n",
            "Pais : Peru \n",
            "Capital: Lima\n",
            "Continente: America del sur\n",
            " \n"
          ]
        }
      ]
    },
    {
      "cell_type": "markdown",
      "source": [
        "2. Se pide ahora crear 3 tuplas como las del ejercicio 5, con un nombre y una edad. A\n",
        "continuaci´on, guardarlas en una lista."
      ],
      "metadata": {
        "id": "evDZb6fkAryA"
      }
    },
    {
      "cell_type": "code",
      "source": [
        "a = ('Jorge', 15)\n",
        "b = ('Micaela', 22)\n",
        "c = ('Nacho', 27)\n",
        "\n",
        "lst_nombres = [a,b,c]\n",
        "\n",
        "lst_nombres"
      ],
      "metadata": {
        "colab": {
          "base_uri": "https://localhost:8080/"
        },
        "outputId": "71317392-a79a-43dc-f355-d8b8d77f0f95",
        "id": "l37hEFAUAzVP"
      },
      "execution_count": 28,
      "outputs": [
        {
          "output_type": "execute_result",
          "data": {
            "text/plain": [
              "[('Jorge', 15), ('Micaela', 22), ('Nacho', 27)]"
            ]
          },
          "metadata": {},
          "execution_count": 28
        }
      ]
    },
    {
      "cell_type": "markdown",
      "source": [
        "3. Una librer´ıa tiene un sistema que guarda los nombres de todos los libros que tienen en\n",
        "una lista de la siguiente forma: [’El principito’, ’It’, ’Sherlock Holmes’...]. Se quiere saber\n",
        "cu´antos libros repetidos tienen. Hacer c´odigo que imprima para cada t´ıtulo, cu´antos\n",
        "ejemplares hay.\n",
        "\n"
      ],
      "metadata": {
        "id": "i8rlkJKjBKPw"
      }
    },
    {
      "cell_type": "code",
      "source": [
        "titulos_de_libros = [\n",
        "    \"Cien años de soledad\",\n",
        "    \"El Gran Gatsby\",\n",
        "    \"Don Quijote de la Mancha\",\n",
        "    \"1984\",\n",
        "    \"Matar un ruiseñor\",\n",
        "    \"Crimen y castigo\",\n",
        "    \"Cien años de soledad\",  # Duplicado\n",
        "    \"Orgullo y prejuicio\",\n",
        "    \"Matar un ruiseñor\",     # Duplicado\n",
        "    \"El Gran Gatsby\",        # Duplicado\n",
        "]\n",
        "\n",
        "\n",
        "titulos_de_libros.sort()\n",
        "lista = []\n",
        "duplicados = 0\n",
        "\n",
        "for titulo in titulos_de_libros:\n",
        "  if titulo not in lista:\n",
        "    lista.append(titulo)\n",
        "  else:\n",
        "    duplicados +=1\n",
        "\n",
        "print(f'Cantidad duplicados : {duplicados}\\n\\n')\n",
        "\n",
        "\n",
        "for titulo in lista:\n",
        "  print(f'Titulo libro: {titulo}\\n Cantidad: {titulos_de_libros.count(titulo)}')"
      ],
      "metadata": {
        "colab": {
          "base_uri": "https://localhost:8080/"
        },
        "id": "0l3AsOUJB_vk",
        "outputId": "8710ba5d-cee7-4dc3-8900-aa83940aa4e9"
      },
      "execution_count": 33,
      "outputs": [
        {
          "output_type": "stream",
          "name": "stdout",
          "text": [
            "Cantidad duplicados : 3\n",
            "\n",
            "\n",
            "Titulo libro: 1984\n",
            " Cantidad: 1\n",
            "Titulo libro: Cien años de soledad\n",
            " Cantidad: 2\n",
            "Titulo libro: Crimen y castigo\n",
            " Cantidad: 1\n",
            "Titulo libro: Don Quijote de la Mancha\n",
            " Cantidad: 1\n",
            "Titulo libro: El Gran Gatsby\n",
            " Cantidad: 2\n",
            "Titulo libro: Matar un ruiseñor\n",
            " Cantidad: 2\n",
            "Titulo libro: Orgullo y prejuicio\n",
            " Cantidad: 1\n"
          ]
        }
      ]
    },
    {
      "cell_type": "markdown",
      "source": [
        "4. Crear una lista que contenga los n´umeros del 1 al 10, luego recorrerla y guardar en otra\n",
        "lista esos n´umeros elevados al cuadrado."
      ],
      "metadata": {
        "id": "kSCU2dbIHCX-"
      }
    },
    {
      "cell_type": "code",
      "source": [
        "lista = []\n",
        "lista_cuadrado = []\n",
        "for n in range(1,11):\n",
        "  lista.append(n)\n",
        "  lista_cuadrado.append(n**2)\n",
        "\n",
        "print(lista)\n",
        "print(lista_cuadrado)\n"
      ],
      "metadata": {
        "colab": {
          "base_uri": "https://localhost:8080/"
        },
        "id": "zo3TT5l4HDex",
        "outputId": "5de21540-2534-41dc-888c-72fc855bbee2"
      },
      "execution_count": 34,
      "outputs": [
        {
          "output_type": "stream",
          "name": "stdout",
          "text": [
            "[1, 2, 3, 4, 5, 6, 7, 8, 9, 10]\n",
            "[1, 4, 9, 16, 25, 36, 49, 64, 81, 100]\n"
          ]
        }
      ]
    },
    {
      "cell_type": "markdown",
      "source": [
        "5. Se tiene la siguiente lista de palabras: [“entender”, “pueden”, “humanos”, “los”, “que”,\n",
        "“c´odigo”, “escriben”, ”programadores”, “buenos”, “Los”, “entiende.”, “computadora”,\n",
        "“una”, “que”, “c´odigo”, “escribe”, “tonto”, “Cualquier”]. Hacer una funci´on que reciba\n",
        "una lista, y devuelva un string uniendo las palabras desde el final de la lista hasta el\n",
        "principio con un “ ” (espacio) entre cada una, para formar la frase.\n"
      ],
      "metadata": {
        "id": "eGgVVxepIua4"
      }
    },
    {
      "cell_type": "code",
      "source": [
        "palabras = ['entender', 'pueden', 'humanos', 'los', 'que',\n",
        "'codigo', 'escriben', 'programadores', 'buenos', 'Los', 'entiende.', 'computadora',\n",
        "'una', 'que', 'codigo', 'escribe', 'tonto', 'Cualquier']\n",
        "\n",
        "def lista_a_string(palabras):\n",
        "  oracion = ' '.join(palabras[::-1])\n",
        "  return oracion\n",
        "\n",
        "print(lista_a_string(palabras))"
      ],
      "metadata": {
        "colab": {
          "base_uri": "https://localhost:8080/"
        },
        "id": "xeo0x0MRIxU6",
        "outputId": "ca85fe06-26a0-4bc0-91af-7b91b6c62ed1"
      },
      "execution_count": 54,
      "outputs": [
        {
          "output_type": "stream",
          "name": "stdout",
          "text": [
            "Cualquier tonto escribe codigo que una computadora entiende. Los buenos programadores escriben codigo que los humanos pueden entender\n"
          ]
        }
      ]
    },
    {
      "cell_type": "markdown",
      "source": [
        "6. Se quiere hacer un sistema en la facultad para que un alumno pueda ir guardando las\n",
        "materias que va haciendo. Para eso, crear una funci´on que le pregunte al usuario la\n",
        "materia que quiere almacenar, e ir guardando la informaci´on en una lista hasta que\n",
        "ingrese una ‘X’.\n",
        "AYUDA: para guardar elementos nuevos en una lista usamos el m´etodo append()."
      ],
      "metadata": {
        "id": "tz3DSI6CPrpf"
      }
    },
    {
      "cell_type": "code",
      "source": [
        "def ingresar_materias():\n",
        "  materias = []\n",
        "  while True:\n",
        "    materia = input('Ingrese la materia: ')\n",
        "    if materia == 'x':\n",
        "      break\n",
        "    else: materias.append(materia)\n",
        "  return materias\n",
        "\n",
        "materias = ingresar_materias()\n",
        "print(f'Cantidad de materias: {len(materias)}')\n",
        "for materia in materias:\n",
        "  print(f'Materia: {materia}')"
      ],
      "metadata": {
        "colab": {
          "base_uri": "https://localhost:8080/"
        },
        "id": "J_bEPFBAQ1gI",
        "outputId": "c4682df2-da37-4f72-eea4-50078eda656a"
      },
      "execution_count": 1,
      "outputs": [
        {
          "output_type": "stream",
          "name": "stdout",
          "text": [
            "Ingrese la materia: Matematica\n",
            "Ingrese la materia: Literatura\n",
            "Ingrese la materia: Religion\n",
            "Ingrese la materia: x\n",
            "Cantidad de materias: 3\n",
            "Materia: Matematica\n",
            "Materia: Literatura\n",
            "Materia: Religion\n"
          ]
        }
      ]
    },
    {
      "cell_type": "markdown",
      "source": [
        "7. Se tiene un ticket de supermercado que se puede representar como una lista de tuplas\n",
        "(producto, precio).\n",
        "\n",
        "\n",
        "a) Hacer una funci´on que reciba la lista y calcule y devuelva el total que hay que\n",
        "pagar.\n",
        "\n",
        "\n",
        "b) Ahora se tienen dos tickets. Juntar ambos y volver a calcular el total.\n"
      ],
      "metadata": {
        "id": "YAz4IFiwQ0l_"
      }
    },
    {
      "cell_type": "code",
      "source": [
        "ticket_1 = [\n",
        "    (\"Manzanas\", 3.99),\n",
        "    (\"Leche\", 2.50),\n",
        "    (\"Pan\", 1.25),\n",
        "    (\"Huevos\", 2.75),\n",
        "    (\"Arroz\", 2.10),\n",
        "    (\"Pasta\", 1.75),\n",
        "    (\"Queso\", 6.50),\n",
        "    (\"Yogur\", 1.20),\n",
        "    (\"Pollo\", 9.99),\n",
        "    (\"Carne molida\", 8.25),\n",
        "    (\"Papas\", 2.50),\n",
        "    (\"Cebollas\", 1.00),\n",
        "    (\"Zanahorias\", 0.75),\n",
        "    (\"Tomates\", 2.25),\n",
        "    (\"Papel higiénico\", 0.90),\n",
        "    (\"Detergente\", 4.75),\n",
        "    (\"Jabón de manos\", 1.50),\n",
        "    (\"Cepillo de dientes\", 3.75),\n",
        "    (\"Champú\", 5.50),\n",
        "    (\"Galletas\", 2.00)]\n",
        "\n",
        "def total_lista(ticket):\n",
        "  sumador = 0\n",
        "  for item in ticket:\n",
        "    sumador += float(item[1])\n",
        "  return sumador\n",
        "\n",
        "print(f'El total de la lista es ${total_lista(ticket_1)}')"
      ],
      "metadata": {
        "colab": {
          "base_uri": "https://localhost:8080/"
        },
        "id": "9BkIt-dA9bFp",
        "outputId": "3fb96559-f172-47e4-9f72-1cc76a458e84"
      },
      "execution_count": 19,
      "outputs": [
        {
          "output_type": "stream",
          "name": "stdout",
          "text": [
            "El total de la lista es $65.18\n"
          ]
        }
      ]
    },
    {
      "cell_type": "code",
      "source": [
        "ticket_2 = [\n",
        "    (\"Aceite de oliva\", 6.99),\n",
        "    (\"Café\", 4.50),\n",
        "    (\"Chocolate\", 2.75),\n",
        "    (\"Jamón\", 7.25),\n",
        "    (\"Mantequilla\", 1.95),\n",
        "    (\"Yogur griego\", 1.50),\n",
        "    (\"Pavo\", 8.50),\n",
        "    (\"Atún enlatado\", 1.25),\n",
        "    (\"Salmón\", 12.99),\n",
        "    (\"Cereales\", 3.75),\n",
        "    (\"Naranjas\", 2.50),\n",
        "    (\"Plátanos\", 1.20),\n",
        "    (\"Pimiento rojo\", 1.75),\n",
        "    (\"Sandía\", 5.00),\n",
        "    (\"Cerveza\", 9.50),\n",
        "    (\"Vino tinto\", 15.75),\n",
        "    (\"Pasta de dientes\", 2.25),\n",
        "    (\"Acondicionador\", 4.25),\n",
        "    (\"Pan integral\", 2.20),\n",
        "    (\"Galletas saladas\", 1.80)\n",
        "]\n",
        "\n",
        "\n",
        "print(f'El total de la lista es ${total_lista(ticket_1 + ticket_2)}')"
      ],
      "metadata": {
        "colab": {
          "base_uri": "https://localhost:8080/"
        },
        "id": "T4iHKy9g_UR_",
        "outputId": "0532e59a-e8c1-4d3c-bf53-14d5db880034"
      },
      "execution_count": 21,
      "outputs": [
        {
          "output_type": "stream",
          "name": "stdout",
          "text": [
            "El total de la lista es $162.81\n"
          ]
        }
      ]
    }
  ]
}